{
  "cells": [
    {
      "cell_type": "markdown",
      "metadata": {
        "id": "Rmh0F3uZJWDN"
      },
      "source": [
        "<div style=\"display: flex; align-items: center;\">\n",
        "    <img src=\"https://github.com/angeloBuso/ppca-dados-massivos/blob/main/dados/UNB-logo.png?raw=true\" alt=\"UNB logo\" width=\"180\" style=\"margin-right: 10px;\">\n",
        "    <h1>Programa de Pós-graduação em Computação Aplicada – PPCA (UnB)</h1>\n",
        "</div>\n",
        "\n",
        "<h2>Análise Estatística de Dados e Informações</h2>\n",
        "\n",
        "<h5>Professor: João Gabriel de Moraes Souza</h5>\n",
        "<h5>Aluno: <a href=\"https://tr.ee/On58b8WbPz\" target=\"_blank\">Angelo Donizete Buso Júnior</a></h5>"
      ]
    },
    {
      "cell_type": "markdown",
      "metadata": {
        "id": "3lVRCpL-JWDZ"
      },
      "source": [
        "## **1. Compreensão do Problema de Negócio** *(Business Understanding)*\n",
        "\n",
        "A satisfação do cliente é um fator crítico para o sucesso e a sustentabilidade de qualquer empresa. Reclamações frequentes de consumidores podem indicar falhas em produtos, serviços ou no atendimento, impactando diretamente a imagem da empresa, a retenção de clientes e, consequentemente, a receita. Identificar e compreender os fatores que levam os consumidores a registrar queixas é fundamental para a construção de estratégias eficazes de melhoria contínua e gestão do relacionamento com o cliente (CRM).\n",
        "\n",
        "No ambiente altamente competitivo atual, a gestão proativa de reclamações pode diferenciar a empresa no mercado. Ao entender quais fatores influenciam as insatisfações, a empresa pode adotar medidas preventivas, melhorar produtos ou serviços e, assim, aumentar a lealdade do cliente. Uma falha nesse aspecto pode resultar não apenas em perda de clientes, mas também em danos à reputação e custos elevados com novas aquisições de clientes.\n",
        "\n",
        "Nesse cenário, a utilização de modelos preditivos baseados em Machine Learning (ML) é uma abordagem estratégica para identificar padrões e antecipar comportamentos de insatisfação. A análise de dados históricos permite reconhecer características e comportamentos de clientes que têm maior propensão a registrar queixas. Assim, a empresa pode agir preventivamente para reduzir o número de reclamações e melhorar a experiência do cliente.\n",
        "\n",
        "A análise proposta nesta tarefa busca entender o perfil dos consumidores insatisfeitos e identificar quais variáveis mais impactam nas reclamações. Com base no dataset [Customer Personality Analysis](https://www.kaggle.com/datasets/imakash3011/customer-personality-analysis/data), que contém informações como idade, renda, perfil familiar, padrão de consumo e resposta a promoções, será possível construir um modelo capaz de prever e explicar o surgimento de queixas.\n",
        "\n",
        "Essa análise é estratégica, pois permite:\n",
        "\n",
        "1. Antecipar comportamentos de insatisfação, permitindo ações preventivas.\n",
        "\n",
        "1. Melhorar a alocação de recursos em áreas críticas, como atendimento ao cliente e qualidade de produtos.\n",
        "\n",
        "1. Personalizar ofertas e serviços para perfis de clientes mais propensos a reclamar.\n",
        "\n",
        "1. Reduzir custos operacionais ao minimizar o impacto de reclamações recorrentes.\n",
        "\n",
        "Por meio da aplicação de técnicas de aprendizado supervisionado, será possível não apenas prever reclamações, mas também identificar as principais variáveis que influenciam esse comportamento. Isso proporciona insights valiosos para a tomada de decisão estratégica, tornando a empresa mais competitiva e eficiente no atendimento às necessidades de seus clientes.\n",
        "\n",
        "Portanto, este trabalho visa desenvolver uma solução preditiva utilizando Inteligência Artificial para identificar os principais fatores que levam às reclamações de clientes, permitindo que a empresa atue de forma proativa para elevar a satisfação e melhorar sua reputação no mercado.\n"
      ]
    },
    {
      "cell_type": "code",
      "execution_count": 1,
      "metadata": {
        "colab": {
          "base_uri": "https://localhost:8080/"
        },
        "id": "67DpmvmRJWDW",
        "outputId": "e3254b1a-4378-47c0-f272-6e042484a5cc"
      },
      "outputs": [
        {
          "name": "stdout",
          "output_type": "stream",
          "text": [
            "Versão do Seaborn: 0.13.2\n",
            "Versão do Pandas: 2.2.3\n"
          ]
        }
      ],
      "source": [
        "# Análise de Dados e Visualização**\n",
        "import pandas as pd               # Manipulação de dados\n",
        "import numpy as np                # Operações numéricas\n",
        "import matplotlib.pyplot as plt   # Visualização gráfica\n",
        "import seaborn as sns             # Visualização gráfica avançada\n",
        "from scipy import stats           # Estatísticas e testes estatísticos\n",
        "\n",
        "# Pré-Processamento de Dados**\n",
        "from datetime import datetime\n",
        "from sklearn.preprocessing import StandardScaler, LabelEncoder  # Normalização e codificação\n",
        "from imblearn.under_sampling import RandomUnderSampler          # Balanceamento (undersampling)\n",
        "from imblearn.over_sampling import SMOTE                        # Balanceamento (oversampling)\n",
        "from collections import Counter                                 # Contagem de classes\n",
        "from statsmodels.stats.outliers_influence import variance_inflation_factor  # VIF para multicolinearidade\n",
        "\n",
        "# Algoritmos de Machine Learning\n",
        "from sklearn.ensemble import RandomForestClassifier\n",
        "from sklearn.tree import DecisionTreeClassifier\n",
        "from sklearn.linear_model import SGDClassifier, LogisticRegression\n",
        "from sklearn.svm import SVC\n",
        "from xgboost import XGBClassifier\n",
        "from lightgbm import LGBMClassifier\n",
        "\n",
        "# Bibliotecas para Treinamento e Validação**\n",
        "from sklearn.model_selection import train_test_split, cross_val_score, GridSearchCV, StratifiedKFold  # Divisão de dados e validação cruzada\n",
        "\n",
        "# Avaliação de Modelos**\n",
        "from sklearn.metrics import (\n",
        "    confusion_matrix, accuracy_score, precision_score,\n",
        "    recall_score, classification_report, roc_auc_score, roc_curve, ConfusionMatrixDisplay\n",
        ")  # Métricas de avaliação\n",
        "from scikitplot.metrics import plot_confusion_matrix, plot_roc  # Visualização de métricas\n",
        "\n",
        "# Ignorar Warnings**\n",
        "import warnings\n",
        "warnings.filterwarnings(\"ignore\")\n",
        "\n",
        "# Verificação das Versões das Bibliotecas**\n",
        "print(\"Versão do Seaborn:\", sns.__version__)\n",
        "print(\"Versão do Pandas:\", pd.__version__)\n"
      ]
    },
    {
      "cell_type": "markdown",
      "metadata": {
        "id": "1lBGBz59JWDa"
      },
      "source": [
        "### **1.1 Dicionário de Dados**\n"
      ]
    },
    {
      "cell_type": "markdown",
      "metadata": {
        "id": "-dG5EOfgJWDa"
      },
      "source": [
        "#### Informações sobre os atributos:\n",
        "\n",
        "1. `ID`: Identificador único do consumidor.\n",
        "2. `Year_Birth`: Ano de nascimento do consumidor.\n",
        "3. `Education`: Nível de educação do consumidor.\n",
        "4. `Marital_Status`: Estado civil do consumidor.\n",
        "5. `Income`: Renda anual do consumidor.\n",
        "6. `Kidhome`: Número de crianças na casa do consumidor.\n",
        "7. `Teenhome`: Número de adolescentes na casa do consumidor.\n",
        "8. `Dt_Customer`: Data de inscrição do consumidor.\n",
        "9. `Recency`: Dias desde a última compra do consumidor.\n",
        "10. `MntWines`: Gasto em vinhos nos últimos 2 anos.\n",
        "11. `MntFruits`: Gasto em frutas nos últimos 2 anos.\n",
        "12. `MntMeatProducts`: Gasto em carnes nos últimos 2 anos.\n",
        "13. `MntFishProducts`: Gasto em peixes nos últimos 2 anos.\n",
        "14. `MntSweetProducts`: Gasto em doces nos últimos 2 anos.\n",
        "15. `MntGoldProds`: Gasto em produtos de ouro nos últimos 2 anos.\n",
        "16. `NumDealsPurchases`: Número de compras com desconto.\n",
        "17. `NumWebPurchases`: Número de compras pela web.\n",
        "18. `NumCatalogPurchases`: Número de compras por catálogo.\n",
        "19. `NumStorePurchases`: Número de compras em loja física.\n",
        "20. `NumWebVisitsMonth`: Número de visitas ao site no último mês.\n",
        "21. `AcceptedCmp1` a `AcceptedCmp5`: Participação em campanhas de marketing 1 a 5.\n",
        "22. `Response`: 1 se o cliente aceitou a oferta na ultima campanha.\n",
        "22. `Complain`:  Variável **alvo**, 1 se o consumidor fez uma queixa nos últimos 2 anos, caso contrário 0.\n",
        "23. `Z_CostContact` e `Z_Revenue`: Variáveis constantes sem relevância."
      ]
    },
    {
      "cell_type": "markdown",
      "metadata": {
        "id": "TtlD41TGJWDb"
      },
      "source": [
        "## **2. Coleta Dados**\n",
        "\n",
        "Como em todo projeto de machine learning, a qualidade e diversidade dos dados são fundamentais para o sucesso do modelo. Para esta análise, utilizaremos o dataset Customer Personality Analysis, disponível no [Kaggle](https://www.kaggle.com/datasets/imakash3011/customer-personality-analysis/data), que contém informações detalhadas sobre o perfil e comportamento de consumidores.\n",
        "\n",
        "Este conjunto de dados oferece uma visão do cliente, permitindo identificar padrões de comportamento que podem levar ao registro de reclamações. Neste projeto iremos atuar separando os dados em quatro grupos principais:\n",
        "\n",
        "1. Perfil do Cliente (People)\n",
        "`ID`, `Year_Birth`, `Education`, `Marital_Status`, `Income`, `Kidhome`, `Teenhome`, `Dt_Customer`, `Recency`, `Complain`.\n",
        "\n",
        "2. Consumo de Produtos (Products)\n",
        "`MntWines`, `MntFruits`, `MntMeatProducts`, `MntFishProducts`, `MntSweetProducts`, `MntGoldProds`.\n",
        "\n",
        "3. Resposta a Promoções (Promotion)\n",
        "`NumDealsPurchases`, `AcceptedCmp1-5`, `Response`.\n",
        "\n",
        "4. Canais de Compra (Place)\n",
        "`NumWebPurchases`, `NumCatalogPurchases`, `NumStorePurchases`, `NumWebVisitsMonth`.\n",
        "\n",
        "Essas informações nos permitirá compreender como o perfil social, o comportamento de compra e a sensibilidade a promoções influenciam a decisão do cliente de registrar uma reclamação. Com essa base de dados, será possível construir modelos preditivos que permitrá capturar padrões nesses dados e auxiliar a empresa na prevenção de reclamações e na melhoria da experiência do cliente."
      ]
    },
    {
      "cell_type": "markdown",
      "metadata": {
        "id": "kDdAml5cJWDc"
      },
      "source": [
        "**Dicas:**  \n",
        "1. Observar as extensão do arquivo dataSet.\n",
        "2. Verificar os acessos aos dataSet (LGPD).\n",
        "3. \"Timeframe\" dos dados (desde quando tem-se os dados).\n",
        "4. Valores Missing (será substituido por default ou outro valor - média, por exemplo).\n",
        "5. Cabeçalho (header=T), caso False, irá indicar cabeçalho.\n",
        "6. Dados possuem algum comentário.\n",
        "7. Possui delimitador os dados."
      ]
    },
    {
      "cell_type": "markdown",
      "metadata": {
        "id": "OAe0-6AAJWDd"
      },
      "source": [
        "### **2.1 Carga dados**\n",
        "\n",
        "**Dicas:**  \n",
        "\n",
        "(i) Observar as extensão do arquivo dataSet;\n",
        "\n",
        "(ii) Verificar os acessos aos dataSet;\n",
        "\n",
        "(iii) \"Timeframe\" dos dados (desde quando tem-se os dados);\n",
        "\n",
        "(iv) Valores Missing (será substituido por default ou outro valor - média, por exemplo);\n",
        "\n",
        "(v) Cabeçalho (header=T), caso False, irá indicar cabeçalho;\n",
        "\n",
        "(vi) Dados possuem algum comentário;\n",
        "\n",
        "(vii) Possui delimitador os dados;\n",
        "\n",
        "(viii) Até 3 dimensões PANDAS (1Series, 2DataFrame e 3Panel). Acima 3 dim NUMPY (nparray)."
      ]
    },
    {
      "cell_type": "code",
      "execution_count": 2,
      "metadata": {
        "colab": {
          "base_uri": "https://localhost:8080/",
          "height": 276
        },
        "id": "zupP-cB23hPs",
        "outputId": "e2212a95-43ce-41fc-941c-65d0af67ac87"
      },
      "outputs": [
        {
          "name": "stdout",
          "output_type": "stream",
          "text": [
            "Os dados possuem 2240 linhas e 29 colunas\n"
          ]
        },
        {
          "data": {
            "text/html": [
              "<div>\n",
              "<style scoped>\n",
              "    .dataframe tbody tr th:only-of-type {\n",
              "        vertical-align: middle;\n",
              "    }\n",
              "\n",
              "    .dataframe tbody tr th {\n",
              "        vertical-align: top;\n",
              "    }\n",
              "\n",
              "    .dataframe thead th {\n",
              "        text-align: right;\n",
              "    }\n",
              "</style>\n",
              "<table border=\"1\" class=\"dataframe\">\n",
              "  <thead>\n",
              "    <tr style=\"text-align: right;\">\n",
              "      <th></th>\n",
              "      <th>ID</th>\n",
              "      <th>Year_Birth</th>\n",
              "      <th>Education</th>\n",
              "      <th>Marital_Status</th>\n",
              "      <th>Income</th>\n",
              "      <th>Kidhome</th>\n",
              "      <th>Teenhome</th>\n",
              "      <th>Dt_Customer</th>\n",
              "      <th>Recency</th>\n",
              "      <th>MntWines</th>\n",
              "      <th>...</th>\n",
              "      <th>NumWebVisitsMonth</th>\n",
              "      <th>AcceptedCmp3</th>\n",
              "      <th>AcceptedCmp4</th>\n",
              "      <th>AcceptedCmp5</th>\n",
              "      <th>AcceptedCmp1</th>\n",
              "      <th>AcceptedCmp2</th>\n",
              "      <th>Complain</th>\n",
              "      <th>Z_CostContact</th>\n",
              "      <th>Z_Revenue</th>\n",
              "      <th>Response</th>\n",
              "    </tr>\n",
              "  </thead>\n",
              "  <tbody>\n",
              "    <tr>\n",
              "      <th>0</th>\n",
              "      <td>5524</td>\n",
              "      <td>1957</td>\n",
              "      <td>Graduation</td>\n",
              "      <td>Single</td>\n",
              "      <td>58138.0</td>\n",
              "      <td>0</td>\n",
              "      <td>0</td>\n",
              "      <td>04-09-2012</td>\n",
              "      <td>58</td>\n",
              "      <td>635</td>\n",
              "      <td>...</td>\n",
              "      <td>7</td>\n",
              "      <td>0</td>\n",
              "      <td>0</td>\n",
              "      <td>0</td>\n",
              "      <td>0</td>\n",
              "      <td>0</td>\n",
              "      <td>0</td>\n",
              "      <td>3</td>\n",
              "      <td>11</td>\n",
              "      <td>1</td>\n",
              "    </tr>\n",
              "    <tr>\n",
              "      <th>1</th>\n",
              "      <td>2174</td>\n",
              "      <td>1954</td>\n",
              "      <td>Graduation</td>\n",
              "      <td>Single</td>\n",
              "      <td>46344.0</td>\n",
              "      <td>1</td>\n",
              "      <td>1</td>\n",
              "      <td>08-03-2014</td>\n",
              "      <td>38</td>\n",
              "      <td>11</td>\n",
              "      <td>...</td>\n",
              "      <td>5</td>\n",
              "      <td>0</td>\n",
              "      <td>0</td>\n",
              "      <td>0</td>\n",
              "      <td>0</td>\n",
              "      <td>0</td>\n",
              "      <td>0</td>\n",
              "      <td>3</td>\n",
              "      <td>11</td>\n",
              "      <td>0</td>\n",
              "    </tr>\n",
              "    <tr>\n",
              "      <th>2</th>\n",
              "      <td>4141</td>\n",
              "      <td>1965</td>\n",
              "      <td>Graduation</td>\n",
              "      <td>Together</td>\n",
              "      <td>71613.0</td>\n",
              "      <td>0</td>\n",
              "      <td>0</td>\n",
              "      <td>21-08-2013</td>\n",
              "      <td>26</td>\n",
              "      <td>426</td>\n",
              "      <td>...</td>\n",
              "      <td>4</td>\n",
              "      <td>0</td>\n",
              "      <td>0</td>\n",
              "      <td>0</td>\n",
              "      <td>0</td>\n",
              "      <td>0</td>\n",
              "      <td>0</td>\n",
              "      <td>3</td>\n",
              "      <td>11</td>\n",
              "      <td>0</td>\n",
              "    </tr>\n",
              "    <tr>\n",
              "      <th>3</th>\n",
              "      <td>6182</td>\n",
              "      <td>1984</td>\n",
              "      <td>Graduation</td>\n",
              "      <td>Together</td>\n",
              "      <td>26646.0</td>\n",
              "      <td>1</td>\n",
              "      <td>0</td>\n",
              "      <td>10-02-2014</td>\n",
              "      <td>26</td>\n",
              "      <td>11</td>\n",
              "      <td>...</td>\n",
              "      <td>6</td>\n",
              "      <td>0</td>\n",
              "      <td>0</td>\n",
              "      <td>0</td>\n",
              "      <td>0</td>\n",
              "      <td>0</td>\n",
              "      <td>0</td>\n",
              "      <td>3</td>\n",
              "      <td>11</td>\n",
              "      <td>0</td>\n",
              "    </tr>\n",
              "    <tr>\n",
              "      <th>4</th>\n",
              "      <td>5324</td>\n",
              "      <td>1981</td>\n",
              "      <td>PhD</td>\n",
              "      <td>Married</td>\n",
              "      <td>58293.0</td>\n",
              "      <td>1</td>\n",
              "      <td>0</td>\n",
              "      <td>19-01-2014</td>\n",
              "      <td>94</td>\n",
              "      <td>173</td>\n",
              "      <td>...</td>\n",
              "      <td>5</td>\n",
              "      <td>0</td>\n",
              "      <td>0</td>\n",
              "      <td>0</td>\n",
              "      <td>0</td>\n",
              "      <td>0</td>\n",
              "      <td>0</td>\n",
              "      <td>3</td>\n",
              "      <td>11</td>\n",
              "      <td>0</td>\n",
              "    </tr>\n",
              "  </tbody>\n",
              "</table>\n",
              "<p>5 rows × 29 columns</p>\n",
              "</div>"
            ],
            "text/plain": [
              "     ID  Year_Birth   Education Marital_Status   Income  Kidhome  Teenhome  \\\n",
              "0  5524        1957  Graduation         Single  58138.0        0         0   \n",
              "1  2174        1954  Graduation         Single  46344.0        1         1   \n",
              "2  4141        1965  Graduation       Together  71613.0        0         0   \n",
              "3  6182        1984  Graduation       Together  26646.0        1         0   \n",
              "4  5324        1981         PhD        Married  58293.0        1         0   \n",
              "\n",
              "  Dt_Customer  Recency  MntWines  ...  NumWebVisitsMonth  AcceptedCmp3  \\\n",
              "0  04-09-2012       58       635  ...                  7             0   \n",
              "1  08-03-2014       38        11  ...                  5             0   \n",
              "2  21-08-2013       26       426  ...                  4             0   \n",
              "3  10-02-2014       26        11  ...                  6             0   \n",
              "4  19-01-2014       94       173  ...                  5             0   \n",
              "\n",
              "   AcceptedCmp4  AcceptedCmp5  AcceptedCmp1  AcceptedCmp2  Complain  \\\n",
              "0             0             0             0             0         0   \n",
              "1             0             0             0             0         0   \n",
              "2             0             0             0             0         0   \n",
              "3             0             0             0             0         0   \n",
              "4             0             0             0             0         0   \n",
              "\n",
              "   Z_CostContact  Z_Revenue  Response  \n",
              "0              3         11         1  \n",
              "1              3         11         0  \n",
              "2              3         11         0  \n",
              "3              3         11         0  \n",
              "4              3         11         0  \n",
              "\n",
              "[5 rows x 29 columns]"
            ]
          },
          "execution_count": 2,
          "metadata": {},
          "output_type": "execute_result"
        }
      ],
      "source": [
        "path = \"/home/buso/mestrado/aedi-ppca/dados/marketing_campaign.csv\"\n",
        "df = pd.read_csv(path, sep=\"\\t\")\n",
        "print('Os dados possuem {} linhas e {} colunas'.format(df.shape[0], df.shape[1]))\n",
        "df.head()"
      ]
    },
    {
      "cell_type": "markdown",
      "metadata": {
        "id": "tl1c_486JWDf"
      },
      "source": [
        "## **3. Análise Exploratória**\n"
      ]
    },
    {
      "cell_type": "markdown",
      "metadata": {
        "id": "YppOhsBtSvWz"
      },
      "source": [
        "### 3.1 Visão Geral dataSet\n",
        "Nesta estapa estamos interessados em entender melhor a pergunta ***\"Quais tipos de dados tem no nosso dataSet?\"***\n",
        "* Tipo Objeto que estamos trabalhando\n",
        "* Tipos Dados\n",
        "* Shape - Dimensionalidade\n",
        "* Índices\n",
        "* Descrição dos dados"
      ]
    },
    {
      "cell_type": "code",
      "execution_count": 3,
      "metadata": {
        "id": "HZVq--kfJWDg"
      },
      "outputs": [],
      "source": [
        "def visaogeral(df, mensagem):\n",
        "    print(f'{mensagem}:\\n')\n",
        "    print(\"Qtd Observações:\", df.shape[0])\n",
        "    print(\"\\nQtd Atributos:\", df.shape[1])\n",
        "    print(\"\\nAtributos:\")\n",
        "    print(df.columns.values)\n",
        "    # print(df.columns.tolist())\n",
        "    print(\"\\nQtd Valores missing:\", df.isnull().sum().values.sum())\n",
        "    print(\"\\nValores Unicos:\")\n",
        "    print(df.nunique())"
      ]
    },
    {
      "cell_type": "code",
      "execution_count": 4,
      "metadata": {
        "colab": {
          "base_uri": "https://localhost:8080/"
        },
        "id": "1XI-544iJWDg",
        "outputId": "023e302f-3d01-49c6-9fe0-19a9096579b0",
        "scrolled": true
      },
      "outputs": [
        {
          "name": "stdout",
          "output_type": "stream",
          "text": [
            "Visão Geral do dataSet:\n",
            "\n",
            "Qtd Observações: 2240\n",
            "\n",
            "Qtd Atributos: 29\n",
            "\n",
            "Atributos:\n",
            "['ID' 'Year_Birth' 'Education' 'Marital_Status' 'Income' 'Kidhome'\n",
            " 'Teenhome' 'Dt_Customer' 'Recency' 'MntWines' 'MntFruits'\n",
            " 'MntMeatProducts' 'MntFishProducts' 'MntSweetProducts' 'MntGoldProds'\n",
            " 'NumDealsPurchases' 'NumWebPurchases' 'NumCatalogPurchases'\n",
            " 'NumStorePurchases' 'NumWebVisitsMonth' 'AcceptedCmp3' 'AcceptedCmp4'\n",
            " 'AcceptedCmp5' 'AcceptedCmp1' 'AcceptedCmp2' 'Complain' 'Z_CostContact'\n",
            " 'Z_Revenue' 'Response']\n",
            "\n",
            "Qtd Valores missing: 24\n",
            "\n",
            "Valores Unicos:\n",
            "ID                     2240\n",
            "Year_Birth               59\n",
            "Education                 5\n",
            "Marital_Status            8\n",
            "Income                 1974\n",
            "Kidhome                   3\n",
            "Teenhome                  3\n",
            "Dt_Customer             663\n",
            "Recency                 100\n",
            "MntWines                776\n",
            "MntFruits               158\n",
            "MntMeatProducts         558\n",
            "MntFishProducts         182\n",
            "MntSweetProducts        177\n",
            "MntGoldProds            213\n",
            "NumDealsPurchases        15\n",
            "NumWebPurchases          15\n",
            "NumCatalogPurchases      14\n",
            "NumStorePurchases        14\n",
            "NumWebVisitsMonth        16\n",
            "AcceptedCmp3              2\n",
            "AcceptedCmp4              2\n",
            "AcceptedCmp5              2\n",
            "AcceptedCmp1              2\n",
            "AcceptedCmp2              2\n",
            "Complain                  2\n",
            "Z_CostContact             1\n",
            "Z_Revenue                 1\n",
            "Response                  2\n",
            "dtype: int64\n"
          ]
        }
      ],
      "source": [
        "visaogeral(df,'Visão Geral do dataSet')"
      ]
    },
    {
      "cell_type": "markdown",
      "metadata": {},
      "source": [
        "O conjunto de dados possui quase **2,3 mil observações** e **29 atributos**, com 24 possíveis valores ausentes (*missing*). Os atributos incluem dados pessoais, históricos de consumo e resultados de campanhas promocionais. Abaixo, destacamos os atributos qualitativos e quantitativos:\n",
        "\n",
        "- **Atributos qualitativos**: Podem representar categorias, entrega alguma qualidade a informação:\n",
        "  - `Education` (5 valores únicos): Grau de instrução do cliente.\n",
        "  - `Marital_Status` (8 valores únicos): Estado cívil.\n",
        "  - `Complain` (2 valores únicos): **Variável Target** , se houve ou não reclamação.\n",
        "  - `AcceptedCmp1` (2 valores únicos): Indica se houve aceite ou não da promoção 1.\n",
        "  - `AcceptedCmp2` (2 valores únicos): Indica se houve aceite ou não da promoção 2.\n",
        "  - `AcceptedCmp3` (2 valores únicos): Indica se houve aceite ou não da promoção 3.\n",
        "  - `AcceptedCmp4` (2 valores únicos): Indica se houve aceite ou não da promoção 4.\n",
        "  - `AcceptedCmp5` (2 valores únicos): Indica se houve aceite ou não da promoção 5.\n",
        "  - `Response` (2 valores únicos): Indica se houve aceite ou não da última campanha.\n",
        "\n",
        "- **Atributos quantitativos**: Incluem variáveis numéricas contínuas, como `Income`, `MntWines`, `MntFruits`, `MntMeatProducts`, \n",
        "`MntFishProducts`, `MntSweetProducts`, `MntGoldProds`. Os demais atributos, *a priori* demonstra ser *features* numéricas discretas, sendo que após o processo de exploração dos dados (EDA) seja interessante realizar algumas trasformaões em categórias nelas.\n",
        "\n",
        "Nosso objetivo é realmente entender se esses formatos representam a **informação** que a *feature* precisa passar!\n",
        "\n",
        "Essa combinação de atributos qualitativos e quantitativos é fundamental para capturar os diferentes fatores que influenciam o registro de reclação de clientes. Em modelo de ML esses atributos, seja ele qualitativos ou quantitativos, salvo a nossa variável alvo, serão analisados como variáveis independentes no modelo preditivo, ou seja, ajuda a explicar a variável alvo!\n"
      ]
    },
    {
      "cell_type": "code",
      "execution_count": 5,
      "metadata": {
        "colab": {
          "base_uri": "https://localhost:8080/"
        },
        "id": "kT4PChGwxffX",
        "outputId": "dbc52f41-ac70-432a-a5d3-834833182cb8"
      },
      "outputs": [
        {
          "name": "stdout",
          "output_type": "stream",
          "text": [
            "<class 'pandas.core.frame.DataFrame'>\n",
            "RangeIndex: 2240 entries, 0 to 2239\n",
            "Data columns (total 29 columns):\n",
            " #   Column               Non-Null Count  Dtype  \n",
            "---  ------               --------------  -----  \n",
            " 0   ID                   2240 non-null   int64  \n",
            " 1   Year_Birth           2240 non-null   int64  \n",
            " 2   Education            2240 non-null   object \n",
            " 3   Marital_Status       2240 non-null   object \n",
            " 4   Income               2216 non-null   float64\n",
            " 5   Kidhome              2240 non-null   int64  \n",
            " 6   Teenhome             2240 non-null   int64  \n",
            " 7   Dt_Customer          2240 non-null   object \n",
            " 8   Recency              2240 non-null   int64  \n",
            " 9   MntWines             2240 non-null   int64  \n",
            " 10  MntFruits            2240 non-null   int64  \n",
            " 11  MntMeatProducts      2240 non-null   int64  \n",
            " 12  MntFishProducts      2240 non-null   int64  \n",
            " 13  MntSweetProducts     2240 non-null   int64  \n",
            " 14  MntGoldProds         2240 non-null   int64  \n",
            " 15  NumDealsPurchases    2240 non-null   int64  \n",
            " 16  NumWebPurchases      2240 non-null   int64  \n",
            " 17  NumCatalogPurchases  2240 non-null   int64  \n",
            " 18  NumStorePurchases    2240 non-null   int64  \n",
            " 19  NumWebVisitsMonth    2240 non-null   int64  \n",
            " 20  AcceptedCmp3         2240 non-null   int64  \n",
            " 21  AcceptedCmp4         2240 non-null   int64  \n",
            " 22  AcceptedCmp5         2240 non-null   int64  \n",
            " 23  AcceptedCmp1         2240 non-null   int64  \n",
            " 24  AcceptedCmp2         2240 non-null   int64  \n",
            " 25  Complain             2240 non-null   int64  \n",
            " 26  Z_CostContact        2240 non-null   int64  \n",
            " 27  Z_Revenue            2240 non-null   int64  \n",
            " 28  Response             2240 non-null   int64  \n",
            "dtypes: float64(1), int64(25), object(3)\n",
            "memory usage: 507.6+ KB\n"
          ]
        }
      ],
      "source": [
        "df.info()"
      ]
    },
    {
      "cell_type": "markdown",
      "metadata": {},
      "source": [
        "A partir da análise exploratória realizada, já é possível ter uma **compreensão situacional** sobre o conjunto de dados. O dataset contém **2.240 registros** de clientes, com informações que indicam se eles fizeram ou não uma reclamação.\n",
        "\n",
        "A coluna **`ID`**, devido à sua nomenclatura e à alta quantidade de valores únicos, funciona como um **identificador exclusivo de cada cliente** e não possui valor preditivo. Por isso, será excluída do modelo.\n",
        "\n",
        "A análise de valores únicos revelou a presença de variáveis **categóricas**, o que indica a necessidade de aplicar técnicas de **codificação de variáveis**, como a criação de **variáveis dummies** (*One-Hot Encoding*, ou outra técnica), para que possam ser utilizadas pelo modelo de machine learning.\n",
        "\n",
        "O dataset **apresentou valores ausentes** nesta fase inicial, sendo o atributo `Income` com 24 dados ausentes (2240 - 2216). Importante ressaltar que, durante o processo de **engenharia de atributos** (*feature engineering*) e **transformação de variáveis**, poderá surgir mais valores nulos em decorrência de operações como discretização, normalização ou criação de novas variáveis, a depender da necessidade.\n",
        "\n",
        "Portanto, iremos tratar esses valores nulos já encontrados e ainda **monitorar e tratar** possíveis valores ausentes que possa surgir, para garantir a **qualidade e integridade dos dados**, assegurando um bom desempenho do modelo preditivo.\n"
      ]
    },
    {
      "cell_type": "markdown",
      "metadata": {
        "id": "UU4WmS9-JWDh"
      },
      "source": [
        "**TRADE-OFF's da Ciência de Dados!**\n",
        "\n",
        "Se o número de **linhas/observações** no seu arquivo for **muito grande**, o algoritmo pode levar **muito tempo** para ser **treinado**. Se o número de **registros for muito pequeno**, você pode não ter registros suficientes para treinar seu modelo (**underfitting**- decora ponto dos dados).\n",
        "\n",
        "Se você tiver **muitas colunas/atributos** em seu arquivo, o algoritmo pode apresentar problemas de performance devido a **alta dimensionalidade**.\n",
        "\n",
        "A melhor solução vai depender de cada caso. Mas lembre-se: **treine** seu modelo em um subset do seu conjunto de dados maior **(70% treino)** e depois aplique o modelo a novos dados **(30% teste)** para verificar a performance. Uma boa prática é ter uma massa de dados para **validação durante o treinamento**.\n",
        "\n",
        "\n",
        "Se o número de linhas/observações no seu conjunto de dados for muito grande, o treinamento do modelo pode ser demorado, especialmente para algoritmos mais complexos. Nesse caso, técnicas como amostragem representativa, processamento distribuído (ambientes paralelizados) ou redução de dimensionalidade podem ajudar. Por outro lado, se o número de registros for muito pequeno, o modelo pode não capturar padrões gerais, levando a underfitting (quando o modelo \"simplesmente decora\" os pontos do conjunto de dados sem aprender generalizações úteis).\n",
        "\n",
        "Além disso, ter muitas colunas/atributos pode causar problemas de alta dimensionalidade, dificultando o aprendizado do modelo e aumentando o risco de overfitting (quando o modelo se ajusta demais aos dados de treino, perdendo capacidade de generalizar). Métodos como seleção de características ou redução de dimensionalidade (ex.: PCA) são úteis para mitigar esses problemas.\n",
        "\n",
        "A prática recomendada é dividir o conjunto de dados em treino (70%) e teste (30%), para avaliar o modelo em dados novos. Além disso, durante o treinamento, é importante usar uma massa de dados para validação (ex.: validação cruzada), garantindo que o modelo não dependa apenas de uma única divisão de dados e tenha boa capacidade de generalização.\n",
        "\n",
        "Em resumo, a melhor solução varia conforme o problema, mas a análise cuidadosa do tamanho e da complexidade dos dados é essencial para treinar um modelo eficiente e confiável."
      ]
    },
    {
      "cell_type": "markdown",
      "metadata": {
        "id": "SBPx0gYx1WWO"
      },
      "source": [
        "Observando uma amostra inicial e uma amostra final do dataSet."
      ]
    },
    {
      "cell_type": "code",
      "execution_count": 6,
      "metadata": {
        "colab": {
          "base_uri": "https://localhost:8080/",
          "height": 206
        },
        "id": "yzZcmJ6r1VqF",
        "outputId": "4208c66b-d7ab-452e-b5b4-8fe94ca3ef0c"
      },
      "outputs": [
        {
          "data": {
            "text/html": [
              "<div>\n",
              "<style scoped>\n",
              "    .dataframe tbody tr th:only-of-type {\n",
              "        vertical-align: middle;\n",
              "    }\n",
              "\n",
              "    .dataframe tbody tr th {\n",
              "        vertical-align: top;\n",
              "    }\n",
              "\n",
              "    .dataframe thead th {\n",
              "        text-align: right;\n",
              "    }\n",
              "</style>\n",
              "<table border=\"1\" class=\"dataframe\">\n",
              "  <thead>\n",
              "    <tr style=\"text-align: right;\">\n",
              "      <th></th>\n",
              "      <th>ID</th>\n",
              "      <th>Year_Birth</th>\n",
              "      <th>Education</th>\n",
              "      <th>Marital_Status</th>\n",
              "      <th>Income</th>\n",
              "      <th>Kidhome</th>\n",
              "      <th>Teenhome</th>\n",
              "      <th>Dt_Customer</th>\n",
              "      <th>Recency</th>\n",
              "      <th>MntWines</th>\n",
              "      <th>...</th>\n",
              "      <th>NumWebVisitsMonth</th>\n",
              "      <th>AcceptedCmp3</th>\n",
              "      <th>AcceptedCmp4</th>\n",
              "      <th>AcceptedCmp5</th>\n",
              "      <th>AcceptedCmp1</th>\n",
              "      <th>AcceptedCmp2</th>\n",
              "      <th>Complain</th>\n",
              "      <th>Z_CostContact</th>\n",
              "      <th>Z_Revenue</th>\n",
              "      <th>Response</th>\n",
              "    </tr>\n",
              "  </thead>\n",
              "  <tbody>\n",
              "    <tr>\n",
              "      <th>0</th>\n",
              "      <td>5524</td>\n",
              "      <td>1957</td>\n",
              "      <td>Graduation</td>\n",
              "      <td>Single</td>\n",
              "      <td>58138.0</td>\n",
              "      <td>0</td>\n",
              "      <td>0</td>\n",
              "      <td>04-09-2012</td>\n",
              "      <td>58</td>\n",
              "      <td>635</td>\n",
              "      <td>...</td>\n",
              "      <td>7</td>\n",
              "      <td>0</td>\n",
              "      <td>0</td>\n",
              "      <td>0</td>\n",
              "      <td>0</td>\n",
              "      <td>0</td>\n",
              "      <td>0</td>\n",
              "      <td>3</td>\n",
              "      <td>11</td>\n",
              "      <td>1</td>\n",
              "    </tr>\n",
              "    <tr>\n",
              "      <th>1</th>\n",
              "      <td>2174</td>\n",
              "      <td>1954</td>\n",
              "      <td>Graduation</td>\n",
              "      <td>Single</td>\n",
              "      <td>46344.0</td>\n",
              "      <td>1</td>\n",
              "      <td>1</td>\n",
              "      <td>08-03-2014</td>\n",
              "      <td>38</td>\n",
              "      <td>11</td>\n",
              "      <td>...</td>\n",
              "      <td>5</td>\n",
              "      <td>0</td>\n",
              "      <td>0</td>\n",
              "      <td>0</td>\n",
              "      <td>0</td>\n",
              "      <td>0</td>\n",
              "      <td>0</td>\n",
              "      <td>3</td>\n",
              "      <td>11</td>\n",
              "      <td>0</td>\n",
              "    </tr>\n",
              "    <tr>\n",
              "      <th>2</th>\n",
              "      <td>4141</td>\n",
              "      <td>1965</td>\n",
              "      <td>Graduation</td>\n",
              "      <td>Together</td>\n",
              "      <td>71613.0</td>\n",
              "      <td>0</td>\n",
              "      <td>0</td>\n",
              "      <td>21-08-2013</td>\n",
              "      <td>26</td>\n",
              "      <td>426</td>\n",
              "      <td>...</td>\n",
              "      <td>4</td>\n",
              "      <td>0</td>\n",
              "      <td>0</td>\n",
              "      <td>0</td>\n",
              "      <td>0</td>\n",
              "      <td>0</td>\n",
              "      <td>0</td>\n",
              "      <td>3</td>\n",
              "      <td>11</td>\n",
              "      <td>0</td>\n",
              "    </tr>\n",
              "    <tr>\n",
              "      <th>3</th>\n",
              "      <td>6182</td>\n",
              "      <td>1984</td>\n",
              "      <td>Graduation</td>\n",
              "      <td>Together</td>\n",
              "      <td>26646.0</td>\n",
              "      <td>1</td>\n",
              "      <td>0</td>\n",
              "      <td>10-02-2014</td>\n",
              "      <td>26</td>\n",
              "      <td>11</td>\n",
              "      <td>...</td>\n",
              "      <td>6</td>\n",
              "      <td>0</td>\n",
              "      <td>0</td>\n",
              "      <td>0</td>\n",
              "      <td>0</td>\n",
              "      <td>0</td>\n",
              "      <td>0</td>\n",
              "      <td>3</td>\n",
              "      <td>11</td>\n",
              "      <td>0</td>\n",
              "    </tr>\n",
              "    <tr>\n",
              "      <th>4</th>\n",
              "      <td>5324</td>\n",
              "      <td>1981</td>\n",
              "      <td>PhD</td>\n",
              "      <td>Married</td>\n",
              "      <td>58293.0</td>\n",
              "      <td>1</td>\n",
              "      <td>0</td>\n",
              "      <td>19-01-2014</td>\n",
              "      <td>94</td>\n",
              "      <td>173</td>\n",
              "      <td>...</td>\n",
              "      <td>5</td>\n",
              "      <td>0</td>\n",
              "      <td>0</td>\n",
              "      <td>0</td>\n",
              "      <td>0</td>\n",
              "      <td>0</td>\n",
              "      <td>0</td>\n",
              "      <td>3</td>\n",
              "      <td>11</td>\n",
              "      <td>0</td>\n",
              "    </tr>\n",
              "  </tbody>\n",
              "</table>\n",
              "<p>5 rows × 29 columns</p>\n",
              "</div>"
            ],
            "text/plain": [
              "     ID  Year_Birth   Education Marital_Status   Income  Kidhome  Teenhome  \\\n",
              "0  5524        1957  Graduation         Single  58138.0        0         0   \n",
              "1  2174        1954  Graduation         Single  46344.0        1         1   \n",
              "2  4141        1965  Graduation       Together  71613.0        0         0   \n",
              "3  6182        1984  Graduation       Together  26646.0        1         0   \n",
              "4  5324        1981         PhD        Married  58293.0        1         0   \n",
              "\n",
              "  Dt_Customer  Recency  MntWines  ...  NumWebVisitsMonth  AcceptedCmp3  \\\n",
              "0  04-09-2012       58       635  ...                  7             0   \n",
              "1  08-03-2014       38        11  ...                  5             0   \n",
              "2  21-08-2013       26       426  ...                  4             0   \n",
              "3  10-02-2014       26        11  ...                  6             0   \n",
              "4  19-01-2014       94       173  ...                  5             0   \n",
              "\n",
              "   AcceptedCmp4  AcceptedCmp5  AcceptedCmp1  AcceptedCmp2  Complain  \\\n",
              "0             0             0             0             0         0   \n",
              "1             0             0             0             0         0   \n",
              "2             0             0             0             0         0   \n",
              "3             0             0             0             0         0   \n",
              "4             0             0             0             0         0   \n",
              "\n",
              "   Z_CostContact  Z_Revenue  Response  \n",
              "0              3         11         1  \n",
              "1              3         11         0  \n",
              "2              3         11         0  \n",
              "3              3         11         0  \n",
              "4              3         11         0  \n",
              "\n",
              "[5 rows x 29 columns]"
            ]
          },
          "execution_count": 6,
          "metadata": {},
          "output_type": "execute_result"
        }
      ],
      "source": [
        "df.head()"
      ]
    },
    {
      "cell_type": "code",
      "execution_count": 7,
      "metadata": {
        "colab": {
          "base_uri": "https://localhost:8080/",
          "height": 206
        },
        "id": "e6GZQewhJWDi",
        "outputId": "1379d1f1-2d30-4d65-e1f8-8fc5c2b967d6"
      },
      "outputs": [
        {
          "data": {
            "text/html": [
              "<div>\n",
              "<style scoped>\n",
              "    .dataframe tbody tr th:only-of-type {\n",
              "        vertical-align: middle;\n",
              "    }\n",
              "\n",
              "    .dataframe tbody tr th {\n",
              "        vertical-align: top;\n",
              "    }\n",
              "\n",
              "    .dataframe thead th {\n",
              "        text-align: right;\n",
              "    }\n",
              "</style>\n",
              "<table border=\"1\" class=\"dataframe\">\n",
              "  <thead>\n",
              "    <tr style=\"text-align: right;\">\n",
              "      <th></th>\n",
              "      <th>ID</th>\n",
              "      <th>Year_Birth</th>\n",
              "      <th>Education</th>\n",
              "      <th>Marital_Status</th>\n",
              "      <th>Income</th>\n",
              "      <th>Kidhome</th>\n",
              "      <th>Teenhome</th>\n",
              "      <th>Dt_Customer</th>\n",
              "      <th>Recency</th>\n",
              "      <th>MntWines</th>\n",
              "      <th>...</th>\n",
              "      <th>NumWebVisitsMonth</th>\n",
              "      <th>AcceptedCmp3</th>\n",
              "      <th>AcceptedCmp4</th>\n",
              "      <th>AcceptedCmp5</th>\n",
              "      <th>AcceptedCmp1</th>\n",
              "      <th>AcceptedCmp2</th>\n",
              "      <th>Complain</th>\n",
              "      <th>Z_CostContact</th>\n",
              "      <th>Z_Revenue</th>\n",
              "      <th>Response</th>\n",
              "    </tr>\n",
              "  </thead>\n",
              "  <tbody>\n",
              "    <tr>\n",
              "      <th>2235</th>\n",
              "      <td>10870</td>\n",
              "      <td>1967</td>\n",
              "      <td>Graduation</td>\n",
              "      <td>Married</td>\n",
              "      <td>61223.0</td>\n",
              "      <td>0</td>\n",
              "      <td>1</td>\n",
              "      <td>13-06-2013</td>\n",
              "      <td>46</td>\n",
              "      <td>709</td>\n",
              "      <td>...</td>\n",
              "      <td>5</td>\n",
              "      <td>0</td>\n",
              "      <td>0</td>\n",
              "      <td>0</td>\n",
              "      <td>0</td>\n",
              "      <td>0</td>\n",
              "      <td>0</td>\n",
              "      <td>3</td>\n",
              "      <td>11</td>\n",
              "      <td>0</td>\n",
              "    </tr>\n",
              "    <tr>\n",
              "      <th>2236</th>\n",
              "      <td>4001</td>\n",
              "      <td>1946</td>\n",
              "      <td>PhD</td>\n",
              "      <td>Together</td>\n",
              "      <td>64014.0</td>\n",
              "      <td>2</td>\n",
              "      <td>1</td>\n",
              "      <td>10-06-2014</td>\n",
              "      <td>56</td>\n",
              "      <td>406</td>\n",
              "      <td>...</td>\n",
              "      <td>7</td>\n",
              "      <td>0</td>\n",
              "      <td>0</td>\n",
              "      <td>0</td>\n",
              "      <td>1</td>\n",
              "      <td>0</td>\n",
              "      <td>0</td>\n",
              "      <td>3</td>\n",
              "      <td>11</td>\n",
              "      <td>0</td>\n",
              "    </tr>\n",
              "    <tr>\n",
              "      <th>2237</th>\n",
              "      <td>7270</td>\n",
              "      <td>1981</td>\n",
              "      <td>Graduation</td>\n",
              "      <td>Divorced</td>\n",
              "      <td>56981.0</td>\n",
              "      <td>0</td>\n",
              "      <td>0</td>\n",
              "      <td>25-01-2014</td>\n",
              "      <td>91</td>\n",
              "      <td>908</td>\n",
              "      <td>...</td>\n",
              "      <td>6</td>\n",
              "      <td>0</td>\n",
              "      <td>1</td>\n",
              "      <td>0</td>\n",
              "      <td>0</td>\n",
              "      <td>0</td>\n",
              "      <td>0</td>\n",
              "      <td>3</td>\n",
              "      <td>11</td>\n",
              "      <td>0</td>\n",
              "    </tr>\n",
              "    <tr>\n",
              "      <th>2238</th>\n",
              "      <td>8235</td>\n",
              "      <td>1956</td>\n",
              "      <td>Master</td>\n",
              "      <td>Together</td>\n",
              "      <td>69245.0</td>\n",
              "      <td>0</td>\n",
              "      <td>1</td>\n",
              "      <td>24-01-2014</td>\n",
              "      <td>8</td>\n",
              "      <td>428</td>\n",
              "      <td>...</td>\n",
              "      <td>3</td>\n",
              "      <td>0</td>\n",
              "      <td>0</td>\n",
              "      <td>0</td>\n",
              "      <td>0</td>\n",
              "      <td>0</td>\n",
              "      <td>0</td>\n",
              "      <td>3</td>\n",
              "      <td>11</td>\n",
              "      <td>0</td>\n",
              "    </tr>\n",
              "    <tr>\n",
              "      <th>2239</th>\n",
              "      <td>9405</td>\n",
              "      <td>1954</td>\n",
              "      <td>PhD</td>\n",
              "      <td>Married</td>\n",
              "      <td>52869.0</td>\n",
              "      <td>1</td>\n",
              "      <td>1</td>\n",
              "      <td>15-10-2012</td>\n",
              "      <td>40</td>\n",
              "      <td>84</td>\n",
              "      <td>...</td>\n",
              "      <td>7</td>\n",
              "      <td>0</td>\n",
              "      <td>0</td>\n",
              "      <td>0</td>\n",
              "      <td>0</td>\n",
              "      <td>0</td>\n",
              "      <td>0</td>\n",
              "      <td>3</td>\n",
              "      <td>11</td>\n",
              "      <td>1</td>\n",
              "    </tr>\n",
              "  </tbody>\n",
              "</table>\n",
              "<p>5 rows × 29 columns</p>\n",
              "</div>"
            ],
            "text/plain": [
              "         ID  Year_Birth   Education Marital_Status   Income  Kidhome  \\\n",
              "2235  10870        1967  Graduation        Married  61223.0        0   \n",
              "2236   4001        1946         PhD       Together  64014.0        2   \n",
              "2237   7270        1981  Graduation       Divorced  56981.0        0   \n",
              "2238   8235        1956      Master       Together  69245.0        0   \n",
              "2239   9405        1954         PhD        Married  52869.0        1   \n",
              "\n",
              "      Teenhome Dt_Customer  Recency  MntWines  ...  NumWebVisitsMonth  \\\n",
              "2235         1  13-06-2013       46       709  ...                  5   \n",
              "2236         1  10-06-2014       56       406  ...                  7   \n",
              "2237         0  25-01-2014       91       908  ...                  6   \n",
              "2238         1  24-01-2014        8       428  ...                  3   \n",
              "2239         1  15-10-2012       40        84  ...                  7   \n",
              "\n",
              "      AcceptedCmp3  AcceptedCmp4  AcceptedCmp5  AcceptedCmp1  AcceptedCmp2  \\\n",
              "2235             0             0             0             0             0   \n",
              "2236             0             0             0             1             0   \n",
              "2237             0             1             0             0             0   \n",
              "2238             0             0             0             0             0   \n",
              "2239             0             0             0             0             0   \n",
              "\n",
              "      Complain  Z_CostContact  Z_Revenue  Response  \n",
              "2235         0              3         11         0  \n",
              "2236         0              3         11         0  \n",
              "2237         0              3         11         0  \n",
              "2238         0              3         11         0  \n",
              "2239         0              3         11         1  \n",
              "\n",
              "[5 rows x 29 columns]"
            ]
          },
          "execution_count": 7,
          "metadata": {},
          "output_type": "execute_result"
        }
      ],
      "source": [
        "df.tail()"
      ]
    },
    {
      "cell_type": "markdown",
      "metadata": {
        "id": "GtnKyWF21Tes"
      },
      "source": [
        "Relembrando o shape dos dados:"
      ]
    },
    {
      "cell_type": "code",
      "execution_count": 8,
      "metadata": {
        "colab": {
          "base_uri": "https://localhost:8080/"
        },
        "id": "MwKrCLTCJWDi",
        "outputId": "b2badc90-6d01-497c-9c69-8ff936577860"
      },
      "outputs": [
        {
          "name": "stdout",
          "output_type": "stream",
          "text": [
            "Os dados possuem 2240.00 linhas e 29 colunas\n"
          ]
        }
      ],
      "source": [
        "print('Os dados possuem {:.2f} linhas e {} colunas'.format(df.shape[0], df.shape[1]))"
      ]
    },
    {
      "cell_type": "code",
      "execution_count": 9,
      "metadata": {
        "colab": {
          "base_uri": "https://localhost:8080/"
        },
        "id": "nRU3_vvg4CWF",
        "outputId": "ccbf1d25-aef4-41b1-f420-da416c75bb7e"
      },
      "outputs": [
        {
          "data": {
            "text/plain": [
              "RangeIndex(start=0, stop=2240, step=1)"
            ]
          },
          "execution_count": 9,
          "metadata": {},
          "output_type": "execute_result"
        }
      ],
      "source": [
        "# checando índice (endereço de cada obs) e sua distribuição\n",
        "df.index"
      ]
    },
    {
      "cell_type": "code",
      "execution_count": 10,
      "metadata": {
        "colab": {
          "base_uri": "https://localhost:8080/"
        },
        "id": "wRP4dmARBLpV",
        "outputId": "0eecf0be-d7db-462d-9b3d-6cea53d33370"
      },
      "outputs": [
        {
          "data": {
            "text/plain": [
              "Index(['ID', 'Year_Birth', 'Education', 'Marital_Status', 'Income', 'Kidhome',\n",
              "       'Teenhome', 'Dt_Customer', 'Recency', 'MntWines', 'MntFruits',\n",
              "       'MntMeatProducts', 'MntFishProducts', 'MntSweetProducts',\n",
              "       'MntGoldProds', 'NumDealsPurchases', 'NumWebPurchases',\n",
              "       'NumCatalogPurchases', 'NumStorePurchases', 'NumWebVisitsMonth',\n",
              "       'AcceptedCmp3', 'AcceptedCmp4', 'AcceptedCmp5', 'AcceptedCmp1',\n",
              "       'AcceptedCmp2', 'Complain', 'Z_CostContact', 'Z_Revenue', 'Response'],\n",
              "      dtype='object')"
            ]
          },
          "execution_count": 10,
          "metadata": {},
          "output_type": "execute_result"
        }
      ],
      "source": [
        "# checando os nomes das colunas\n",
        "df.columns"
      ]
    },
    {
      "cell_type": "markdown",
      "metadata": {},
      "source": [
        "#### **3.1.1 Variável Alvo**\n",
        "\n",
        "A **variável alvo** deste estudo é o atributo **`Complain`**, que indica se o cliente realizou ou não uma reclamação na empresa. Essa variável é categórica binária e representa o resultado que o modelo de machine learning deve prever. Seus valores são definidos da seguinte forma:\n",
        "\n",
        "- **0** → O cliente **não realizou uma reclamação** na empresa.  \n",
        "- **1** → O cliente **realizou uma reclamação** na empresa."
      ]
    },
    {
      "cell_type": "markdown",
      "metadata": {
        "id": "RslhdluGJWDo"
      },
      "source": [
        "#####  3.1.1.1  Amplitude"
      ]
    },
    {
      "cell_type": "code",
      "execution_count": 11,
      "metadata": {
        "colab": {
          "base_uri": "https://localhost:8080/",
          "height": 335
        },
        "id": "tAlCqSiVJQqx",
        "outputId": "b2b3aeaa-d701-4124-f8b3-568fa033eb43"
      },
      "outputs": [
        {
          "data": {
            "text/plain": [
              "count    2240.000000\n",
              "mean        0.009375\n",
              "std         0.096391\n",
              "min         0.000000\n",
              "25%         0.000000\n",
              "50%         0.000000\n",
              "75%         0.000000\n",
              "max         1.000000\n",
              "Name: Complain, dtype: float64"
            ]
          },
          "execution_count": 11,
          "metadata": {},
          "output_type": "execute_result"
        }
      ],
      "source": [
        "df['Complain'].describe()"
      ]
    },
    {
      "cell_type": "code",
      "execution_count": 12,
      "metadata": {
        "colab": {
          "base_uri": "https://localhost:8080/"
        },
        "id": "ZcBlxGlBJ4GH",
        "outputId": "03efed85-ae7c-43b5-e473-3deeb8937253"
      },
      "outputs": [
        {
          "data": {
            "text/plain": [
              "array([0, 1])"
            ]
          },
          "execution_count": 12,
          "metadata": {},
          "output_type": "execute_result"
        }
      ],
      "source": [
        "df['Complain'].unique()"
      ]
    },
    {
      "cell_type": "markdown",
      "metadata": {},
      "source": [
        "Observando os valores únicos da variável **`Complain`**, confirmamos que se trata de uma **variável categórica binária**, com duas categorias distintas:\n",
        "\n",
        "- **0** → O cliente **não realizou uma reclamação** na empresa.  \n",
        "- **1** → O cliente **realizou uma reclamação** na empresa.\n",
        "\n",
        "Dessa forma, estamos diante de um problema de **aprendizado supervisionado** do tipo **classificação**, no qual o objetivo é prever a probabilidade de um cliente realizar uma reclamação ou não na ouvidoria da empresa.\n",
        "\n",
        "Para essa tarefa, utilizaremos um **modelo classificador**, que será treinado para identificar padrões de comportamento associados a uma possível reclamação e antecipar essa insatisfação do cliente, revertendo uma possível má experiência desse cliente."
      ]
    },
    {
      "cell_type": "markdown",
      "metadata": {
        "id": "NQ5lTrceJWDp"
      },
      "source": [
        "##### **3.1.1.2 Balanceamento dos Dados**\n",
        "\n",
        "Em problemas de **classificação**, é frequente encontrar conjuntos de dados com **classes desbalanceadas**, onde uma das classes apresenta um número de registros significativamente maior do que a outra. Esse desequilíbrio pode comprometer o desempenho do modelo, tornando-o **tendencioso** para a classe majoritária e dificultando a correta identificação da classe minoritária.\n",
        "\n",
        "O **balanceamento das classes** é um dos **pressupostos fundamentais** a serem considerados na construção de modelos classificadores com uso de algoritmos de machine learning. Caso não seja tratado adequadamente, o modelo pode apresentar baixa capacidade de prever eventos menos frequentes. Por isso, é essencial adotar estratégias para equilibrar as classes durante o pré-processamento, garantindo previsões mais precisas e confiáveis."
      ]
    },
    {
      "cell_type": "code",
      "execution_count": 13,
      "metadata": {
        "colab": {
          "base_uri": "https://localhost:8080/",
          "height": 178
        },
        "id": "4Y5RaOIjWkb4",
        "outputId": "eb119598-ee7d-4b11-a7aa-e64d99634907"
      },
      "outputs": [
        {
          "name": "stdout",
          "output_type": "stream",
          "text": [
            "Complain\n",
            "0    2219\n",
            "1      21\n",
            "Name: count, dtype: int64\n",
            "\n",
            "Observa-se que 0.9375% do dataSet fizeram reclamações.\n",
            "Enquanto que 99.0625% dos dados não realizaram nenhuma reclamação.\n"
          ]
        }
      ],
      "source": [
        "print(df['Complain'].value_counts())\n",
        "print(\"\\nObserva-se que {:.4f}% do dataSet fizeram reclamações.\".format((df.groupby('Complain').size()[1] / df.shape[0])*100))\n",
        "print(\"Enquanto que {:.4f}% dos dados não realizaram nenhuma reclamação.\".format((df.groupby('Complain').size()[0] / df.shape[0])*100))"
      ]
    },
    {
      "cell_type": "markdown",
      "metadata": {},
      "source": [
        "No contexto deste estudo, a variável **`Complain`** apresenta desbalanceamento, com a maioria dos clientes não realizando reclamação (**classe 0**) e apenas quase 1% que realizou reclamação (**classe 1**). Esse cenário pode levar o modelo a prever majoritariamente vlientes que não reclamam, negligenciando a insatisfação de uma minoria.\n",
        "\n",
        "Para mitigar esse problema, existem técnicas de **balanceamento de classes**, como por exemplo:\n",
        "\n",
        "- **Oversampling (Superamostragem)**: Aumentar a quantidade de registros da classe minoritária por meio da duplicação de dados ou geração de novas amostras sintéticas, como a técnica **SMOTE** (*Synthetic Minority Over-sampling Technique*).  \n",
        "- **Undersampling (Subamostragem)**: Reduzir a quantidade de registros da classe majoritária, eliminando amostras redundantes para equilibrar a proporção entre as classes.  \n",
        "\n",
        "A escolha adequada da técnica de balanceamento é fundamental para garantir que o modelo preditivo tenha uma **boa performance** e consiga identificar com precisão os clientes que possuem maior probabilidade de evasão."
      ]
    },
    {
      "cell_type": "markdown",
      "metadata": {
        "id": "6OtyVESyJWDq"
      },
      "source": [
        "#####  3.1.1.3  Plots Variável Alvo"
      ]
    },
    {
      "cell_type": "code",
      "execution_count": 14,
      "metadata": {
        "id": "cvcnxH6pYndx"
      },
      "outputs": [],
      "source": [
        "%matplotlib inline\n",
        "# seto algumas caracteristicas para os plots. Padornizar Plots\n",
        "sns.set_theme(style='darkgrid')\n",
        "sns.set_palette(\"hls\", 3)"
      ]
    },
    {
      "cell_type": "code",
      "execution_count": 15,
      "metadata": {},
      "outputs": [],
      "source": [
        "balData = pd.DataFrame(df.Complain.value_counts())\n",
        "balData['% total'] = round(100*balData['count']/df.shape[0], 2)"
      ]
    },
    {
      "cell_type": "code",
      "execution_count": 16,
      "metadata": {
        "colab": {
          "base_uri": "https://localhost:8080/",
          "height": 549
        },
        "id": "AwaZfqF6Xyg5",
        "outputId": "2e8de0f0-61b7-4315-ce42-abdca6899333"
      },
      "outputs": [
        {
          "name": "stdout",
          "output_type": "stream",
          "text": [
            "          count  % total\n",
            "Complain                \n",
            "0          2219    99.06\n",
            "1            21     0.94\n"
          ]
        },
        {
          "data": {
            "image/png": "[encoded data removed]",
            "text/plain": [
              "<Figure size 640x480 with 1 Axes>"
            ]
          },
          "metadata": {},
          "output_type": "display_data"
        }
      ],
      "source": [
        "print(balData)\n",
        "y_plot = sns.countplot(data=df, x='Complain', order=df.Complain.value_counts().index, hue= 'Complain')\n",
        "\n",
        "plt.title('Distribuição das classes')\n",
        "plt.ylabel('Quantidade')\n",
        "plt.xlabel('Reclamações')\n",
        "\n",
        "plt.tight_layout()\n",
        "plt.show()"
      ]
    },
    {
      "cell_type": "markdown",
      "metadata": {},
      "source": [
        "#### **3.1.2 Grupo Cliente**\n",
        "Para compreender melhor o perfil dos consumidores que registram reclamações, será realizada uma análise detalhada das características comportamentais dos clientes. A análise envolverá as seguintes variáveis: `Year_Birth`, `Education`, `Marital_Status`, `Income`, `Kidhome`, `Teenhome`, `Dt_Customer`, `Recency` e `Complain`.\n",
        "\n",
        "Essas variáveis permitirá identificar padrões de comportamento e possíveis perfis mais propensos a registrar queixas. Aspectos como a idade, nível de educação, estado civil e estrutura familiar podem influenciar na percepção de qualidade de serviço e satisfação do cliente. Da mesma forma, a renda e o tempo de relacionamento com a empresa são fatores que podem impactar no grau de exigência e na frequência de reclamações.\n",
        "\n",
        "Ao analisar esses atributos, será possível identificar segmentos de clientes que demandam maior atenção e desenvolver estratégias personalizadas para melhorar a experiência do consumidor e reduzir o número de queixas."
      ]
    },
    {
      "cell_type": "code",
      "execution_count": 17,
      "metadata": {},
      "outputs": [
        {
          "data": {
            "text/html": [
              "<div>\n",
              "<style scoped>\n",
              "    .dataframe tbody tr th:only-of-type {\n",
              "        vertical-align: middle;\n",
              "    }\n",
              "\n",
              "    .dataframe tbody tr th {\n",
              "        vertical-align: top;\n",
              "    }\n",
              "\n",
              "    .dataframe thead th {\n",
              "        text-align: right;\n",
              "    }\n",
              "</style>\n",
              "<table border=\"1\" class=\"dataframe\">\n",
              "  <thead>\n",
              "    <tr style=\"text-align: right;\">\n",
              "      <th></th>\n",
              "      <th>Year_Birth</th>\n",
              "      <th>Education</th>\n",
              "      <th>Marital_Status</th>\n",
              "      <th>Income</th>\n",
              "      <th>Kidhome</th>\n",
              "      <th>Teenhome</th>\n",
              "      <th>Dt_Customer</th>\n",
              "      <th>Recency</th>\n",
              "      <th>Complain</th>\n",
              "    </tr>\n",
              "  </thead>\n",
              "  <tbody>\n",
              "    <tr>\n",
              "      <th>0</th>\n",
              "      <td>1957</td>\n",
              "      <td>Graduation</td>\n",
              "      <td>Single</td>\n",
              "      <td>58138.0</td>\n",
              "      <td>0</td>\n",
              "      <td>0</td>\n",
              "      <td>04-09-2012</td>\n",
              "      <td>58</td>\n",
              "      <td>0</td>\n",
              "    </tr>\n",
              "    <tr>\n",
              "      <th>1</th>\n",
              "      <td>1954</td>\n",
              "      <td>Graduation</td>\n",
              "      <td>Single</td>\n",
              "      <td>46344.0</td>\n",
              "      <td>1</td>\n",
              "      <td>1</td>\n",
              "      <td>08-03-2014</td>\n",
              "      <td>38</td>\n",
              "      <td>0</td>\n",
              "    </tr>\n",
              "    <tr>\n",
              "      <th>2</th>\n",
              "      <td>1965</td>\n",
              "      <td>Graduation</td>\n",
              "      <td>Together</td>\n",
              "      <td>71613.0</td>\n",
              "      <td>0</td>\n",
              "      <td>0</td>\n",
              "      <td>21-08-2013</td>\n",
              "      <td>26</td>\n",
              "      <td>0</td>\n",
              "    </tr>\n",
              "    <tr>\n",
              "      <th>3</th>\n",
              "      <td>1984</td>\n",
              "      <td>Graduation</td>\n",
              "      <td>Together</td>\n",
              "      <td>26646.0</td>\n",
              "      <td>1</td>\n",
              "      <td>0</td>\n",
              "      <td>10-02-2014</td>\n",
              "      <td>26</td>\n",
              "      <td>0</td>\n",
              "    </tr>\n",
              "    <tr>\n",
              "      <th>4</th>\n",
              "      <td>1981</td>\n",
              "      <td>PhD</td>\n",
              "      <td>Married</td>\n",
              "      <td>58293.0</td>\n",
              "      <td>1</td>\n",
              "      <td>0</td>\n",
              "      <td>19-01-2014</td>\n",
              "      <td>94</td>\n",
              "      <td>0</td>\n",
              "    </tr>\n",
              "  </tbody>\n",
              "</table>\n",
              "</div>"
            ],
            "text/plain": [
              "   Year_Birth   Education Marital_Status   Income  Kidhome  Teenhome  \\\n",
              "0        1957  Graduation         Single  58138.0        0         0   \n",
              "1        1954  Graduation         Single  46344.0        1         1   \n",
              "2        1965  Graduation       Together  71613.0        0         0   \n",
              "3        1984  Graduation       Together  26646.0        1         0   \n",
              "4        1981         PhD        Married  58293.0        1         0   \n",
              "\n",
              "  Dt_Customer  Recency  Complain  \n",
              "0  04-09-2012       58         0  \n",
              "1  08-03-2014       38         0  \n",
              "2  21-08-2013       26         0  \n",
              "3  10-02-2014       26         0  \n",
              "4  19-01-2014       94         0  "
            ]
          },
          "execution_count": 17,
          "metadata": {},
          "output_type": "execute_result"
        }
      ],
      "source": [
        "df_graph_customer = df[['Year_Birth', 'Education', 'Marital_Status', 'Income', 'Kidhome', 'Teenhome', 'Dt_Customer','Recency','Complain']]\n",
        "df_graph_customer.head()"
      ]
    },
    {
      "cell_type": "code",
      "execution_count": 18,
      "metadata": {},
      "outputs": [
        {
          "data": {
            "image/png": "[encoded data removed]",
            "text/plain": [
              "<Figure size 640x480 with 1 Axes>"
            ]
          },
          "metadata": {},
          "output_type": "display_data"
        }
      ],
      "source": [
        "df_graph_customer.groupby('Marital_Status').size().plot(kind='barh', color=sns.palettes.mpl_palette('magma'))\n",
        "plt.gca().spines[['top', 'right',]].set_visible(False)"
      ]
    },
    {
      "cell_type": "code",
      "execution_count": 19,
      "metadata": {},
      "outputs": [
        {
          "data": {
            "image/png": "[encoded data removed]",
            "text/plain": [
              "<Figure size 640x480 with 1 Axes>"
            ]
          },
          "metadata": {},
          "output_type": "display_data"
        }
      ],
      "source": [
        "sns.countplot(x='Marital_Status', hue='Complain', data=df)\n",
        "plt.title('Reclamações por Nível de Educação')\n",
        "plt.xlabel('Nível de Educação')\n",
        "plt.ylabel('Contagem')\n",
        "plt.show()"
      ]
    },
    {
      "cell_type": "code",
      "execution_count": 20,
      "metadata": {},
      "outputs": [
        {
          "data": {
            "text/plain": [
              "Complain  Marital_Status\n",
              "0         Married           856\n",
              "          Together          575\n",
              "          Single            474\n",
              "          Divorced          230\n",
              "          Widow              77\n",
              "          Alone               3\n",
              "          Absurd              2\n",
              "          YOLO                2\n",
              "1         Married             8\n",
              "          Single              6\n",
              "          Together            5\n",
              "          Divorced            2\n",
              "Name: count, dtype: int64"
            ]
          },
          "execution_count": 20,
          "metadata": {},
          "output_type": "execute_result"
        }
      ],
      "source": [
        "df['Marital_Status'].groupby(df['Complain']).value_counts()"
      ]
    },
    {
      "cell_type": "markdown",
      "metadata": {},
      "source": [
        "A análise da variável `Marital_Status` revelou que a maioria dos clientes está casada ou vive junto, seguida por clientes solteiros.\n",
        "\n",
        "A proporção por estado cívil de quem fez reclamação é tão pequena que quase não identificamos no gráfico. No entanto, olhado para quem faz reclamaçoes o primeiro lugar ainda continua para os clientes casados, mas o segundo passa a ser dos clientes solteiros."
      ]
    },
    {
      "cell_type": "code",
      "execution_count": 21,
      "metadata": {},
      "outputs": [
        {
          "data": {
            "image/png": "[encoded data removed]",
            "text/plain": [
              "<Figure size 640x480 with 1 Axes>"
            ]
          },
          "metadata": {},
          "output_type": "display_data"
        }
      ],
      "source": [
        "df_graph_customer.groupby('Education').size().plot(kind='barh', color=sns.palettes.mpl_palette('magma'))\n",
        "plt.gca().spines[['top', 'right',]].set_visible(False)"
      ]
    },
    {
      "cell_type": "code",
      "execution_count": 22,
      "metadata": {},
      "outputs": [
        {
          "data": {
            "image/png": "[encoded data removed]",
            "text/plain": [
              "<Figure size 640x480 with 1 Axes>"
            ]
          },
          "metadata": {},
          "output_type": "display_data"
        }
      ],
      "source": [
        "sns.countplot(x='Education', hue='Complain', data=df)\n",
        "plt.title('Reclamações por Nível de Educação')\n",
        "plt.xlabel('Nível de Educação')\n",
        "plt.ylabel('Contagem')\n",
        "plt.show()"
      ]
    },
    {
      "cell_type": "code",
      "execution_count": 23,
      "metadata": {},
      "outputs": [
        {
          "data": {
            "text/plain": [
              "Complain  Education \n",
              "0         Graduation    1113\n",
              "          PhD            485\n",
              "          Master         368\n",
              "          2n Cycle       199\n",
              "          Basic           54\n",
              "1         Graduation      14\n",
              "          2n Cycle         4\n",
              "          Master           2\n",
              "          PhD              1\n",
              "Name: count, dtype: int64"
            ]
          },
          "execution_count": 23,
          "metadata": {},
          "output_type": "execute_result"
        }
      ],
      "source": [
        "df['Education'].groupby(df['Complain']).value_counts()"
      ]
    },
    {
      "cell_type": "markdown",
      "metadata": {},
      "source": [
        "A variável `Education` nos mostra que a maioria dos clientes com reclamações possui Graduação (Graduation), o que é esperado devido à predominância desse grupo na base de dados. No entanto, quando analisamos proporcionalmente a relação entre o número de clientes e o número de reclamações, surgem insights importantes:\n",
        "\n",
        "Graduation: 14 reclamações em 1.113 clientes → 1,26%\n",
        "\n",
        "PhD: 1 reclamação em 485 clientes → 0,21%\n",
        "\n",
        "Master: 2 reclamações em 368 clientes → 0,54%\n",
        "\n",
        "2n Cycle: 4 reclamações em 199 clientes → 2,01%\n",
        "\n",
        "Basic: 0 reclamações em 54 clientes → 0%\n",
        "\n",
        "Esses dados mostram que, proporcionalmente, os clientes com nível de educação 2n Cycle apresentam uma maior tendência a registrar reclamações quando comparados aos outros grupos. Apesar do número absoluto de reclamações ser maior entre clientes com Graduação, o índice de insatisfação relativo é mais elevado no grupo 2n Cycle.\n",
        "\n",
        "Essa diferença sugere que clientes com nível de escolaridade intermediário podem ter expectativas diferentes ou percepções distintas em relação aos produtos e serviços oferecidos. Esse padrão reforça a necessidade de ações específicas para melhorar a experiência desses clientes, ajustando estratégias de comunicação e suporte conforme o perfil educacional."
      ]
    },
    {
      "cell_type": "code",
      "execution_count": 24,
      "metadata": {},
      "outputs": [
        {
          "data": {
            "text/plain": [
              "count    2240.000000\n",
              "mean     1968.805804\n",
              "std        11.984069\n",
              "min      1893.000000\n",
              "25%      1959.000000\n",
              "50%      1970.000000\n",
              "75%      1977.000000\n",
              "max      1996.000000\n",
              "Name: Year_Birth, dtype: float64"
            ]
          },
          "execution_count": 24,
          "metadata": {},
          "output_type": "execute_result"
        }
      ],
      "source": [
        "df['Year_Birth'].describe()"
      ]
    },
    {
      "cell_type": "markdown",
      "metadata": {},
      "source": [
        "A variável `Year_Birth` apresenta o ano de nascimento dos clientes na base de dados. A pessoa com mais idade nasceu em 1893, já a mais nova nasceu no ano de 1996. \n",
        "\n",
        "Usaremos a variável `Year_Birth` para encontrar a **idade**. Trabalhar diretamente com o ano de nascimento pode dificultar a interpretação dos dados, enquanto a idade fornece uma medida direta e intuitiva para compreender o comportamento do cliente. A conversão será realizada subtraindo o valor de `Year_Birth` pelo ano atual (premissa assumida), permitindo identificar com clareza como diferentes faixas etárias influenciam na propensão a registrar reclamações.\n",
        "\n",
        "Esta etapa de criar variáveis é comumente conehcida como *Feature Engineering*. Usualmente fazemos esse passo logo após o processo de EDA dos dados. No entanto, dado a dinâmica de projetos de ciências de dados, iremos realizar agora para facilitar o entendimento dos relacionamentos entre os atributos."
      ]
    },
    {
      "cell_type": "code",
      "execution_count": 25,
      "metadata": {},
      "outputs": [
        {
          "data": {
            "text/html": [
              "<div>\n",
              "<style scoped>\n",
              "    .dataframe tbody tr th:only-of-type {\n",
              "        vertical-align: middle;\n",
              "    }\n",
              "\n",
              "    .dataframe tbody tr th {\n",
              "        vertical-align: top;\n",
              "    }\n",
              "\n",
              "    .dataframe thead th {\n",
              "        text-align: right;\n",
              "    }\n",
              "</style>\n",
              "<table border=\"1\" class=\"dataframe\">\n",
              "  <thead>\n",
              "    <tr style=\"text-align: right;\">\n",
              "      <th></th>\n",
              "      <th>ID</th>\n",
              "      <th>Year_Birth</th>\n",
              "      <th>Education</th>\n",
              "      <th>Marital_Status</th>\n",
              "      <th>Income</th>\n",
              "      <th>Kidhome</th>\n",
              "      <th>Teenhome</th>\n",
              "      <th>Dt_Customer</th>\n",
              "      <th>Recency</th>\n",
              "      <th>MntWines</th>\n",
              "      <th>...</th>\n",
              "      <th>AcceptedCmp3</th>\n",
              "      <th>AcceptedCmp4</th>\n",
              "      <th>AcceptedCmp5</th>\n",
              "      <th>AcceptedCmp1</th>\n",
              "      <th>AcceptedCmp2</th>\n",
              "      <th>Complain</th>\n",
              "      <th>Z_CostContact</th>\n",
              "      <th>Z_Revenue</th>\n",
              "      <th>Response</th>\n",
              "      <th>Age</th>\n",
              "    </tr>\n",
              "  </thead>\n",
              "  <tbody>\n",
              "    <tr>\n",
              "      <th>0</th>\n",
              "      <td>5524</td>\n",
              "      <td>1957</td>\n",
              "      <td>Graduation</td>\n",
              "      <td>Single</td>\n",
              "      <td>58138.0</td>\n",
              "      <td>0</td>\n",
              "      <td>0</td>\n",
              "      <td>04-09-2012</td>\n",
              "      <td>58</td>\n",
              "      <td>635</td>\n",
              "      <td>...</td>\n",
              "      <td>0</td>\n",
              "      <td>0</td>\n",
              "      <td>0</td>\n",
              "      <td>0</td>\n",
              "      <td>0</td>\n",
              "      <td>0</td>\n",
              "      <td>3</td>\n",
              "      <td>11</td>\n",
              "      <td>1</td>\n",
              "      <td>68</td>\n",
              "    </tr>\n",
              "    <tr>\n",
              "      <th>1</th>\n",
              "      <td>2174</td>\n",
              "      <td>1954</td>\n",
              "      <td>Graduation</td>\n",
              "      <td>Single</td>\n",
              "      <td>46344.0</td>\n",
              "      <td>1</td>\n",
              "      <td>1</td>\n",
              "      <td>08-03-2014</td>\n",
              "      <td>38</td>\n",
              "      <td>11</td>\n",
              "      <td>...</td>\n",
              "      <td>0</td>\n",
              "      <td>0</td>\n",
              "      <td>0</td>\n",
              "      <td>0</td>\n",
              "      <td>0</td>\n",
              "      <td>0</td>\n",
              "      <td>3</td>\n",
              "      <td>11</td>\n",
              "      <td>0</td>\n",
              "      <td>71</td>\n",
              "    </tr>\n",
              "    <tr>\n",
              "      <th>2</th>\n",
              "      <td>4141</td>\n",
              "      <td>1965</td>\n",
              "      <td>Graduation</td>\n",
              "      <td>Together</td>\n",
              "      <td>71613.0</td>\n",
              "      <td>0</td>\n",
              "      <td>0</td>\n",
              "      <td>21-08-2013</td>\n",
              "      <td>26</td>\n",
              "      <td>426</td>\n",
              "      <td>...</td>\n",
              "      <td>0</td>\n",
              "      <td>0</td>\n",
              "      <td>0</td>\n",
              "      <td>0</td>\n",
              "      <td>0</td>\n",
              "      <td>0</td>\n",
              "      <td>3</td>\n",
              "      <td>11</td>\n",
              "      <td>0</td>\n",
              "      <td>60</td>\n",
              "    </tr>\n",
              "    <tr>\n",
              "      <th>3</th>\n",
              "      <td>6182</td>\n",
              "      <td>1984</td>\n",
              "      <td>Graduation</td>\n",
              "      <td>Together</td>\n",
              "      <td>26646.0</td>\n",
              "      <td>1</td>\n",
              "      <td>0</td>\n",
              "      <td>10-02-2014</td>\n",
              "      <td>26</td>\n",
              "      <td>11</td>\n",
              "      <td>...</td>\n",
              "      <td>0</td>\n",
              "      <td>0</td>\n",
              "      <td>0</td>\n",
              "      <td>0</td>\n",
              "      <td>0</td>\n",
              "      <td>0</td>\n",
              "      <td>3</td>\n",
              "      <td>11</td>\n",
              "      <td>0</td>\n",
              "      <td>41</td>\n",
              "    </tr>\n",
              "    <tr>\n",
              "      <th>4</th>\n",
              "      <td>5324</td>\n",
              "      <td>1981</td>\n",
              "      <td>PhD</td>\n",
              "      <td>Married</td>\n",
              "      <td>58293.0</td>\n",
              "      <td>1</td>\n",
              "      <td>0</td>\n",
              "      <td>19-01-2014</td>\n",
              "      <td>94</td>\n",
              "      <td>173</td>\n",
              "      <td>...</td>\n",
              "      <td>0</td>\n",
              "      <td>0</td>\n",
              "      <td>0</td>\n",
              "      <td>0</td>\n",
              "      <td>0</td>\n",
              "      <td>0</td>\n",
              "      <td>3</td>\n",
              "      <td>11</td>\n",
              "      <td>0</td>\n",
              "      <td>44</td>\n",
              "    </tr>\n",
              "  </tbody>\n",
              "</table>\n",
              "<p>5 rows × 30 columns</p>\n",
              "</div>"
            ],
            "text/plain": [
              "     ID  Year_Birth   Education Marital_Status   Income  Kidhome  Teenhome  \\\n",
              "0  5524        1957  Graduation         Single  58138.0        0         0   \n",
              "1  2174        1954  Graduation         Single  46344.0        1         1   \n",
              "2  4141        1965  Graduation       Together  71613.0        0         0   \n",
              "3  6182        1984  Graduation       Together  26646.0        1         0   \n",
              "4  5324        1981         PhD        Married  58293.0        1         0   \n",
              "\n",
              "  Dt_Customer  Recency  MntWines  ...  AcceptedCmp3  AcceptedCmp4  \\\n",
              "0  04-09-2012       58       635  ...             0             0   \n",
              "1  08-03-2014       38        11  ...             0             0   \n",
              "2  21-08-2013       26       426  ...             0             0   \n",
              "3  10-02-2014       26        11  ...             0             0   \n",
              "4  19-01-2014       94       173  ...             0             0   \n",
              "\n",
              "   AcceptedCmp5  AcceptedCmp1  AcceptedCmp2  Complain  Z_CostContact  \\\n",
              "0             0             0             0         0              3   \n",
              "1             0             0             0         0              3   \n",
              "2             0             0             0         0              3   \n",
              "3             0             0             0         0              3   \n",
              "4             0             0             0         0              3   \n",
              "\n",
              "   Z_Revenue  Response  Age  \n",
              "0         11         1   68  \n",
              "1         11         0   71  \n",
              "2         11         0   60  \n",
              "3         11         0   41  \n",
              "4         11         0   44  \n",
              "\n",
              "[5 rows x 30 columns]"
            ]
          },
          "execution_count": 25,
          "metadata": {},
          "output_type": "execute_result"
        }
      ],
      "source": [
        "df['Age']= 2025 - df['Year_Birth']\n",
        "df.head()"
      ]
    },
    {
      "cell_type": "code",
      "execution_count": 26,
      "metadata": {},
      "outputs": [
        {
          "data": {
            "text/plain": [
              "count    2240.000000\n",
              "mean       56.194196\n",
              "std        11.984069\n",
              "min        29.000000\n",
              "25%        48.000000\n",
              "50%        55.000000\n",
              "75%        66.000000\n",
              "max       132.000000\n",
              "Name: Age, dtype: float64"
            ]
          },
          "execution_count": 26,
          "metadata": {},
          "output_type": "execute_result"
        }
      ],
      "source": [
        "df['Age'].describe()"
      ]
    },
    {
      "cell_type": "code",
      "execution_count": 27,
      "metadata": {},
      "outputs": [
        {
          "data": {
            "image/png": "[encoded data removed]",
            "text/plain": [
              "<Figure size 640x480 with 1 Axes>"
            ]
          },
          "metadata": {},
          "output_type": "display_data"
        }
      ],
      "source": [
        "df['Year_Birth'].plot(kind='hist', bins=20, title='Year_Birth')\n",
        "plt.gca().spines[['top', 'right',]].set_visible(False)"
      ]
    },
    {
      "cell_type": "code",
      "execution_count": 28,
      "metadata": {},
      "outputs": [
        {
          "data": {
            "image/png": "[encoded data removed]",
            "text/plain": [
              "<Figure size 1000x600 with 1 Axes>"
            ]
          },
          "metadata": {},
          "output_type": "display_data"
        }
      ],
      "source": [
        "plt.figure(figsize=(10, 6))\n",
        "sns.histplot(df['Age'], bins=20, kde=True)\n",
        "plt.title('Idade')\n",
        "plt.gca().spines[['top', 'right']].set_visible(False)\n",
        "plt.show()"
      ]
    },
    {
      "cell_type": "markdown",
      "metadata": {},
      "source": [
        "A maior parte dos clientes está concentrada entre 40 e 70 anos, com um pico próximo aos 50 anos. Isso indica que a base de clientes tem um perfil majoritariamente de meia-idade. Há uma diminuição significativa no número de clientes acima dos 70 anos, e pouquíssimos clientes ultrapassam os 80 anos.\n",
        "\n",
        "Observa-se uma cauda longa na direita, com idades acima de 100 anos. Esses valores devem ser investigados e possivelmente tratados no pré-processamento.\n",
        "\n",
        "Há um número reduzido de clientes abaixo dos 40 anos indicando que o produto/serviço da empresa não é direcionado para o público mais jovem."
      ]
    },
    {
      "cell_type": "markdown",
      "metadata": {},
      "source": [
        "A variável `Dt_Customer` representa a data de início do relacionamento do cliente com a empresa. Atualmente, essa variável não está no formato adequado, sendo necessário convertê-la para um formato de data. Após essa transformação, será criada uma nova variável que representará o tempo de relacionamento em anos, possibilitando uma análise mais clara e intuitiva sobre a influência desse fator no comportamento do cliente."
      ]
    },
    {
      "cell_type": "code",
      "execution_count": 29,
      "metadata": {},
      "outputs": [
        {
          "data": {
            "text/plain": [
              "count           2240\n",
              "unique           663\n",
              "top       31-08-2012\n",
              "freq              12\n",
              "Name: Dt_Customer, dtype: object"
            ]
          },
          "execution_count": 29,
          "metadata": {},
          "output_type": "execute_result"
        }
      ],
      "source": [
        "df['Dt_Customer'].describe()"
      ]
    },
    {
      "cell_type": "code",
      "execution_count": 30,
      "metadata": {},
      "outputs": [],
      "source": [
        "df['Dt_Customer'] = pd.to_datetime(df['Dt_Customer'], dayfirst=True)"
      ]
    },
    {
      "cell_type": "code",
      "execution_count": 31,
      "metadata": {},
      "outputs": [
        {
          "data": {
            "text/plain": [
              "0      2012-09-04\n",
              "1      2014-03-08\n",
              "2      2013-08-21\n",
              "3      2014-02-10\n",
              "4      2014-01-19\n",
              "          ...    \n",
              "2235   2013-06-13\n",
              "2236   2014-06-10\n",
              "2237   2014-01-25\n",
              "2238   2014-01-24\n",
              "2239   2012-10-15\n",
              "Name: Dt_Customer, Length: 2240, dtype: datetime64[ns]"
            ]
          },
          "execution_count": 31,
          "metadata": {},
          "output_type": "execute_result"
        }
      ],
      "source": [
        "df['Dt_Customer']"
      ]
    },
    {
      "cell_type": "markdown",
      "metadata": {},
      "source": [
        "Validando a não criação de dados faltantes na mudança do tipo de dados."
      ]
    },
    {
      "cell_type": "code",
      "execution_count": 32,
      "metadata": {},
      "outputs": [
        {
          "data": {
            "text/plain": [
              "0"
            ]
          },
          "execution_count": 32,
          "metadata": {},
          "output_type": "execute_result"
        }
      ],
      "source": [
        "df['Dt_Customer'].isnull().sum()    "
      ]
    },
    {
      "cell_type": "markdown",
      "metadata": {},
      "source": [
        "Premissa usada para criação da nova variável -> data corrente"
      ]
    },
    {
      "cell_type": "code",
      "execution_count": 33,
      "metadata": {},
      "outputs": [],
      "source": [
        "current_date = pd.to_datetime(datetime.now().date())\n",
        "df['Years_Since_Customer'] = round((current_date - df['Dt_Customer']).dt.days / 365, 0)"
      ]
    },
    {
      "cell_type": "code",
      "execution_count": 34,
      "metadata": {},
      "outputs": [
        {
          "data": {
            "text/plain": [
              "count    2240.000000\n",
              "mean       11.519196\n",
              "std         0.499743\n",
              "min        11.000000\n",
              "25%        11.000000\n",
              "50%        12.000000\n",
              "75%        12.000000\n",
              "max        12.000000\n",
              "Name: Years_Since_Customer, dtype: float64"
            ]
          },
          "execution_count": 34,
          "metadata": {},
          "output_type": "execute_result"
        }
      ],
      "source": [
        "df.Years_Since_Customer.describe()"
      ]
    },
    {
      "cell_type": "code",
      "execution_count": 35,
      "metadata": {},
      "outputs": [
        {
          "data": {
            "text/html": [
              "<div>\n",
              "<style scoped>\n",
              "    .dataframe tbody tr th:only-of-type {\n",
              "        vertical-align: middle;\n",
              "    }\n",
              "\n",
              "    .dataframe tbody tr th {\n",
              "        vertical-align: top;\n",
              "    }\n",
              "\n",
              "    .dataframe thead th {\n",
              "        text-align: right;\n",
              "    }\n",
              "</style>\n",
              "<table border=\"1\" class=\"dataframe\">\n",
              "  <thead>\n",
              "    <tr style=\"text-align: right;\">\n",
              "      <th></th>\n",
              "      <th>count</th>\n",
              "      <th>mean</th>\n",
              "      <th>std</th>\n",
              "      <th>min</th>\n",
              "      <th>25%</th>\n",
              "      <th>50%</th>\n",
              "      <th>75%</th>\n",
              "      <th>max</th>\n",
              "    </tr>\n",
              "    <tr>\n",
              "      <th>Complain</th>\n",
              "      <th></th>\n",
              "      <th></th>\n",
              "      <th></th>\n",
              "      <th></th>\n",
              "      <th></th>\n",
              "      <th></th>\n",
              "      <th></th>\n",
              "      <th></th>\n",
              "    </tr>\n",
              "  </thead>\n",
              "  <tbody>\n",
              "    <tr>\n",
              "      <th>0</th>\n",
              "      <td>2219.0</td>\n",
              "      <td>11.518702</td>\n",
              "      <td>0.499763</td>\n",
              "      <td>11.0</td>\n",
              "      <td>11.0</td>\n",
              "      <td>12.0</td>\n",
              "      <td>12.0</td>\n",
              "      <td>12.0</td>\n",
              "    </tr>\n",
              "    <tr>\n",
              "      <th>1</th>\n",
              "      <td>21.0</td>\n",
              "      <td>11.571429</td>\n",
              "      <td>0.507093</td>\n",
              "      <td>11.0</td>\n",
              "      <td>11.0</td>\n",
              "      <td>12.0</td>\n",
              "      <td>12.0</td>\n",
              "      <td>12.0</td>\n",
              "    </tr>\n",
              "  </tbody>\n",
              "</table>\n",
              "</div>"
            ],
            "text/plain": [
              "           count       mean       std   min   25%   50%   75%   max\n",
              "Complain                                                           \n",
              "0         2219.0  11.518702  0.499763  11.0  11.0  12.0  12.0  12.0\n",
              "1           21.0  11.571429  0.507093  11.0  11.0  12.0  12.0  12.0"
            ]
          },
          "execution_count": 35,
          "metadata": {},
          "output_type": "execute_result"
        }
      ],
      "source": [
        "df['Years_Since_Customer'].groupby(df['Complain']).describe()"
      ]
    },
    {
      "cell_type": "markdown",
      "metadata": {},
      "source": [
        "Nessa base de dados, podemos verificar que os clientes começaram a se relacionar com a empresa no ano de 2012, estendendo até 2014. Com média de 11 anos de relacionamento.\n",
        "\n",
        "Da variável `Age` que tratamos acima, notamos idade superior a 80 anos. Se retrocedermos 80 anos do ano de 2012, obtemos o ano de 1932. Iremos verificar os registros que atendem a condição do ano de aniversário ser inferior ao ano de 1932"
      ]
    },
    {
      "cell_type": "code",
      "execution_count": 36,
      "metadata": {},
      "outputs": [
        {
          "data": {
            "text/plain": [
              "Complain\n",
              "0    2\n",
              "1    1\n",
              "Name: count, dtype: int64"
            ]
          },
          "execution_count": 36,
          "metadata": {},
          "output_type": "execute_result"
        }
      ],
      "source": [
        "df['Complain'].loc[df['Year_Birth'] < 1932].value_counts()"
      ]
    },
    {
      "cell_type": "markdown",
      "metadata": {},
      "source": [
        "Identificamos 3 registros que sugerem ser outliers para a variável `Age`, sendo possível sua identificação, após a exploração da variável `Dt_Customer`.\n",
        "Embora um desses registros pertença à classe \"1\", optamos por excluí-los para treinar o modelo sem possíveis inconsistências que possam ter ocorrido na importação dos dados. Essa decisão visa melhorar a qualidade dos dados e garantir que o modelo não seja influenciado por valores potencialmente incorretos."
      ]
    },
    {
      "cell_type": "code",
      "execution_count": 37,
      "metadata": {},
      "outputs": [
        {
          "data": {
            "image/png": "[encoded data removed]",
            "text/plain": [
              "<Figure size 640x480 with 1 Axes>"
            ]
          },
          "metadata": {},
          "output_type": "display_data"
        }
      ],
      "source": [
        "df['Age'].loc[df['Year_Birth'] >= 1932].hist(bins=20);"
      ]
    },
    {
      "cell_type": "code",
      "execution_count": 38,
      "metadata": {},
      "outputs": [
        {
          "data": {
            "image/png": "[encoded data removed]",
            "text/plain": [
              "<Figure size 640x480 with 1 Axes>"
            ]
          },
          "metadata": {},
          "output_type": "display_data"
        }
      ],
      "source": [
        "sns.boxplot(y='Income', data=df)\n",
        "plt.title('Renda Anual dos Clientes')\n",
        "\n",
        "plt.tight_layout()\n",
        "plt.show()"
      ]
    },
    {
      "cell_type": "code",
      "execution_count": 39,
      "metadata": {},
      "outputs": [
        {
          "data": {
            "text/plain": [
              "count      2216.000000\n",
              "mean      52247.251354\n",
              "std       25173.076661\n",
              "min        1730.000000\n",
              "25%       35303.000000\n",
              "50%       51381.500000\n",
              "75%       68522.000000\n",
              "max      666666.000000\n",
              "Name: Income, dtype: float64"
            ]
          },
          "execution_count": 39,
          "metadata": {},
          "output_type": "execute_result"
        }
      ],
      "source": [
        "df['Income'].describe() "
      ]
    },
    {
      "cell_type": "code",
      "execution_count": 40,
      "metadata": {},
      "outputs": [
        {
          "data": {
            "text/plain": [
              "2233    0\n",
              "Name: Complain, dtype: int64"
            ]
          },
          "execution_count": 40,
          "metadata": {},
          "output_type": "execute_result"
        }
      ],
      "source": [
        "df['Complain'].loc[df['Income'] == 666666]"
      ]
    },
    {
      "cell_type": "code",
      "execution_count": 41,
      "metadata": {},
      "outputs": [
        {
          "data": {
            "image/png": "[encoded data removed]",
            "text/plain": [
              "<Figure size 640x480 with 1 Axes>"
            ]
          },
          "metadata": {},
          "output_type": "display_data"
        }
      ],
      "source": [
        "sns.boxplot(y='Income', data=df[df['Income'] < 666666])\n",
        "plt.title('Renda Anual dos Clientes')\n",
        "\n",
        "plt.tight_layout()\n",
        "plt.show()"
      ]
    },
    {
      "cell_type": "code",
      "execution_count": 42,
      "metadata": {},
      "outputs": [
        {
          "data": {
            "text/plain": [
              "count      2215.000000\n",
              "mean      51969.861400\n",
              "std       21526.320095\n",
              "min        1730.000000\n",
              "25%       35284.000000\n",
              "50%       51373.000000\n",
              "75%       68487.000000\n",
              "max      162397.000000\n",
              "Name: Income, dtype: float64"
            ]
          },
          "execution_count": 42,
          "metadata": {},
          "output_type": "execute_result"
        }
      ],
      "source": [
        "df['Income'][df['Income'] < 666666].describe()"
      ]
    },
    {
      "cell_type": "markdown",
      "metadata": {},
      "source": [
        "A maioria dos clientes possui uma renda concentrada em torno da mediana (51.373), com uma faixa interquartil razoavelmente ampla. No entanto, os outliers de renda elevada podem indicar clientes de alto poder aquisitivo, que podem ser tratados de forma diferenciada em análises ou estratégias de marketing\n",
        "\n",
        "Notamos ainda um possível valor que pode ter sido erro de digitação. Como a classe que ele representa é \"0\" iremos exluir esse registro para treinar o modelo."
      ]
    },
    {
      "cell_type": "code",
      "execution_count": 43,
      "metadata": {},
      "outputs": [
        {
          "data": {
            "text/html": [
              "<div>\n",
              "<style scoped>\n",
              "    .dataframe tbody tr th:only-of-type {\n",
              "        vertical-align: middle;\n",
              "    }\n",
              "\n",
              "    .dataframe tbody tr th {\n",
              "        vertical-align: top;\n",
              "    }\n",
              "\n",
              "    .dataframe thead th {\n",
              "        text-align: right;\n",
              "    }\n",
              "</style>\n",
              "<table border=\"1\" class=\"dataframe\">\n",
              "  <thead>\n",
              "    <tr style=\"text-align: right;\">\n",
              "      <th></th>\n",
              "      <th>Kidhome</th>\n",
              "      <th>Teenhome</th>\n",
              "    </tr>\n",
              "  </thead>\n",
              "  <tbody>\n",
              "    <tr>\n",
              "      <th>count</th>\n",
              "      <td>2240.000000</td>\n",
              "      <td>2240.000000</td>\n",
              "    </tr>\n",
              "    <tr>\n",
              "      <th>mean</th>\n",
              "      <td>0.444196</td>\n",
              "      <td>0.506250</td>\n",
              "    </tr>\n",
              "    <tr>\n",
              "      <th>std</th>\n",
              "      <td>0.538398</td>\n",
              "      <td>0.544538</td>\n",
              "    </tr>\n",
              "    <tr>\n",
              "      <th>min</th>\n",
              "      <td>0.000000</td>\n",
              "      <td>0.000000</td>\n",
              "    </tr>\n",
              "    <tr>\n",
              "      <th>25%</th>\n",
              "      <td>0.000000</td>\n",
              "      <td>0.000000</td>\n",
              "    </tr>\n",
              "    <tr>\n",
              "      <th>50%</th>\n",
              "      <td>0.000000</td>\n",
              "      <td>0.000000</td>\n",
              "    </tr>\n",
              "    <tr>\n",
              "      <th>75%</th>\n",
              "      <td>1.000000</td>\n",
              "      <td>1.000000</td>\n",
              "    </tr>\n",
              "    <tr>\n",
              "      <th>max</th>\n",
              "      <td>2.000000</td>\n",
              "      <td>2.000000</td>\n",
              "    </tr>\n",
              "  </tbody>\n",
              "</table>\n",
              "</div>"
            ],
            "text/plain": [
              "           Kidhome     Teenhome\n",
              "count  2240.000000  2240.000000\n",
              "mean      0.444196     0.506250\n",
              "std       0.538398     0.544538\n",
              "min       0.000000     0.000000\n",
              "25%       0.000000     0.000000\n",
              "50%       0.000000     0.000000\n",
              "75%       1.000000     1.000000\n",
              "max       2.000000     2.000000"
            ]
          },
          "execution_count": 43,
          "metadata": {},
          "output_type": "execute_result"
        }
      ],
      "source": [
        "df[['Kidhome','Teenhome']].describe()"
      ]
    },
    {
      "cell_type": "markdown",
      "metadata": {},
      "source": [
        "As variáveis `Kidhome` e `Teenhome` indicam o número de filhos pequenos e adolescentes, respectivamente. Individualmente, essas variáveis podem não oferecer informações completas sobre o perfil familiar do cliente, pois um cliente pode ter registros em ambas as colunas. Para facilitar a análise, será criada uma nova variável que representa a quantidade total de filhos de cada cliente. No entanto, as colunas separadas podem ser úteis para estratégias direcionadas à faixa etária dos filhos, permitindo, por exemplo, segmentações específicas baseadas em necessidades diferentes para crianças e adolescentes."
      ]
    },
    {
      "cell_type": "code",
      "execution_count": 44,
      "metadata": {},
      "outputs": [
        {
          "data": {
            "text/html": [
              "<div>\n",
              "<style scoped>\n",
              "    .dataframe tbody tr th:only-of-type {\n",
              "        vertical-align: middle;\n",
              "    }\n",
              "\n",
              "    .dataframe tbody tr th {\n",
              "        vertical-align: top;\n",
              "    }\n",
              "\n",
              "    .dataframe thead th {\n",
              "        text-align: right;\n",
              "    }\n",
              "</style>\n",
              "<table border=\"1\" class=\"dataframe\">\n",
              "  <thead>\n",
              "    <tr style=\"text-align: right;\">\n",
              "      <th></th>\n",
              "      <th>Kidhome</th>\n",
              "      <th>Teenhome</th>\n",
              "      <th>Total_filhos</th>\n",
              "    </tr>\n",
              "  </thead>\n",
              "  <tbody>\n",
              "    <tr>\n",
              "      <th>0</th>\n",
              "      <td>0</td>\n",
              "      <td>0</td>\n",
              "      <td>0</td>\n",
              "    </tr>\n",
              "    <tr>\n",
              "      <th>1</th>\n",
              "      <td>1</td>\n",
              "      <td>1</td>\n",
              "      <td>2</td>\n",
              "    </tr>\n",
              "    <tr>\n",
              "      <th>2</th>\n",
              "      <td>0</td>\n",
              "      <td>0</td>\n",
              "      <td>0</td>\n",
              "    </tr>\n",
              "    <tr>\n",
              "      <th>3</th>\n",
              "      <td>1</td>\n",
              "      <td>0</td>\n",
              "      <td>1</td>\n",
              "    </tr>\n",
              "    <tr>\n",
              "      <th>4</th>\n",
              "      <td>1</td>\n",
              "      <td>0</td>\n",
              "      <td>1</td>\n",
              "    </tr>\n",
              "  </tbody>\n",
              "</table>\n",
              "</div>"
            ],
            "text/plain": [
              "   Kidhome  Teenhome  Total_filhos\n",
              "0        0         0             0\n",
              "1        1         1             2\n",
              "2        0         0             0\n",
              "3        1         0             1\n",
              "4        1         0             1"
            ]
          },
          "execution_count": 44,
          "metadata": {},
          "output_type": "execute_result"
        }
      ],
      "source": [
        "df['Total_filhos'] = df['Kidhome'] + df['Teenhome']\n",
        "df[['Kidhome','Teenhome','Total_filhos']].head()"
      ]
    },
    {
      "cell_type": "code",
      "execution_count": 45,
      "metadata": {},
      "outputs": [
        {
          "data": {
            "text/html": [
              "<div>\n",
              "<style scoped>\n",
              "    .dataframe tbody tr th:only-of-type {\n",
              "        vertical-align: middle;\n",
              "    }\n",
              "\n",
              "    .dataframe tbody tr th {\n",
              "        vertical-align: top;\n",
              "    }\n",
              "\n",
              "    .dataframe thead th {\n",
              "        text-align: right;\n",
              "    }\n",
              "</style>\n",
              "<table border=\"1\" class=\"dataframe\">\n",
              "  <thead>\n",
              "    <tr style=\"text-align: right;\">\n",
              "      <th></th>\n",
              "      <th>Kidhome</th>\n",
              "      <th>Teenhome</th>\n",
              "      <th>Total_filhos</th>\n",
              "    </tr>\n",
              "  </thead>\n",
              "  <tbody>\n",
              "    <tr>\n",
              "      <th>count</th>\n",
              "      <td>2240.000000</td>\n",
              "      <td>2240.000000</td>\n",
              "      <td>2240.000000</td>\n",
              "    </tr>\n",
              "    <tr>\n",
              "      <th>mean</th>\n",
              "      <td>0.444196</td>\n",
              "      <td>0.506250</td>\n",
              "      <td>0.950446</td>\n",
              "    </tr>\n",
              "    <tr>\n",
              "      <th>std</th>\n",
              "      <td>0.538398</td>\n",
              "      <td>0.544538</td>\n",
              "      <td>0.751803</td>\n",
              "    </tr>\n",
              "    <tr>\n",
              "      <th>min</th>\n",
              "      <td>0.000000</td>\n",
              "      <td>0.000000</td>\n",
              "      <td>0.000000</td>\n",
              "    </tr>\n",
              "    <tr>\n",
              "      <th>25%</th>\n",
              "      <td>0.000000</td>\n",
              "      <td>0.000000</td>\n",
              "      <td>0.000000</td>\n",
              "    </tr>\n",
              "    <tr>\n",
              "      <th>50%</th>\n",
              "      <td>0.000000</td>\n",
              "      <td>0.000000</td>\n",
              "      <td>1.000000</td>\n",
              "    </tr>\n",
              "    <tr>\n",
              "      <th>75%</th>\n",
              "      <td>1.000000</td>\n",
              "      <td>1.000000</td>\n",
              "      <td>1.000000</td>\n",
              "    </tr>\n",
              "    <tr>\n",
              "      <th>max</th>\n",
              "      <td>2.000000</td>\n",
              "      <td>2.000000</td>\n",
              "      <td>3.000000</td>\n",
              "    </tr>\n",
              "  </tbody>\n",
              "</table>\n",
              "</div>"
            ],
            "text/plain": [
              "           Kidhome     Teenhome  Total_filhos\n",
              "count  2240.000000  2240.000000   2240.000000\n",
              "mean      0.444196     0.506250      0.950446\n",
              "std       0.538398     0.544538      0.751803\n",
              "min       0.000000     0.000000      0.000000\n",
              "25%       0.000000     0.000000      0.000000\n",
              "50%       0.000000     0.000000      1.000000\n",
              "75%       1.000000     1.000000      1.000000\n",
              "max       2.000000     2.000000      3.000000"
            ]
          },
          "execution_count": 45,
          "metadata": {},
          "output_type": "execute_result"
        }
      ],
      "source": [
        "df[['Kidhome','Teenhome','Total_filhos']].describe()"
      ]
    },
    {
      "cell_type": "markdown",
      "metadata": {},
      "source": [
        "Esses dados sugerem que a maioria dos clientes possui uma estrutura familiar enxuta, com poucos filhos. Estratégias específicas para famílias podem ser direcionadas para um público relativamente menor, considerando que poucos clientes possuem mais de um filho."
      ]
    },
    {
      "cell_type": "markdown",
      "metadata": {},
      "source": [
        "#### **3.1.3 Grupo Produto**\n",
        "\n",
        "Para compreender como os padrões de consumo estão relacionados às reclamações, será realizada uma análise detalhada do grupo de produtos. Esse grupo inclui variáveis que indicam os gastos dos clientes em diferentes categorias de produtos, sendo elas: `MntWines` (vinhos), `MntFruits` (frutas), `MntMeatProducts` (carnes), `MntFishProducts` (peixes), `MntSweetProducts` (doces) e `MntGoldProds` (produtos de ouro). Além disso, a variável-alvo `Complain` será considerada para explorar como esses gastos podem influenciar no registro de reclamações.\n",
        "\n",
        "Essas variáveis fornecem informações sobre os hábitos de consumo dos clientes, permitindo identificar padrões e correlações entre os tipos de produtos adquiridos e a satisfação geral com os serviços da empresa. A análise desse grupo ajudará a responder questões como:\n",
        "\n",
        "Quais os gastos médios dos clientes nesses itens?\n",
        "\n",
        "Existe uma relação entre o volume de compras de determinados produtos e a propensão a reclamar?\n",
        "\n",
        "Que itens as pessoas mais gastam?\n",
        "\n",
        "Com base nessas questões, a análise será conduzida para compreender o impacto do consumo de produtos na experiência do cliente e na geração de reclamações."
      ]
    },
    {
      "cell_type": "code",
      "execution_count": 46,
      "metadata": {
        "colab": {
          "base_uri": "https://localhost:8080/",
          "height": 206
        },
        "id": "BptR2jVD4pXZ",
        "outputId": "3848e6aa-0b93-4599-8be9-7fc407ea3a2b"
      },
      "outputs": [
        {
          "data": {
            "text/html": [
              "<div>\n",
              "<style scoped>\n",
              "    .dataframe tbody tr th:only-of-type {\n",
              "        vertical-align: middle;\n",
              "    }\n",
              "\n",
              "    .dataframe tbody tr th {\n",
              "        vertical-align: top;\n",
              "    }\n",
              "\n",
              "    .dataframe thead th {\n",
              "        text-align: right;\n",
              "    }\n",
              "</style>\n",
              "<table border=\"1\" class=\"dataframe\">\n",
              "  <thead>\n",
              "    <tr style=\"text-align: right;\">\n",
              "      <th></th>\n",
              "      <th>ID</th>\n",
              "      <th>Year_Birth</th>\n",
              "      <th>Education</th>\n",
              "      <th>Marital_Status</th>\n",
              "      <th>Income</th>\n",
              "      <th>Kidhome</th>\n",
              "      <th>Teenhome</th>\n",
              "      <th>Dt_Customer</th>\n",
              "      <th>Recency</th>\n",
              "      <th>MntWines</th>\n",
              "      <th>...</th>\n",
              "      <th>AcceptedCmp5</th>\n",
              "      <th>AcceptedCmp1</th>\n",
              "      <th>AcceptedCmp2</th>\n",
              "      <th>Complain</th>\n",
              "      <th>Z_CostContact</th>\n",
              "      <th>Z_Revenue</th>\n",
              "      <th>Response</th>\n",
              "      <th>Age</th>\n",
              "      <th>Years_Since_Customer</th>\n",
              "      <th>Total_filhos</th>\n",
              "    </tr>\n",
              "  </thead>\n",
              "  <tbody>\n",
              "    <tr>\n",
              "      <th>0</th>\n",
              "      <td>5524</td>\n",
              "      <td>1957</td>\n",
              "      <td>Graduation</td>\n",
              "      <td>Single</td>\n",
              "      <td>58138.0</td>\n",
              "      <td>0</td>\n",
              "      <td>0</td>\n",
              "      <td>2012-09-04</td>\n",
              "      <td>58</td>\n",
              "      <td>635</td>\n",
              "      <td>...</td>\n",
              "      <td>0</td>\n",
              "      <td>0</td>\n",
              "      <td>0</td>\n",
              "      <td>0</td>\n",
              "      <td>3</td>\n",
              "      <td>11</td>\n",
              "      <td>1</td>\n",
              "      <td>68</td>\n",
              "      <td>12.0</td>\n",
              "      <td>0</td>\n",
              "    </tr>\n",
              "    <tr>\n",
              "      <th>1</th>\n",
              "      <td>2174</td>\n",
              "      <td>1954</td>\n",
              "      <td>Graduation</td>\n",
              "      <td>Single</td>\n",
              "      <td>46344.0</td>\n",
              "      <td>1</td>\n",
              "      <td>1</td>\n",
              "      <td>2014-03-08</td>\n",
              "      <td>38</td>\n",
              "      <td>11</td>\n",
              "      <td>...</td>\n",
              "      <td>0</td>\n",
              "      <td>0</td>\n",
              "      <td>0</td>\n",
              "      <td>0</td>\n",
              "      <td>3</td>\n",
              "      <td>11</td>\n",
              "      <td>0</td>\n",
              "      <td>71</td>\n",
              "      <td>11.0</td>\n",
              "      <td>2</td>\n",
              "    </tr>\n",
              "    <tr>\n",
              "      <th>2</th>\n",
              "      <td>4141</td>\n",
              "      <td>1965</td>\n",
              "      <td>Graduation</td>\n",
              "      <td>Together</td>\n",
              "      <td>71613.0</td>\n",
              "      <td>0</td>\n",
              "      <td>0</td>\n",
              "      <td>2013-08-21</td>\n",
              "      <td>26</td>\n",
              "      <td>426</td>\n",
              "      <td>...</td>\n",
              "      <td>0</td>\n",
              "      <td>0</td>\n",
              "      <td>0</td>\n",
              "      <td>0</td>\n",
              "      <td>3</td>\n",
              "      <td>11</td>\n",
              "      <td>0</td>\n",
              "      <td>60</td>\n",
              "      <td>11.0</td>\n",
              "      <td>0</td>\n",
              "    </tr>\n",
              "    <tr>\n",
              "      <th>3</th>\n",
              "      <td>6182</td>\n",
              "      <td>1984</td>\n",
              "      <td>Graduation</td>\n",
              "      <td>Together</td>\n",
              "      <td>26646.0</td>\n",
              "      <td>1</td>\n",
              "      <td>0</td>\n",
              "      <td>2014-02-10</td>\n",
              "      <td>26</td>\n",
              "      <td>11</td>\n",
              "      <td>...</td>\n",
              "      <td>0</td>\n",
              "      <td>0</td>\n",
              "      <td>0</td>\n",
              "      <td>0</td>\n",
              "      <td>3</td>\n",
              "      <td>11</td>\n",
              "      <td>0</td>\n",
              "      <td>41</td>\n",
              "      <td>11.0</td>\n",
              "      <td>1</td>\n",
              "    </tr>\n",
              "    <tr>\n",
              "      <th>4</th>\n",
              "      <td>5324</td>\n",
              "      <td>1981</td>\n",
              "      <td>PhD</td>\n",
              "      <td>Married</td>\n",
              "      <td>58293.0</td>\n",
              "      <td>1</td>\n",
              "      <td>0</td>\n",
              "      <td>2014-01-19</td>\n",
              "      <td>94</td>\n",
              "      <td>173</td>\n",
              "      <td>...</td>\n",
              "      <td>0</td>\n",
              "      <td>0</td>\n",
              "      <td>0</td>\n",
              "      <td>0</td>\n",
              "      <td>3</td>\n",
              "      <td>11</td>\n",
              "      <td>0</td>\n",
              "      <td>44</td>\n",
              "      <td>11.0</td>\n",
              "      <td>1</td>\n",
              "    </tr>\n",
              "  </tbody>\n",
              "</table>\n",
              "<p>5 rows × 32 columns</p>\n",
              "</div>"
            ],
            "text/plain": [
              "     ID  Year_Birth   Education Marital_Status   Income  Kidhome  Teenhome  \\\n",
              "0  5524        1957  Graduation         Single  58138.0        0         0   \n",
              "1  2174        1954  Graduation         Single  46344.0        1         1   \n",
              "2  4141        1965  Graduation       Together  71613.0        0         0   \n",
              "3  6182        1984  Graduation       Together  26646.0        1         0   \n",
              "4  5324        1981         PhD        Married  58293.0        1         0   \n",
              "\n",
              "  Dt_Customer  Recency  MntWines  ...  AcceptedCmp5  AcceptedCmp1  \\\n",
              "0  2012-09-04       58       635  ...             0             0   \n",
              "1  2014-03-08       38        11  ...             0             0   \n",
              "2  2013-08-21       26       426  ...             0             0   \n",
              "3  2014-02-10       26        11  ...             0             0   \n",
              "4  2014-01-19       94       173  ...             0             0   \n",
              "\n",
              "   AcceptedCmp2  Complain  Z_CostContact  Z_Revenue  Response  Age  \\\n",
              "0             0         0              3         11         1   68   \n",
              "1             0         0              3         11         0   71   \n",
              "2             0         0              3         11         0   60   \n",
              "3             0         0              3         11         0   41   \n",
              "4             0         0              3         11         0   44   \n",
              "\n",
              "   Years_Since_Customer  Total_filhos  \n",
              "0                  12.0             0  \n",
              "1                  11.0             2  \n",
              "2                  11.0             0  \n",
              "3                  11.0             1  \n",
              "4                  11.0             1  \n",
              "\n",
              "[5 rows x 32 columns]"
            ]
          },
          "execution_count": 46,
          "metadata": {},
          "output_type": "execute_result"
        }
      ],
      "source": [
        "df.head()"
      ]
    },
    {
      "cell_type": "code",
      "execution_count": 47,
      "metadata": {},
      "outputs": [],
      "source": [
        "produtos = ['MntFruits','MntMeatProducts','MntFishProducts','MntSweetProducts','MntGoldProds']"
      ]
    },
    {
      "cell_type": "code",
      "execution_count": 48,
      "metadata": {},
      "outputs": [
        {
          "data": {
            "text/html": [
              "<div>\n",
              "<style scoped>\n",
              "    .dataframe tbody tr th:only-of-type {\n",
              "        vertical-align: middle;\n",
              "    }\n",
              "\n",
              "    .dataframe tbody tr th {\n",
              "        vertical-align: top;\n",
              "    }\n",
              "\n",
              "    .dataframe thead th {\n",
              "        text-align: right;\n",
              "    }\n",
              "</style>\n",
              "<table border=\"1\" class=\"dataframe\">\n",
              "  <thead>\n",
              "    <tr style=\"text-align: right;\">\n",
              "      <th></th>\n",
              "      <th>MntFruits</th>\n",
              "      <th>MntMeatProducts</th>\n",
              "      <th>MntFishProducts</th>\n",
              "      <th>MntSweetProducts</th>\n",
              "      <th>MntGoldProds</th>\n",
              "    </tr>\n",
              "  </thead>\n",
              "  <tbody>\n",
              "    <tr>\n",
              "      <th>count</th>\n",
              "      <td>2240.000000</td>\n",
              "      <td>2240.000000</td>\n",
              "      <td>2240.000000</td>\n",
              "      <td>2240.000000</td>\n",
              "      <td>2240.000000</td>\n",
              "    </tr>\n",
              "    <tr>\n",
              "      <th>mean</th>\n",
              "      <td>26.302232</td>\n",
              "      <td>166.950000</td>\n",
              "      <td>37.525446</td>\n",
              "      <td>27.062946</td>\n",
              "      <td>44.021875</td>\n",
              "    </tr>\n",
              "    <tr>\n",
              "      <th>std</th>\n",
              "      <td>39.773434</td>\n",
              "      <td>225.715373</td>\n",
              "      <td>54.628979</td>\n",
              "      <td>41.280498</td>\n",
              "      <td>52.167439</td>\n",
              "    </tr>\n",
              "    <tr>\n",
              "      <th>min</th>\n",
              "      <td>0.000000</td>\n",
              "      <td>0.000000</td>\n",
              "      <td>0.000000</td>\n",
              "      <td>0.000000</td>\n",
              "      <td>0.000000</td>\n",
              "    </tr>\n",
              "    <tr>\n",
              "      <th>25%</th>\n",
              "      <td>1.000000</td>\n",
              "      <td>16.000000</td>\n",
              "      <td>3.000000</td>\n",
              "      <td>1.000000</td>\n",
              "      <td>9.000000</td>\n",
              "    </tr>\n",
              "    <tr>\n",
              "      <th>50%</th>\n",
              "      <td>8.000000</td>\n",
              "      <td>67.000000</td>\n",
              "      <td>12.000000</td>\n",
              "      <td>8.000000</td>\n",
              "      <td>24.000000</td>\n",
              "    </tr>\n",
              "    <tr>\n",
              "      <th>75%</th>\n",
              "      <td>33.000000</td>\n",
              "      <td>232.000000</td>\n",
              "      <td>50.000000</td>\n",
              "      <td>33.000000</td>\n",
              "      <td>56.000000</td>\n",
              "    </tr>\n",
              "    <tr>\n",
              "      <th>max</th>\n",
              "      <td>199.000000</td>\n",
              "      <td>1725.000000</td>\n",
              "      <td>259.000000</td>\n",
              "      <td>263.000000</td>\n",
              "      <td>362.000000</td>\n",
              "    </tr>\n",
              "  </tbody>\n",
              "</table>\n",
              "</div>"
            ],
            "text/plain": [
              "         MntFruits  MntMeatProducts  MntFishProducts  MntSweetProducts  \\\n",
              "count  2240.000000      2240.000000      2240.000000       2240.000000   \n",
              "mean     26.302232       166.950000        37.525446         27.062946   \n",
              "std      39.773434       225.715373        54.628979         41.280498   \n",
              "min       0.000000         0.000000         0.000000          0.000000   \n",
              "25%       1.000000        16.000000         3.000000          1.000000   \n",
              "50%       8.000000        67.000000        12.000000          8.000000   \n",
              "75%      33.000000       232.000000        50.000000         33.000000   \n",
              "max     199.000000      1725.000000       259.000000        263.000000   \n",
              "\n",
              "       MntGoldProds  \n",
              "count   2240.000000  \n",
              "mean      44.021875  \n",
              "std       52.167439  \n",
              "min        0.000000  \n",
              "25%        9.000000  \n",
              "50%       24.000000  \n",
              "75%       56.000000  \n",
              "max      362.000000  "
            ]
          },
          "execution_count": 48,
          "metadata": {},
          "output_type": "execute_result"
        }
      ],
      "source": [
        "df[produtos].describe()"
      ]
    },
    {
      "cell_type": "code",
      "execution_count": 49,
      "metadata": {},
      "outputs": [
        {
          "data": {
            "text/html": [
              "<div>\n",
              "<style scoped>\n",
              "    .dataframe tbody tr th:only-of-type {\n",
              "        vertical-align: middle;\n",
              "    }\n",
              "\n",
              "    .dataframe tbody tr th {\n",
              "        vertical-align: top;\n",
              "    }\n",
              "\n",
              "    .dataframe thead th {\n",
              "        text-align: right;\n",
              "    }\n",
              "</style>\n",
              "<table border=\"1\" class=\"dataframe\">\n",
              "  <thead>\n",
              "    <tr style=\"text-align: right;\">\n",
              "      <th></th>\n",
              "      <th>MntFruits</th>\n",
              "      <th>MntMeatProducts</th>\n",
              "      <th>MntFishProducts</th>\n",
              "      <th>MntSweetProducts</th>\n",
              "      <th>MntGoldProds</th>\n",
              "    </tr>\n",
              "    <tr>\n",
              "      <th>Complain</th>\n",
              "      <th></th>\n",
              "      <th></th>\n",
              "      <th></th>\n",
              "      <th></th>\n",
              "      <th></th>\n",
              "    </tr>\n",
              "  </thead>\n",
              "  <tbody>\n",
              "    <tr>\n",
              "      <th>nao_reclamou</th>\n",
              "      <td>26.322217</td>\n",
              "      <td>167.465525</td>\n",
              "      <td>37.636773</td>\n",
              "      <td>27.153222</td>\n",
              "      <td>44.178459</td>\n",
              "    </tr>\n",
              "    <tr>\n",
              "      <th>reclamou</th>\n",
              "      <td>24.190476</td>\n",
              "      <td>112.476190</td>\n",
              "      <td>25.761905</td>\n",
              "      <td>17.523810</td>\n",
              "      <td>27.476190</td>\n",
              "    </tr>\n",
              "  </tbody>\n",
              "</table>\n",
              "</div>"
            ],
            "text/plain": [
              "              MntFruits  MntMeatProducts  MntFishProducts  MntSweetProducts  \\\n",
              "Complain                                                                      \n",
              "nao_reclamou  26.322217       167.465525        37.636773         27.153222   \n",
              "reclamou      24.190476       112.476190        25.761905         17.523810   \n",
              "\n",
              "              MntGoldProds  \n",
              "Complain                    \n",
              "nao_reclamou     44.178459  \n",
              "reclamou         27.476190  "
            ]
          },
          "execution_count": 49,
          "metadata": {},
          "output_type": "execute_result"
        }
      ],
      "source": [
        "df.groupby('Complain')[['MntFruits','MntMeatProducts','MntFishProducts','MntSweetProducts','MntGoldProds']].mean().rename(index={0: 'nao_reclamou', 1: 'reclamou'})"
      ]
    },
    {
      "cell_type": "markdown",
      "metadata": {},
      "source": [
        "A análise dos dados revelou que clientes que registraram reclamações tendem a gastar, em média, menos em todas as categorias de produtos avaliadas, em comparação com clientes que não reclamaram. Por exemplo, enquanto clientes que não reclamaram gastaram, em média, 167,47 em produtos de carne (`MntMeatProducts`), os clientes que reclamaram gastaram 112,47 na mesma categoria. O mesmo padrão é observado em outras categorias como frutas (26,32 contra 24,19) e doces (27,15 contra 17,52).\n",
        "\n",
        "Essa diferença nos padrões de consumo pode indicar que clientes que gastam menos têm percepções diferentes sobre o valor dos produtos ou maior sensibilidade a problemas relacionados ao custo-benefício. Esses insights podem ser usados para ajustar estratégias de comunicação, atendimento e promoções, visando melhorar a experiência de consumidores mais propensos a reclamar."
      ]
    },
    {
      "cell_type": "code",
      "execution_count": 50,
      "metadata": {},
      "outputs": [
        {
          "name": "stdout",
          "output_type": "stream",
          "text": [
            "\n",
            "MntFruits:\n",
            "Clientes que gastaram (>0): 1840 (82.14%)\n",
            "Clientes que não gastaram (0): 400 (17.86%)\n",
            "\n",
            "MntMeatProducts:\n",
            "Clientes que gastaram (>0): 2239 (99.96%)\n",
            "Clientes que não gastaram (0): 1 (0.04%)\n",
            "\n",
            "MntFishProducts:\n",
            "Clientes que gastaram (>0): 1856 (82.86%)\n",
            "Clientes que não gastaram (0): 384 (17.14%)\n",
            "\n",
            "MntSweetProducts:\n",
            "Clientes que gastaram (>0): 1821 (81.29%)\n",
            "Clientes que não gastaram (0): 419 (18.71%)\n",
            "\n",
            "MntGoldProds:\n",
            "Clientes que gastaram (>0): 2179 (97.28%)\n",
            "Clientes que não gastaram (0): 61 (2.72%)\n"
          ]
        }
      ],
      "source": [
        "for produto in produtos:\n",
        "    gastou = (df[produto] > 0).sum()\n",
        "    nao_gastou = (df[produto] == 0).sum()\n",
        "    total = len(df)\n",
        "    print(f\"\\n{produto}:\")\n",
        "    print(f\"Clientes que gastaram (>0): {gastou} ({(gastou / total) * 100:.2f}%)\")\n",
        "    print(f\"Clientes que não gastaram (0): {nao_gastou} ({(nao_gastou / total) * 100:.2f}%)\")"
      ]
    },
    {
      "cell_type": "markdown",
      "metadata": {},
      "source": [
        "A análise revelou que quase todos os clientes gastam em produtos de carne (99,96%), o que torna essa categoria a mais representativa em termos de consumo. Em seguida, estão os produtos de ouro (97,28%), que também apresentam uma alta proporção de clientes com gastos. As categorias de peixes (82,86%), frutas (82,14%) e doces (81,29%) possuem um percentual semelhante de clientes que gastaram. Essas informações indicam que as carnes são a principal prioridade de consumo dos clientes, seguidas por produtos de ouro e outras categorias alimentícias. Estratégias de marketing podem se beneficiar ao focar nesses itens mais populares para maximizar a satisfação e o engajamento dos clientes."
      ]
    },
    {
      "cell_type": "code",
      "execution_count": 51,
      "metadata": {},
      "outputs": [
        {
          "data": {
            "image/png": "[encoded data removed]",
            "text/plain": [
              "<Figure size 2500x800 with 5 Axes>"
            ]
          },
          "metadata": {},
          "output_type": "display_data"
        }
      ],
      "source": [
        "fig, ax =  plt.subplots(1, 5, figsize=(25,8))\n",
        "df[['MntFruits','MntMeatProducts','MntFishProducts','MntSweetProducts','MntGoldProds']].hist(bins=20, ax=ax)\n",
        "plt.tight_layout()"
      ]
    },
    {
      "cell_type": "code",
      "execution_count": 52,
      "metadata": {},
      "outputs": [
        {
          "data": {
            "image/png": "[encoded data removed]",
            "text/plain": [
              "<Figure size 640x480 with 1 Axes>"
            ]
          },
          "metadata": {},
          "output_type": "display_data"
        }
      ],
      "source": [
        "df.plot(kind='scatter', x='MntMeatProducts', y='MntWines', s=32, alpha=.8)\n",
        "plt.gca().spines[['top', 'right',]].set_visible(False)"
      ]
    },
    {
      "cell_type": "markdown",
      "metadata": {},
      "source": [
        "A análise da relação entre os gastos com vinhos (`MntWines`) e carnes (`MntMeatProducts`) mostrou uma correlação positiva fraca a moderada. Isso indica que clientes que gastam mais em carne tendem a gastar também em vinho, embora essa relação não seja linear e apresente grande variação. \n",
        "\n",
        "Essa relação pode sugerir que carne e vinho são produtos consumidos de forma complementar por alguns clientes, especialmente aqueles com gastos moderados. Estratégias de marketing, como promoções combinadas entre essas categorias, podem ajudar a maximizar as vendas e melhorar a experiência do cliente"
      ]
    },
    {
      "cell_type": "code",
      "execution_count": 53,
      "metadata": {},
      "outputs": [
        {
          "data": {
            "image/png": "[encoded data removed]",
            "text/plain": [
              "<Figure size 640x480 with 1 Axes>"
            ]
          },
          "metadata": {},
          "output_type": "display_data"
        }
      ],
      "source": [
        "sns.boxplot(x='Complain', y='MntWines', data=df, hue='Complain')\n",
        "plt.title('Gasto em Vinhos vs Reclamações')\n",
        "plt.xlabel('Reclamou?')\n",
        "plt.ylabel('Gasto com Vinhos')\n",
        "plt.xticks([0, 1], ['Não', 'Sim'])\n",
        "plt.show()"
      ]
    },
    {
      "cell_type": "markdown",
      "metadata": {},
      "source": [
        "Os clientes que não reclamaram têm um padrão de consumo mais elevado em vinhos, tanto na mediana quanto nos valores máximos.\n",
        "\n",
        "Clientes que reclamaram gastam menos em vinhos, o que pode indicar menor interesse por essa categoria ou uma insatisfação relacionada ao custo-benefício percebido."
      ]
    },
    {
      "cell_type": "markdown",
      "metadata": {
        "id": "lJnI1HFEimrc"
      },
      "source": [
        "#### **3.1.4 Grupo Promoção**\n",
        "\n",
        "O grupo de promoções compreende variáveis que indicam a sensibilidade dos clientes a ofertas e campanhas promocionais. Esse grupo inclui as seguintes variáveis:\n",
        "\n",
        "`NumDealsPurchases`: Número de compras realizadas com desconto.\n",
        "\n",
        "`AcceptedCmp1` - `AcceptedCmp5`: Indicam se o cliente aceitou as ofertas de cinco campanhas promocionais distintas.\n",
        "\n",
        "`Response`: se o cliente a ultima oferta da empresa.\n",
        "\n",
        "`Complain`: Variável-alvo, que será analisada em conjunto para entender a relação entre promoções e reclamações."
      ]
    },
    {
      "cell_type": "code",
      "execution_count": 54,
      "metadata": {},
      "outputs": [
        {
          "data": {
            "text/html": [
              "<div>\n",
              "<style scoped>\n",
              "    .dataframe tbody tr th:only-of-type {\n",
              "        vertical-align: middle;\n",
              "    }\n",
              "\n",
              "    .dataframe tbody tr th {\n",
              "        vertical-align: top;\n",
              "    }\n",
              "\n",
              "    .dataframe thead th {\n",
              "        text-align: right;\n",
              "    }\n",
              "</style>\n",
              "<table border=\"1\" class=\"dataframe\">\n",
              "  <thead>\n",
              "    <tr style=\"text-align: right;\">\n",
              "      <th></th>\n",
              "      <th>NumDealsPurchases</th>\n",
              "      <th>AcceptedCmp1</th>\n",
              "      <th>AcceptedCmp2</th>\n",
              "      <th>AcceptedCmp3</th>\n",
              "      <th>AcceptedCmp4</th>\n",
              "      <th>AcceptedCmp5</th>\n",
              "      <th>Response</th>\n",
              "      <th>Complain</th>\n",
              "    </tr>\n",
              "  </thead>\n",
              "  <tbody>\n",
              "    <tr>\n",
              "      <th>0</th>\n",
              "      <td>3</td>\n",
              "      <td>0</td>\n",
              "      <td>0</td>\n",
              "      <td>0</td>\n",
              "      <td>0</td>\n",
              "      <td>0</td>\n",
              "      <td>1</td>\n",
              "      <td>0</td>\n",
              "    </tr>\n",
              "    <tr>\n",
              "      <th>1</th>\n",
              "      <td>2</td>\n",
              "      <td>0</td>\n",
              "      <td>0</td>\n",
              "      <td>0</td>\n",
              "      <td>0</td>\n",
              "      <td>0</td>\n",
              "      <td>0</td>\n",
              "      <td>0</td>\n",
              "    </tr>\n",
              "    <tr>\n",
              "      <th>2</th>\n",
              "      <td>1</td>\n",
              "      <td>0</td>\n",
              "      <td>0</td>\n",
              "      <td>0</td>\n",
              "      <td>0</td>\n",
              "      <td>0</td>\n",
              "      <td>0</td>\n",
              "      <td>0</td>\n",
              "    </tr>\n",
              "    <tr>\n",
              "      <th>3</th>\n",
              "      <td>2</td>\n",
              "      <td>0</td>\n",
              "      <td>0</td>\n",
              "      <td>0</td>\n",
              "      <td>0</td>\n",
              "      <td>0</td>\n",
              "      <td>0</td>\n",
              "      <td>0</td>\n",
              "    </tr>\n",
              "    <tr>\n",
              "      <th>4</th>\n",
              "      <td>5</td>\n",
              "      <td>0</td>\n",
              "      <td>0</td>\n",
              "      <td>0</td>\n",
              "      <td>0</td>\n",
              "      <td>0</td>\n",
              "      <td>0</td>\n",
              "      <td>0</td>\n",
              "    </tr>\n",
              "    <tr>\n",
              "      <th>...</th>\n",
              "      <td>...</td>\n",
              "      <td>...</td>\n",
              "      <td>...</td>\n",
              "      <td>...</td>\n",
              "      <td>...</td>\n",
              "      <td>...</td>\n",
              "      <td>...</td>\n",
              "      <td>...</td>\n",
              "    </tr>\n",
              "    <tr>\n",
              "      <th>2235</th>\n",
              "      <td>2</td>\n",
              "      <td>0</td>\n",
              "      <td>0</td>\n",
              "      <td>0</td>\n",
              "      <td>0</td>\n",
              "      <td>0</td>\n",
              "      <td>0</td>\n",
              "      <td>0</td>\n",
              "    </tr>\n",
              "    <tr>\n",
              "      <th>2236</th>\n",
              "      <td>7</td>\n",
              "      <td>1</td>\n",
              "      <td>0</td>\n",
              "      <td>0</td>\n",
              "      <td>0</td>\n",
              "      <td>0</td>\n",
              "      <td>0</td>\n",
              "      <td>0</td>\n",
              "    </tr>\n",
              "    <tr>\n",
              "      <th>2237</th>\n",
              "      <td>1</td>\n",
              "      <td>0</td>\n",
              "      <td>0</td>\n",
              "      <td>0</td>\n",
              "      <td>1</td>\n",
              "      <td>0</td>\n",
              "      <td>0</td>\n",
              "      <td>0</td>\n",
              "    </tr>\n",
              "    <tr>\n",
              "      <th>2238</th>\n",
              "      <td>2</td>\n",
              "      <td>0</td>\n",
              "      <td>0</td>\n",
              "      <td>0</td>\n",
              "      <td>0</td>\n",
              "      <td>0</td>\n",
              "      <td>0</td>\n",
              "      <td>0</td>\n",
              "    </tr>\n",
              "    <tr>\n",
              "      <th>2239</th>\n",
              "      <td>3</td>\n",
              "      <td>0</td>\n",
              "      <td>0</td>\n",
              "      <td>0</td>\n",
              "      <td>0</td>\n",
              "      <td>0</td>\n",
              "      <td>1</td>\n",
              "      <td>0</td>\n",
              "    </tr>\n",
              "  </tbody>\n",
              "</table>\n",
              "<p>2240 rows × 8 columns</p>\n",
              "</div>"
            ],
            "text/plain": [
              "      NumDealsPurchases  AcceptedCmp1  AcceptedCmp2  AcceptedCmp3  \\\n",
              "0                     3             0             0             0   \n",
              "1                     2             0             0             0   \n",
              "2                     1             0             0             0   \n",
              "3                     2             0             0             0   \n",
              "4                     5             0             0             0   \n",
              "...                 ...           ...           ...           ...   \n",
              "2235                  2             0             0             0   \n",
              "2236                  7             1             0             0   \n",
              "2237                  1             0             0             0   \n",
              "2238                  2             0             0             0   \n",
              "2239                  3             0             0             0   \n",
              "\n",
              "      AcceptedCmp4  AcceptedCmp5  Response  Complain  \n",
              "0                0             0         1         0  \n",
              "1                0             0         0         0  \n",
              "2                0             0         0         0  \n",
              "3                0             0         0         0  \n",
              "4                0             0         0         0  \n",
              "...            ...           ...       ...       ...  \n",
              "2235             0             0         0         0  \n",
              "2236             0             0         0         0  \n",
              "2237             1             0         0         0  \n",
              "2238             0             0         0         0  \n",
              "2239             0             0         1         0  \n",
              "\n",
              "[2240 rows x 8 columns]"
            ]
          },
          "execution_count": 54,
          "metadata": {},
          "output_type": "execute_result"
        }
      ],
      "source": [
        "df[['NumDealsPurchases','AcceptedCmp1','AcceptedCmp2','AcceptedCmp3','AcceptedCmp4','AcceptedCmp5','Response','Complain']]"
      ]
    },
    {
      "cell_type": "code",
      "execution_count": 55,
      "metadata": {},
      "outputs": [
        {
          "data": {
            "text/html": [
              "<div>\n",
              "<style scoped>\n",
              "    .dataframe tbody tr th:only-of-type {\n",
              "        vertical-align: middle;\n",
              "    }\n",
              "\n",
              "    .dataframe tbody tr th {\n",
              "        vertical-align: top;\n",
              "    }\n",
              "\n",
              "    .dataframe thead th {\n",
              "        text-align: right;\n",
              "    }\n",
              "</style>\n",
              "<table border=\"1\" class=\"dataframe\">\n",
              "  <thead>\n",
              "    <tr style=\"text-align: right;\">\n",
              "      <th></th>\n",
              "      <th>NumDealsPurchases</th>\n",
              "      <th>AcceptedCmp1</th>\n",
              "      <th>AcceptedCmp2</th>\n",
              "      <th>AcceptedCmp3</th>\n",
              "      <th>AcceptedCmp4</th>\n",
              "      <th>AcceptedCmp5</th>\n",
              "      <th>Response</th>\n",
              "    </tr>\n",
              "  </thead>\n",
              "  <tbody>\n",
              "    <tr>\n",
              "      <th>count</th>\n",
              "      <td>2240.000000</td>\n",
              "      <td>2240.000000</td>\n",
              "      <td>2240.000000</td>\n",
              "      <td>2240.000000</td>\n",
              "      <td>2240.000000</td>\n",
              "      <td>2240.000000</td>\n",
              "      <td>2240.000000</td>\n",
              "    </tr>\n",
              "    <tr>\n",
              "      <th>mean</th>\n",
              "      <td>2.325000</td>\n",
              "      <td>0.064286</td>\n",
              "      <td>0.013393</td>\n",
              "      <td>0.072768</td>\n",
              "      <td>0.074554</td>\n",
              "      <td>0.072768</td>\n",
              "      <td>0.149107</td>\n",
              "    </tr>\n",
              "    <tr>\n",
              "      <th>std</th>\n",
              "      <td>1.932238</td>\n",
              "      <td>0.245316</td>\n",
              "      <td>0.114976</td>\n",
              "      <td>0.259813</td>\n",
              "      <td>0.262728</td>\n",
              "      <td>0.259813</td>\n",
              "      <td>0.356274</td>\n",
              "    </tr>\n",
              "    <tr>\n",
              "      <th>min</th>\n",
              "      <td>0.000000</td>\n",
              "      <td>0.000000</td>\n",
              "      <td>0.000000</td>\n",
              "      <td>0.000000</td>\n",
              "      <td>0.000000</td>\n",
              "      <td>0.000000</td>\n",
              "      <td>0.000000</td>\n",
              "    </tr>\n",
              "    <tr>\n",
              "      <th>25%</th>\n",
              "      <td>1.000000</td>\n",
              "      <td>0.000000</td>\n",
              "      <td>0.000000</td>\n",
              "      <td>0.000000</td>\n",
              "      <td>0.000000</td>\n",
              "      <td>0.000000</td>\n",
              "      <td>0.000000</td>\n",
              "    </tr>\n",
              "    <tr>\n",
              "      <th>50%</th>\n",
              "      <td>2.000000</td>\n",
              "      <td>0.000000</td>\n",
              "      <td>0.000000</td>\n",
              "      <td>0.000000</td>\n",
              "      <td>0.000000</td>\n",
              "      <td>0.000000</td>\n",
              "      <td>0.000000</td>\n",
              "    </tr>\n",
              "    <tr>\n",
              "      <th>75%</th>\n",
              "      <td>3.000000</td>\n",
              "      <td>0.000000</td>\n",
              "      <td>0.000000</td>\n",
              "      <td>0.000000</td>\n",
              "      <td>0.000000</td>\n",
              "      <td>0.000000</td>\n",
              "      <td>0.000000</td>\n",
              "    </tr>\n",
              "    <tr>\n",
              "      <th>max</th>\n",
              "      <td>15.000000</td>\n",
              "      <td>1.000000</td>\n",
              "      <td>1.000000</td>\n",
              "      <td>1.000000</td>\n",
              "      <td>1.000000</td>\n",
              "      <td>1.000000</td>\n",
              "      <td>1.000000</td>\n",
              "    </tr>\n",
              "  </tbody>\n",
              "</table>\n",
              "</div>"
            ],
            "text/plain": [
              "       NumDealsPurchases  AcceptedCmp1  AcceptedCmp2  AcceptedCmp3  \\\n",
              "count        2240.000000   2240.000000   2240.000000   2240.000000   \n",
              "mean            2.325000      0.064286      0.013393      0.072768   \n",
              "std             1.932238      0.245316      0.114976      0.259813   \n",
              "min             0.000000      0.000000      0.000000      0.000000   \n",
              "25%             1.000000      0.000000      0.000000      0.000000   \n",
              "50%             2.000000      0.000000      0.000000      0.000000   \n",
              "75%             3.000000      0.000000      0.000000      0.000000   \n",
              "max            15.000000      1.000000      1.000000      1.000000   \n",
              "\n",
              "       AcceptedCmp4  AcceptedCmp5     Response  \n",
              "count   2240.000000   2240.000000  2240.000000  \n",
              "mean       0.074554      0.072768     0.149107  \n",
              "std        0.262728      0.259813     0.356274  \n",
              "min        0.000000      0.000000     0.000000  \n",
              "25%        0.000000      0.000000     0.000000  \n",
              "50%        0.000000      0.000000     0.000000  \n",
              "75%        0.000000      0.000000     0.000000  \n",
              "max        1.000000      1.000000     1.000000  "
            ]
          },
          "execution_count": 55,
          "metadata": {},
          "output_type": "execute_result"
        }
      ],
      "source": [
        "df[['NumDealsPurchases','AcceptedCmp1','AcceptedCmp2','AcceptedCmp3','AcceptedCmp4','AcceptedCmp5','Response']].describe()  "
      ]
    },
    {
      "cell_type": "code",
      "execution_count": 56,
      "metadata": {},
      "outputs": [
        {
          "data": {
            "text/plain": [
              "AcceptedCmp1    144\n",
              "AcceptedCmp2     30\n",
              "AcceptedCmp3    163\n",
              "AcceptedCmp4    167\n",
              "AcceptedCmp5    163\n",
              "Response        334\n",
              "dtype: int64"
            ]
          },
          "execution_count": 56,
          "metadata": {},
          "output_type": "execute_result"
        }
      ],
      "source": [
        "df[['AcceptedCmp1','AcceptedCmp2','AcceptedCmp3','AcceptedCmp4','AcceptedCmp5','Response']].sum()"
      ]
    },
    {
      "cell_type": "code",
      "execution_count": 57,
      "metadata": {},
      "outputs": [
        {
          "data": {
            "text/html": [
              "<div>\n",
              "<style scoped>\n",
              "    .dataframe tbody tr th:only-of-type {\n",
              "        vertical-align: middle;\n",
              "    }\n",
              "\n",
              "    .dataframe tbody tr th {\n",
              "        vertical-align: top;\n",
              "    }\n",
              "\n",
              "    .dataframe thead th {\n",
              "        text-align: right;\n",
              "    }\n",
              "</style>\n",
              "<table border=\"1\" class=\"dataframe\">\n",
              "  <thead>\n",
              "    <tr style=\"text-align: right;\">\n",
              "      <th></th>\n",
              "      <th>AcceptedCmp1</th>\n",
              "      <th>AcceptedCmp2</th>\n",
              "      <th>AcceptedCmp3</th>\n",
              "      <th>AcceptedCmp4</th>\n",
              "      <th>AcceptedCmp5</th>\n",
              "      <th>Response</th>\n",
              "    </tr>\n",
              "    <tr>\n",
              "      <th>Complain</th>\n",
              "      <th></th>\n",
              "      <th></th>\n",
              "      <th></th>\n",
              "      <th></th>\n",
              "      <th></th>\n",
              "      <th></th>\n",
              "    </tr>\n",
              "  </thead>\n",
              "  <tbody>\n",
              "    <tr>\n",
              "      <th>nao_reclamou</th>\n",
              "      <td>144</td>\n",
              "      <td>30</td>\n",
              "      <td>161</td>\n",
              "      <td>167</td>\n",
              "      <td>162</td>\n",
              "      <td>331</td>\n",
              "    </tr>\n",
              "    <tr>\n",
              "      <th>reclamou</th>\n",
              "      <td>0</td>\n",
              "      <td>0</td>\n",
              "      <td>2</td>\n",
              "      <td>0</td>\n",
              "      <td>1</td>\n",
              "      <td>3</td>\n",
              "    </tr>\n",
              "  </tbody>\n",
              "</table>\n",
              "</div>"
            ],
            "text/plain": [
              "              AcceptedCmp1  AcceptedCmp2  AcceptedCmp3  AcceptedCmp4  \\\n",
              "Complain                                                               \n",
              "nao_reclamou           144            30           161           167   \n",
              "reclamou                 0             0             2             0   \n",
              "\n",
              "              AcceptedCmp5  Response  \n",
              "Complain                              \n",
              "nao_reclamou           162       331  \n",
              "reclamou                 1         3  "
            ]
          },
          "execution_count": 57,
          "metadata": {},
          "output_type": "execute_result"
        }
      ],
      "source": [
        "df.groupby('Complain')[['AcceptedCmp1','AcceptedCmp2','AcceptedCmp3','AcceptedCmp4','AcceptedCmp5','Response']].sum().rename(index={0: 'nao_reclamou', 1: 'reclamou'})"
      ]
    },
    {
      "cell_type": "code",
      "execution_count": 58,
      "metadata": {},
      "outputs": [
        {
          "name": "stdout",
          "output_type": "stream",
          "text": [
            "\n",
            "\n",
            "Clientes que aceitaram a promocao AcceptedCmp1: 144 (6.43%)\n",
            "Clientes que não aceitaram a promocao AcceptedCmp1: 2096 (93.57%)\n",
            "\n",
            "\n",
            "Clientes que aceitaram a promocao AcceptedCmp2: 30 (1.34%)\n",
            "Clientes que não aceitaram a promocao AcceptedCmp2: 2210 (98.66%)\n",
            "\n",
            "\n",
            "Clientes que aceitaram a promocao AcceptedCmp3: 163 (7.28%)\n",
            "Clientes que não aceitaram a promocao AcceptedCmp3: 2077 (92.72%)\n",
            "\n",
            "\n",
            "Clientes que aceitaram a promocao AcceptedCmp4: 167 (7.46%)\n",
            "Clientes que não aceitaram a promocao AcceptedCmp4: 2073 (92.54%)\n",
            "\n",
            "\n",
            "Clientes que aceitaram a promocao AcceptedCmp5: 163 (7.28%)\n",
            "Clientes que não aceitaram a promocao AcceptedCmp5: 2077 (92.72%)\n",
            "\n",
            "\n",
            "Clientes que aceitaram a promocao Response: 334 (14.91%)\n",
            "Clientes que não aceitaram a promocao Response: 1906 (85.09%)\n"
          ]
        }
      ],
      "source": [
        "promocoes = ['AcceptedCmp1','AcceptedCmp2','AcceptedCmp3','AcceptedCmp4','AcceptedCmp5', 'Response']\n",
        "\n",
        "for promocao in promocoes:\n",
        "    aceitou = (df[promocao] == 1).sum()\n",
        "    nao_aceitou = (df[promocao] == 0).sum()\n",
        "    total = len(df)\n",
        "    print(f\"\\n\")\n",
        "    print(f\"Clientes que aceitaram a promocao {promocao}: {aceitou} ({(aceitou / total) * 100:.2f}%)\")\n",
        "    print(f\"Clientes que não aceitaram a promocao {promocao}: {nao_aceitou} ({(nao_aceitou / total) * 100:.2f}%)\")"
      ]
    },
    {
      "cell_type": "markdown",
      "metadata": {},
      "source": [
        "#### **3.1.5 Grupo Local**\n",
        "\n",
        "O grupo de lugar examina os canais de compra utilizados pelos clientes e sua relação com reclamações. Esse grupo inclui as seguintes variáveis:\n",
        "\n",
        "`NumWebPurchases`: Número de compras realizadas no site.\n",
        "\n",
        "`NumCatalogPurchases`: Número de compras realizadas via catálogo.\n",
        "\n",
        "`NumStorePurchases`: Número de compras realizadas em lojas físicas.\n",
        "\n",
        "`NumWebVisitsMonth`: Número de visitas ao site no último mês.\n",
        "\n",
        "`Complain`: Variável-alvo, para investigar como os canais de compra impactam na propensão a reclamações.\n",
        "\n",
        "Essas variáveis permitem entender os canais preferidos pelos clientes e sua possível correlação com a satisfação ou insatisfação. Questões a serem exploradas incluem:\n",
        "\n",
        "Existe um canal de compra associado a maior frequência de reclamações?\n",
        "\n",
        "Clientes que realizam mais visitas ao site tendem a registrar mais ou menos reclamações?\n",
        "\n",
        "Quais canais são mais utilizados pelos clientes satisfeitos?\n",
        "\n",
        "A análise desse grupo fornecerá insights valiosos para otimizar os canais de vendas e identificar pontos de melhoria na experiência do cliente em diferentes meios de compra."
      ]
    },
    {
      "cell_type": "code",
      "execution_count": 59,
      "metadata": {},
      "outputs": [
        {
          "data": {
            "text/plain": [
              "NumWebPurchases         9150\n",
              "NumCatalogPurchases     5963\n",
              "NumStorePurchases      12970\n",
              "NumWebVisitsMonth      11909\n",
              "dtype: int64"
            ]
          },
          "execution_count": 59,
          "metadata": {},
          "output_type": "execute_result"
        }
      ],
      "source": [
        "df[['NumWebPurchases', 'NumCatalogPurchases', 'NumStorePurchases', 'NumWebVisitsMonth']].sum()"
      ]
    },
    {
      "cell_type": "code",
      "execution_count": 60,
      "metadata": {},
      "outputs": [
        {
          "data": {
            "text/html": [
              "<div>\n",
              "<style scoped>\n",
              "    .dataframe tbody tr th:only-of-type {\n",
              "        vertical-align: middle;\n",
              "    }\n",
              "\n",
              "    .dataframe tbody tr th {\n",
              "        vertical-align: top;\n",
              "    }\n",
              "\n",
              "    .dataframe thead th {\n",
              "        text-align: right;\n",
              "    }\n",
              "</style>\n",
              "<table border=\"1\" class=\"dataframe\">\n",
              "  <thead>\n",
              "    <tr style=\"text-align: right;\">\n",
              "      <th></th>\n",
              "      <th>NumWebPurchases</th>\n",
              "      <th>NumCatalogPurchases</th>\n",
              "      <th>NumStorePurchases</th>\n",
              "    </tr>\n",
              "    <tr>\n",
              "      <th>Complain</th>\n",
              "      <th></th>\n",
              "      <th></th>\n",
              "      <th></th>\n",
              "    </tr>\n",
              "  </thead>\n",
              "  <tbody>\n",
              "    <tr>\n",
              "      <th>0</th>\n",
              "      <td>9074</td>\n",
              "      <td>5920</td>\n",
              "      <td>12860</td>\n",
              "    </tr>\n",
              "    <tr>\n",
              "      <th>1</th>\n",
              "      <td>76</td>\n",
              "      <td>43</td>\n",
              "      <td>110</td>\n",
              "    </tr>\n",
              "  </tbody>\n",
              "</table>\n",
              "</div>"
            ],
            "text/plain": [
              "          NumWebPurchases  NumCatalogPurchases  NumStorePurchases\n",
              "Complain                                                         \n",
              "0                    9074                 5920              12860\n",
              "1                      76                   43                110"
            ]
          },
          "execution_count": 60,
          "metadata": {},
          "output_type": "execute_result"
        }
      ],
      "source": [
        "df[['NumWebPurchases', 'NumCatalogPurchases', 'NumStorePurchases']].groupby(df['Complain']).sum()"
      ]
    },
    {
      "cell_type": "code",
      "execution_count": 61,
      "metadata": {},
      "outputs": [
        {
          "name": "stdout",
          "output_type": "stream",
          "text": [
            "A quantidade de visitas no site da empresa foi de: 11909\n"
          ]
        }
      ],
      "source": [
        "print(f'A quantidade de visitas no site da empresa foi de: {df[\"NumWebVisitsMonth\"].sum()}')"
      ]
    },
    {
      "cell_type": "code",
      "execution_count": 62,
      "metadata": {},
      "outputs": [
        {
          "data": {
            "text/plain": [
              "Complain\n",
              "0    11787\n",
              "1      122\n",
              "Name: NumWebVisitsMonth, dtype: int64"
            ]
          },
          "execution_count": 62,
          "metadata": {},
          "output_type": "execute_result"
        }
      ],
      "source": [
        "df['NumWebVisitsMonth'].groupby(df['Complain']).sum()"
      ]
    },
    {
      "cell_type": "markdown",
      "metadata": {},
      "source": [
        "Dos três canais de venda da emprea a loja física é que apresenta a maior quantidade de vendas, seguidas pelo site da empresa e por último catálogos de venda. \n",
        "\n",
        "Quando estratificamos por clientes que reclamaram e que não reclamaram, mantém o ranqueamento. Sendo assim podemos dizer que os clientes que mais reclamam compraram seus produtos nas lojas físicas. \n",
        "\n",
        "Ao analisar a visitação e navegção para página web da empresa o números de pessoas que reclamaram aumentou, sugerindo que navegação no site da empresa pode ser um indicativo."
      ]
    },
    {
      "cell_type": "markdown",
      "metadata": {},
      "source": [
        "## **4. Pré-Processamento dos Dados**\n",
        "\n",
        "### **Preparando os Dados para Machine Learning**\n",
        "\n",
        "O **pré-processamento dos dados** é uma etapa fundamental no desenvolvimento de modelos de **Machine Learning**, pois muitos algoritmos exigem que os dados estejam em formatos específicos e adequadamente preparados para garantir um desempenho eficiente. Essa preparação inclui desde o **tratamento de dados ausentes**, **normalização** e **padronização** até a **codificação de variáveis categóricas** e **remoção de outliers**.\n",
        "\n",
        "**Importância do Pré-Processamento:**  \n",
        "- **Melhora a performance** e a **eficiência** dos algoritmos.  \n",
        "- Garante que os dados estejam em um formato **compatível** com o modelo.  \n",
        "- **Reduz ruídos** e **viéses**, aumentando a **precisão** das previsões.  \n",
        "\n",
        "Explorar diferentes técnicas de preparação de dados e avaliar seu impacto no desempenho dos modelos faz parte do processo iterativo da **Ciência de Dados**. Essa experimentação é essencial para desenvolver soluções robustas e eficazes.\n",
        "\n",
        "**Testar diferentes abordagens é uma das partes mais interessantes e criativas da Ciência de Dados!**\n"
      ]
    },
    {
      "cell_type": "markdown",
      "metadata": {
        "id": "JeN-Xau0JWD8"
      },
      "source": [
        "### 4.1 Transformação de Variáveis/Atributos"
      ]
    },
    {
      "cell_type": "code",
      "execution_count": 63,
      "metadata": {
        "colab": {
          "base_uri": "https://localhost:8080/",
          "height": 206
        },
        "id": "QB7UH25fhLzn",
        "outputId": "8628f203-562a-4698-eb9c-034445348721"
      },
      "outputs": [
        {
          "data": {
            "text/html": [
              "<div>\n",
              "<style scoped>\n",
              "    .dataframe tbody tr th:only-of-type {\n",
              "        vertical-align: middle;\n",
              "    }\n",
              "\n",
              "    .dataframe tbody tr th {\n",
              "        vertical-align: top;\n",
              "    }\n",
              "\n",
              "    .dataframe thead th {\n",
              "        text-align: right;\n",
              "    }\n",
              "</style>\n",
              "<table border=\"1\" class=\"dataframe\">\n",
              "  <thead>\n",
              "    <tr style=\"text-align: right;\">\n",
              "      <th></th>\n",
              "      <th>ID</th>\n",
              "      <th>Year_Birth</th>\n",
              "      <th>Education</th>\n",
              "      <th>Marital_Status</th>\n",
              "      <th>Income</th>\n",
              "      <th>Kidhome</th>\n",
              "      <th>Teenhome</th>\n",
              "      <th>Dt_Customer</th>\n",
              "      <th>Recency</th>\n",
              "      <th>MntWines</th>\n",
              "      <th>...</th>\n",
              "      <th>AcceptedCmp5</th>\n",
              "      <th>AcceptedCmp1</th>\n",
              "      <th>AcceptedCmp2</th>\n",
              "      <th>Complain</th>\n",
              "      <th>Z_CostContact</th>\n",
              "      <th>Z_Revenue</th>\n",
              "      <th>Response</th>\n",
              "      <th>Age</th>\n",
              "      <th>Years_Since_Customer</th>\n",
              "      <th>Total_filhos</th>\n",
              "    </tr>\n",
              "  </thead>\n",
              "  <tbody>\n",
              "    <tr>\n",
              "      <th>0</th>\n",
              "      <td>5524</td>\n",
              "      <td>1957</td>\n",
              "      <td>Graduation</td>\n",
              "      <td>Single</td>\n",
              "      <td>58138.0</td>\n",
              "      <td>0</td>\n",
              "      <td>0</td>\n",
              "      <td>2012-09-04</td>\n",
              "      <td>58</td>\n",
              "      <td>635</td>\n",
              "      <td>...</td>\n",
              "      <td>0</td>\n",
              "      <td>0</td>\n",
              "      <td>0</td>\n",
              "      <td>0</td>\n",
              "      <td>3</td>\n",
              "      <td>11</td>\n",
              "      <td>1</td>\n",
              "      <td>68</td>\n",
              "      <td>12.0</td>\n",
              "      <td>0</td>\n",
              "    </tr>\n",
              "    <tr>\n",
              "      <th>1</th>\n",
              "      <td>2174</td>\n",
              "      <td>1954</td>\n",
              "      <td>Graduation</td>\n",
              "      <td>Single</td>\n",
              "      <td>46344.0</td>\n",
              "      <td>1</td>\n",
              "      <td>1</td>\n",
              "      <td>2014-03-08</td>\n",
              "      <td>38</td>\n",
              "      <td>11</td>\n",
              "      <td>...</td>\n",
              "      <td>0</td>\n",
              "      <td>0</td>\n",
              "      <td>0</td>\n",
              "      <td>0</td>\n",
              "      <td>3</td>\n",
              "      <td>11</td>\n",
              "      <td>0</td>\n",
              "      <td>71</td>\n",
              "      <td>11.0</td>\n",
              "      <td>2</td>\n",
              "    </tr>\n",
              "    <tr>\n",
              "      <th>2</th>\n",
              "      <td>4141</td>\n",
              "      <td>1965</td>\n",
              "      <td>Graduation</td>\n",
              "      <td>Together</td>\n",
              "      <td>71613.0</td>\n",
              "      <td>0</td>\n",
              "      <td>0</td>\n",
              "      <td>2013-08-21</td>\n",
              "      <td>26</td>\n",
              "      <td>426</td>\n",
              "      <td>...</td>\n",
              "      <td>0</td>\n",
              "      <td>0</td>\n",
              "      <td>0</td>\n",
              "      <td>0</td>\n",
              "      <td>3</td>\n",
              "      <td>11</td>\n",
              "      <td>0</td>\n",
              "      <td>60</td>\n",
              "      <td>11.0</td>\n",
              "      <td>0</td>\n",
              "    </tr>\n",
              "    <tr>\n",
              "      <th>3</th>\n",
              "      <td>6182</td>\n",
              "      <td>1984</td>\n",
              "      <td>Graduation</td>\n",
              "      <td>Together</td>\n",
              "      <td>26646.0</td>\n",
              "      <td>1</td>\n",
              "      <td>0</td>\n",
              "      <td>2014-02-10</td>\n",
              "      <td>26</td>\n",
              "      <td>11</td>\n",
              "      <td>...</td>\n",
              "      <td>0</td>\n",
              "      <td>0</td>\n",
              "      <td>0</td>\n",
              "      <td>0</td>\n",
              "      <td>3</td>\n",
              "      <td>11</td>\n",
              "      <td>0</td>\n",
              "      <td>41</td>\n",
              "      <td>11.0</td>\n",
              "      <td>1</td>\n",
              "    </tr>\n",
              "    <tr>\n",
              "      <th>4</th>\n",
              "      <td>5324</td>\n",
              "      <td>1981</td>\n",
              "      <td>PhD</td>\n",
              "      <td>Married</td>\n",
              "      <td>58293.0</td>\n",
              "      <td>1</td>\n",
              "      <td>0</td>\n",
              "      <td>2014-01-19</td>\n",
              "      <td>94</td>\n",
              "      <td>173</td>\n",
              "      <td>...</td>\n",
              "      <td>0</td>\n",
              "      <td>0</td>\n",
              "      <td>0</td>\n",
              "      <td>0</td>\n",
              "      <td>3</td>\n",
              "      <td>11</td>\n",
              "      <td>0</td>\n",
              "      <td>44</td>\n",
              "      <td>11.0</td>\n",
              "      <td>1</td>\n",
              "    </tr>\n",
              "  </tbody>\n",
              "</table>\n",
              "<p>5 rows × 32 columns</p>\n",
              "</div>"
            ],
            "text/plain": [
              "     ID  Year_Birth   Education Marital_Status   Income  Kidhome  Teenhome  \\\n",
              "0  5524        1957  Graduation         Single  58138.0        0         0   \n",
              "1  2174        1954  Graduation         Single  46344.0        1         1   \n",
              "2  4141        1965  Graduation       Together  71613.0        0         0   \n",
              "3  6182        1984  Graduation       Together  26646.0        1         0   \n",
              "4  5324        1981         PhD        Married  58293.0        1         0   \n",
              "\n",
              "  Dt_Customer  Recency  MntWines  ...  AcceptedCmp5  AcceptedCmp1  \\\n",
              "0  2012-09-04       58       635  ...             0             0   \n",
              "1  2014-03-08       38        11  ...             0             0   \n",
              "2  2013-08-21       26       426  ...             0             0   \n",
              "3  2014-02-10       26        11  ...             0             0   \n",
              "4  2014-01-19       94       173  ...             0             0   \n",
              "\n",
              "   AcceptedCmp2  Complain  Z_CostContact  Z_Revenue  Response  Age  \\\n",
              "0             0         0              3         11         1   68   \n",
              "1             0         0              3         11         0   71   \n",
              "2             0         0              3         11         0   60   \n",
              "3             0         0              3         11         0   41   \n",
              "4             0         0              3         11         0   44   \n",
              "\n",
              "   Years_Since_Customer  Total_filhos  \n",
              "0                  12.0             0  \n",
              "1                  11.0             2  \n",
              "2                  11.0             0  \n",
              "3                  11.0             1  \n",
              "4                  11.0             1  \n",
              "\n",
              "[5 rows x 32 columns]"
            ]
          },
          "execution_count": 63,
          "metadata": {},
          "output_type": "execute_result"
        }
      ],
      "source": [
        "df.head()"
      ]
    },
    {
      "cell_type": "code",
      "execution_count": 64,
      "metadata": {},
      "outputs": [
        {
          "data": {
            "text/plain": [
              "Index(['ID', 'Year_Birth', 'Education', 'Marital_Status', 'Income', 'Kidhome',\n",
              "       'Teenhome', 'Dt_Customer', 'Recency', 'MntWines', 'MntFruits',\n",
              "       'MntMeatProducts', 'MntFishProducts', 'MntSweetProducts',\n",
              "       'MntGoldProds', 'NumDealsPurchases', 'NumWebPurchases',\n",
              "       'NumCatalogPurchases', 'NumStorePurchases', 'NumWebVisitsMonth',\n",
              "       'AcceptedCmp3', 'AcceptedCmp4', 'AcceptedCmp5', 'AcceptedCmp1',\n",
              "       'AcceptedCmp2', 'Complain', 'Z_CostContact', 'Z_Revenue', 'Response',\n",
              "       'Age', 'Years_Since_Customer', 'Total_filhos'],\n",
              "      dtype='object')"
            ]
          },
          "execution_count": 64,
          "metadata": {},
          "output_type": "execute_result"
        }
      ],
      "source": [
        "df.columns"
      ]
    },
    {
      "cell_type": "code",
      "execution_count": 65,
      "metadata": {},
      "outputs": [
        {
          "name": "stdout",
          "output_type": "stream",
          "text": [
            "<class 'pandas.core.frame.DataFrame'>\n",
            "RangeIndex: 2240 entries, 0 to 2239\n",
            "Data columns (total 32 columns):\n",
            " #   Column                Non-Null Count  Dtype         \n",
            "---  ------                --------------  -----         \n",
            " 0   ID                    2240 non-null   int64         \n",
            " 1   Year_Birth            2240 non-null   int64         \n",
            " 2   Education             2240 non-null   object        \n",
            " 3   Marital_Status        2240 non-null   object        \n",
            " 4   Income                2216 non-null   float64       \n",
            " 5   Kidhome               2240 non-null   int64         \n",
            " 6   Teenhome              2240 non-null   int64         \n",
            " 7   Dt_Customer           2240 non-null   datetime64[ns]\n",
            " 8   Recency               2240 non-null   int64         \n",
            " 9   MntWines              2240 non-null   int64         \n",
            " 10  MntFruits             2240 non-null   int64         \n",
            " 11  MntMeatProducts       2240 non-null   int64         \n",
            " 12  MntFishProducts       2240 non-null   int64         \n",
            " 13  MntSweetProducts      2240 non-null   int64         \n",
            " 14  MntGoldProds          2240 non-null   int64         \n",
            " 15  NumDealsPurchases     2240 non-null   int64         \n",
            " 16  NumWebPurchases       2240 non-null   int64         \n",
            " 17  NumCatalogPurchases   2240 non-null   int64         \n",
            " 18  NumStorePurchases     2240 non-null   int64         \n",
            " 19  NumWebVisitsMonth     2240 non-null   int64         \n",
            " 20  AcceptedCmp3          2240 non-null   int64         \n",
            " 21  AcceptedCmp4          2240 non-null   int64         \n",
            " 22  AcceptedCmp5          2240 non-null   int64         \n",
            " 23  AcceptedCmp1          2240 non-null   int64         \n",
            " 24  AcceptedCmp2          2240 non-null   int64         \n",
            " 25  Complain              2240 non-null   int64         \n",
            " 26  Z_CostContact         2240 non-null   int64         \n",
            " 27  Z_Revenue             2240 non-null   int64         \n",
            " 28  Response              2240 non-null   int64         \n",
            " 29  Age                   2240 non-null   int64         \n",
            " 30  Years_Since_Customer  2240 non-null   float64       \n",
            " 31  Total_filhos          2240 non-null   int64         \n",
            "dtypes: datetime64[ns](1), float64(2), int64(27), object(2)\n",
            "memory usage: 560.1+ KB\n"
          ]
        }
      ],
      "source": [
        "df.info()"
      ]
    },
    {
      "cell_type": "markdown",
      "metadata": {},
      "source": [
        "Nesta etapa do projeto/tarefa transformamos as variáveis com base no EDA - exploração dos dados, que fizemos. Algumas dessas transformações podem já terem ocorrido, me passos anteriores, no intuito de facilitar o próprio processo de análise exploratória dos dados.\n",
        "\n",
        "`Age` -> criada a partir da variável `Year_Birth` \n",
        "\n",
        "`Total_filhos` -> criada a partir das variáveis `Kidhome` e `Teenhome`\n",
        "\n",
        "`Years_Since_Customer` -> a partir da variável `Dt_Customer`, sendo essa última tivemos que realizar um processo de formatar o tipo de dado que a variável representa.\n"
      ]
    },
    {
      "cell_type": "markdown",
      "metadata": {
        "id": "gt125y_WJWD9"
      },
      "source": [
        "#### 4.1.1 Excluindo atributos sem relevancia\n",
        "\n",
        "Variáveis que não contribuem para a previsão, como o **`ID`**, **`Z_CostContact`**, **`Z_Revenue`** serão excluídas por não apresentarem valor preditivo.\n",
        "\n",
        "Ainda as variáaveis que foram transformadas em novas features, também iremos exluir dos dados, como exemplo, `Year_Birth`, `Kidhome`, `Teenhome` e `Dt_Customer`.\n",
        "\n",
        "Boa prática é sempre manter intacto o dataSet original e realizar uma cópia para realizar os pré-processamento."
      ]
    },
    {
      "cell_type": "code",
      "execution_count": 66,
      "metadata": {
        "colab": {
          "base_uri": "https://localhost:8080/",
          "height": 206
        },
        "id": "QWho_XXhiK1H",
        "outputId": "6420ecbe-6e01-4877-af7b-41eca24e69db"
      },
      "outputs": [
        {
          "data": {
            "text/html": [
              "<div>\n",
              "<style scoped>\n",
              "    .dataframe tbody tr th:only-of-type {\n",
              "        vertical-align: middle;\n",
              "    }\n",
              "\n",
              "    .dataframe tbody tr th {\n",
              "        vertical-align: top;\n",
              "    }\n",
              "\n",
              "    .dataframe thead th {\n",
              "        text-align: right;\n",
              "    }\n",
              "</style>\n",
              "<table border=\"1\" class=\"dataframe\">\n",
              "  <thead>\n",
              "    <tr style=\"text-align: right;\">\n",
              "      <th></th>\n",
              "      <th>ID</th>\n",
              "      <th>Year_Birth</th>\n",
              "      <th>Education</th>\n",
              "      <th>Marital_Status</th>\n",
              "      <th>Income</th>\n",
              "      <th>Kidhome</th>\n",
              "      <th>Teenhome</th>\n",
              "      <th>Dt_Customer</th>\n",
              "      <th>Recency</th>\n",
              "      <th>MntWines</th>\n",
              "      <th>...</th>\n",
              "      <th>AcceptedCmp5</th>\n",
              "      <th>AcceptedCmp1</th>\n",
              "      <th>AcceptedCmp2</th>\n",
              "      <th>Complain</th>\n",
              "      <th>Z_CostContact</th>\n",
              "      <th>Z_Revenue</th>\n",
              "      <th>Response</th>\n",
              "      <th>Age</th>\n",
              "      <th>Years_Since_Customer</th>\n",
              "      <th>Total_filhos</th>\n",
              "    </tr>\n",
              "  </thead>\n",
              "  <tbody>\n",
              "    <tr>\n",
              "      <th>0</th>\n",
              "      <td>5524</td>\n",
              "      <td>1957</td>\n",
              "      <td>Graduation</td>\n",
              "      <td>Single</td>\n",
              "      <td>58138.0</td>\n",
              "      <td>0</td>\n",
              "      <td>0</td>\n",
              "      <td>2012-09-04</td>\n",
              "      <td>58</td>\n",
              "      <td>635</td>\n",
              "      <td>...</td>\n",
              "      <td>0</td>\n",
              "      <td>0</td>\n",
              "      <td>0</td>\n",
              "      <td>0</td>\n",
              "      <td>3</td>\n",
              "      <td>11</td>\n",
              "      <td>1</td>\n",
              "      <td>68</td>\n",
              "      <td>12.0</td>\n",
              "      <td>0</td>\n",
              "    </tr>\n",
              "    <tr>\n",
              "      <th>1</th>\n",
              "      <td>2174</td>\n",
              "      <td>1954</td>\n",
              "      <td>Graduation</td>\n",
              "      <td>Single</td>\n",
              "      <td>46344.0</td>\n",
              "      <td>1</td>\n",
              "      <td>1</td>\n",
              "      <td>2014-03-08</td>\n",
              "      <td>38</td>\n",
              "      <td>11</td>\n",
              "      <td>...</td>\n",
              "      <td>0</td>\n",
              "      <td>0</td>\n",
              "      <td>0</td>\n",
              "      <td>0</td>\n",
              "      <td>3</td>\n",
              "      <td>11</td>\n",
              "      <td>0</td>\n",
              "      <td>71</td>\n",
              "      <td>11.0</td>\n",
              "      <td>2</td>\n",
              "    </tr>\n",
              "    <tr>\n",
              "      <th>2</th>\n",
              "      <td>4141</td>\n",
              "      <td>1965</td>\n",
              "      <td>Graduation</td>\n",
              "      <td>Together</td>\n",
              "      <td>71613.0</td>\n",
              "      <td>0</td>\n",
              "      <td>0</td>\n",
              "      <td>2013-08-21</td>\n",
              "      <td>26</td>\n",
              "      <td>426</td>\n",
              "      <td>...</td>\n",
              "      <td>0</td>\n",
              "      <td>0</td>\n",
              "      <td>0</td>\n",
              "      <td>0</td>\n",
              "      <td>3</td>\n",
              "      <td>11</td>\n",
              "      <td>0</td>\n",
              "      <td>60</td>\n",
              "      <td>11.0</td>\n",
              "      <td>0</td>\n",
              "    </tr>\n",
              "    <tr>\n",
              "      <th>3</th>\n",
              "      <td>6182</td>\n",
              "      <td>1984</td>\n",
              "      <td>Graduation</td>\n",
              "      <td>Together</td>\n",
              "      <td>26646.0</td>\n",
              "      <td>1</td>\n",
              "      <td>0</td>\n",
              "      <td>2014-02-10</td>\n",
              "      <td>26</td>\n",
              "      <td>11</td>\n",
              "      <td>...</td>\n",
              "      <td>0</td>\n",
              "      <td>0</td>\n",
              "      <td>0</td>\n",
              "      <td>0</td>\n",
              "      <td>3</td>\n",
              "      <td>11</td>\n",
              "      <td>0</td>\n",
              "      <td>41</td>\n",
              "      <td>11.0</td>\n",
              "      <td>1</td>\n",
              "    </tr>\n",
              "    <tr>\n",
              "      <th>4</th>\n",
              "      <td>5324</td>\n",
              "      <td>1981</td>\n",
              "      <td>PhD</td>\n",
              "      <td>Married</td>\n",
              "      <td>58293.0</td>\n",
              "      <td>1</td>\n",
              "      <td>0</td>\n",
              "      <td>2014-01-19</td>\n",
              "      <td>94</td>\n",
              "      <td>173</td>\n",
              "      <td>...</td>\n",
              "      <td>0</td>\n",
              "      <td>0</td>\n",
              "      <td>0</td>\n",
              "      <td>0</td>\n",
              "      <td>3</td>\n",
              "      <td>11</td>\n",
              "      <td>0</td>\n",
              "      <td>44</td>\n",
              "      <td>11.0</td>\n",
              "      <td>1</td>\n",
              "    </tr>\n",
              "  </tbody>\n",
              "</table>\n",
              "<p>5 rows × 32 columns</p>\n",
              "</div>"
            ],
            "text/plain": [
              "     ID  Year_Birth   Education Marital_Status   Income  Kidhome  Teenhome  \\\n",
              "0  5524        1957  Graduation         Single  58138.0        0         0   \n",
              "1  2174        1954  Graduation         Single  46344.0        1         1   \n",
              "2  4141        1965  Graduation       Together  71613.0        0         0   \n",
              "3  6182        1984  Graduation       Together  26646.0        1         0   \n",
              "4  5324        1981         PhD        Married  58293.0        1         0   \n",
              "\n",
              "  Dt_Customer  Recency  MntWines  ...  AcceptedCmp5  AcceptedCmp1  \\\n",
              "0  2012-09-04       58       635  ...             0             0   \n",
              "1  2014-03-08       38        11  ...             0             0   \n",
              "2  2013-08-21       26       426  ...             0             0   \n",
              "3  2014-02-10       26        11  ...             0             0   \n",
              "4  2014-01-19       94       173  ...             0             0   \n",
              "\n",
              "   AcceptedCmp2  Complain  Z_CostContact  Z_Revenue  Response  Age  \\\n",
              "0             0         0              3         11         1   68   \n",
              "1             0         0              3         11         0   71   \n",
              "2             0         0              3         11         0   60   \n",
              "3             0         0              3         11         0   41   \n",
              "4             0         0              3         11         0   44   \n",
              "\n",
              "   Years_Since_Customer  Total_filhos  \n",
              "0                  12.0             0  \n",
              "1                  11.0             2  \n",
              "2                  11.0             0  \n",
              "3                  11.0             1  \n",
              "4                  11.0             1  \n",
              "\n",
              "[5 rows x 32 columns]"
            ]
          },
          "execution_count": 66,
          "metadata": {},
          "output_type": "execute_result"
        }
      ],
      "source": [
        "df_proc = df.copy()\n",
        "df_proc.head()"
      ]
    },
    {
      "cell_type": "code",
      "execution_count": 67,
      "metadata": {},
      "outputs": [
        {
          "data": {
            "text/plain": [
              "(2240, 32)"
            ]
          },
          "execution_count": 67,
          "metadata": {},
          "output_type": "execute_result"
        }
      ],
      "source": [
        "df_proc.shape"
      ]
    },
    {
      "cell_type": "code",
      "execution_count": 68,
      "metadata": {},
      "outputs": [],
      "source": [
        "df_proc = df_proc[df_proc['Year_Birth'] >= 1932]"
      ]
    },
    {
      "cell_type": "code",
      "execution_count": 69,
      "metadata": {},
      "outputs": [
        {
          "data": {
            "text/plain": [
              "(2237, 32)"
            ]
          },
          "execution_count": 69,
          "metadata": {},
          "output_type": "execute_result"
        }
      ],
      "source": [
        "df_proc.shape"
      ]
    },
    {
      "cell_type": "code",
      "execution_count": 70,
      "metadata": {
        "colab": {
          "base_uri": "https://localhost:8080/",
          "height": 206
        },
        "id": "Bdv5SZhHiRvx",
        "outputId": "cb723ebb-3576-4130-837b-b1f390a5ce3a"
      },
      "outputs": [
        {
          "data": {
            "text/html": [
              "<div>\n",
              "<style scoped>\n",
              "    .dataframe tbody tr th:only-of-type {\n",
              "        vertical-align: middle;\n",
              "    }\n",
              "\n",
              "    .dataframe tbody tr th {\n",
              "        vertical-align: top;\n",
              "    }\n",
              "\n",
              "    .dataframe thead th {\n",
              "        text-align: right;\n",
              "    }\n",
              "</style>\n",
              "<table border=\"1\" class=\"dataframe\">\n",
              "  <thead>\n",
              "    <tr style=\"text-align: right;\">\n",
              "      <th></th>\n",
              "      <th>Education</th>\n",
              "      <th>Marital_Status</th>\n",
              "      <th>Income</th>\n",
              "      <th>Recency</th>\n",
              "      <th>MntWines</th>\n",
              "      <th>MntFruits</th>\n",
              "      <th>MntMeatProducts</th>\n",
              "      <th>MntFishProducts</th>\n",
              "      <th>MntSweetProducts</th>\n",
              "      <th>MntGoldProds</th>\n",
              "      <th>...</th>\n",
              "      <th>AcceptedCmp3</th>\n",
              "      <th>AcceptedCmp4</th>\n",
              "      <th>AcceptedCmp5</th>\n",
              "      <th>AcceptedCmp1</th>\n",
              "      <th>AcceptedCmp2</th>\n",
              "      <th>Complain</th>\n",
              "      <th>Response</th>\n",
              "      <th>Age</th>\n",
              "      <th>Years_Since_Customer</th>\n",
              "      <th>Total_filhos</th>\n",
              "    </tr>\n",
              "  </thead>\n",
              "  <tbody>\n",
              "    <tr>\n",
              "      <th>0</th>\n",
              "      <td>Graduation</td>\n",
              "      <td>Single</td>\n",
              "      <td>58138.0</td>\n",
              "      <td>58</td>\n",
              "      <td>635</td>\n",
              "      <td>88</td>\n",
              "      <td>546</td>\n",
              "      <td>172</td>\n",
              "      <td>88</td>\n",
              "      <td>88</td>\n",
              "      <td>...</td>\n",
              "      <td>0</td>\n",
              "      <td>0</td>\n",
              "      <td>0</td>\n",
              "      <td>0</td>\n",
              "      <td>0</td>\n",
              "      <td>0</td>\n",
              "      <td>1</td>\n",
              "      <td>68</td>\n",
              "      <td>12.0</td>\n",
              "      <td>0</td>\n",
              "    </tr>\n",
              "    <tr>\n",
              "      <th>1</th>\n",
              "      <td>Graduation</td>\n",
              "      <td>Single</td>\n",
              "      <td>46344.0</td>\n",
              "      <td>38</td>\n",
              "      <td>11</td>\n",
              "      <td>1</td>\n",
              "      <td>6</td>\n",
              "      <td>2</td>\n",
              "      <td>1</td>\n",
              "      <td>6</td>\n",
              "      <td>...</td>\n",
              "      <td>0</td>\n",
              "      <td>0</td>\n",
              "      <td>0</td>\n",
              "      <td>0</td>\n",
              "      <td>0</td>\n",
              "      <td>0</td>\n",
              "      <td>0</td>\n",
              "      <td>71</td>\n",
              "      <td>11.0</td>\n",
              "      <td>2</td>\n",
              "    </tr>\n",
              "    <tr>\n",
              "      <th>2</th>\n",
              "      <td>Graduation</td>\n",
              "      <td>Together</td>\n",
              "      <td>71613.0</td>\n",
              "      <td>26</td>\n",
              "      <td>426</td>\n",
              "      <td>49</td>\n",
              "      <td>127</td>\n",
              "      <td>111</td>\n",
              "      <td>21</td>\n",
              "      <td>42</td>\n",
              "      <td>...</td>\n",
              "      <td>0</td>\n",
              "      <td>0</td>\n",
              "      <td>0</td>\n",
              "      <td>0</td>\n",
              "      <td>0</td>\n",
              "      <td>0</td>\n",
              "      <td>0</td>\n",
              "      <td>60</td>\n",
              "      <td>11.0</td>\n",
              "      <td>0</td>\n",
              "    </tr>\n",
              "    <tr>\n",
              "      <th>3</th>\n",
              "      <td>Graduation</td>\n",
              "      <td>Together</td>\n",
              "      <td>26646.0</td>\n",
              "      <td>26</td>\n",
              "      <td>11</td>\n",
              "      <td>4</td>\n",
              "      <td>20</td>\n",
              "      <td>10</td>\n",
              "      <td>3</td>\n",
              "      <td>5</td>\n",
              "      <td>...</td>\n",
              "      <td>0</td>\n",
              "      <td>0</td>\n",
              "      <td>0</td>\n",
              "      <td>0</td>\n",
              "      <td>0</td>\n",
              "      <td>0</td>\n",
              "      <td>0</td>\n",
              "      <td>41</td>\n",
              "      <td>11.0</td>\n",
              "      <td>1</td>\n",
              "    </tr>\n",
              "    <tr>\n",
              "      <th>4</th>\n",
              "      <td>PhD</td>\n",
              "      <td>Married</td>\n",
              "      <td>58293.0</td>\n",
              "      <td>94</td>\n",
              "      <td>173</td>\n",
              "      <td>43</td>\n",
              "      <td>118</td>\n",
              "      <td>46</td>\n",
              "      <td>27</td>\n",
              "      <td>15</td>\n",
              "      <td>...</td>\n",
              "      <td>0</td>\n",
              "      <td>0</td>\n",
              "      <td>0</td>\n",
              "      <td>0</td>\n",
              "      <td>0</td>\n",
              "      <td>0</td>\n",
              "      <td>0</td>\n",
              "      <td>44</td>\n",
              "      <td>11.0</td>\n",
              "      <td>1</td>\n",
              "    </tr>\n",
              "  </tbody>\n",
              "</table>\n",
              "<p>5 rows × 25 columns</p>\n",
              "</div>"
            ],
            "text/plain": [
              "    Education Marital_Status   Income  Recency  MntWines  MntFruits  \\\n",
              "0  Graduation         Single  58138.0       58       635         88   \n",
              "1  Graduation         Single  46344.0       38        11          1   \n",
              "2  Graduation       Together  71613.0       26       426         49   \n",
              "3  Graduation       Together  26646.0       26        11          4   \n",
              "4         PhD        Married  58293.0       94       173         43   \n",
              "\n",
              "   MntMeatProducts  MntFishProducts  MntSweetProducts  MntGoldProds  ...  \\\n",
              "0              546              172                88            88  ...   \n",
              "1                6                2                 1             6  ...   \n",
              "2              127              111                21            42  ...   \n",
              "3               20               10                 3             5  ...   \n",
              "4              118               46                27            15  ...   \n",
              "\n",
              "   AcceptedCmp3  AcceptedCmp4  AcceptedCmp5  AcceptedCmp1  AcceptedCmp2  \\\n",
              "0             0             0             0             0             0   \n",
              "1             0             0             0             0             0   \n",
              "2             0             0             0             0             0   \n",
              "3             0             0             0             0             0   \n",
              "4             0             0             0             0             0   \n",
              "\n",
              "   Complain  Response  Age  Years_Since_Customer  Total_filhos  \n",
              "0         0         1   68                  12.0             0  \n",
              "1         0         0   71                  11.0             2  \n",
              "2         0         0   60                  11.0             0  \n",
              "3         0         0   41                  11.0             1  \n",
              "4         0         0   44                  11.0             1  \n",
              "\n",
              "[5 rows x 25 columns]"
            ]
          },
          "execution_count": 70,
          "metadata": {},
          "output_type": "execute_result"
        }
      ],
      "source": [
        "df_proc.drop(['ID', 'Z_CostContact', 'Z_Revenue', 'Year_Birth', 'Kidhome', 'Teenhome' , 'Dt_Customer'], axis= 1, inplace= True)\n",
        "df_proc.head()"
      ]
    },
    {
      "cell_type": "code",
      "execution_count": 71,
      "metadata": {},
      "outputs": [
        {
          "data": {
            "text/plain": [
              "(2237, 25)"
            ]
          },
          "execution_count": 71,
          "metadata": {},
          "output_type": "execute_result"
        }
      ],
      "source": [
        "df_proc.shape"
      ]
    },
    {
      "cell_type": "markdown",
      "metadata": {},
      "source": [
        "Iremos ainda excluir dos dados os outlier's que identificamos. A saber:\n",
        "* `Income` -> iremos excluir o registro que tem o valoe de 666666\n",
        "* `Year_Birth` -> valores antes de 1932"
      ]
    },
    {
      "cell_type": "code",
      "execution_count": 72,
      "metadata": {},
      "outputs": [],
      "source": [
        "df_proc = df_proc[df_proc['Income'] != 666666]"
      ]
    },
    {
      "cell_type": "code",
      "execution_count": 73,
      "metadata": {},
      "outputs": [
        {
          "data": {
            "text/plain": [
              "(2236, 25)"
            ]
          },
          "execution_count": 73,
          "metadata": {},
          "output_type": "execute_result"
        }
      ],
      "source": [
        "df_proc.shape"
      ]
    },
    {
      "cell_type": "markdown",
      "metadata": {
        "id": "faX8DPv0ji7T"
      },
      "source": [
        "### 4.2 Feature Engineer - I\n"
      ]
    },
    {
      "cell_type": "markdown",
      "metadata": {},
      "source": [
        "#### **4.2.1 Imputação de Valores Ausentes**\n",
        "\n",
        "Embora o conjunto de dados atual **não apresente valores ausentes**, é importante documentar estratégias de **imputação** para lidar com situações futuras em que **dados faltantes** possam surgir durante o processo de **pré-processamento** ou em atualizações da base de dados.\n",
        "\n",
        "A imputação de valores ausentes deve ser realizada com cuidado, considerando o tipo de variável (numérica ou categórica) e a distribuição dos dados. Abaixo estão dois métodos amplamente utilizados para **variáveis numéricas**:\n",
        "\n",
        "**Imputação pela Mediana**  \n",
        "A substituição de valores ausentes pela **mediana** é recomendada quando a variável possui **outliers**, pois a mediana é menos sensível a valores extremos do que a média.\n",
        "\n",
        "**Implementação com `SimpleImputer`:**\n",
        "\n",
        "```python\n",
        "from sklearn.impute import SimpleImputer\n",
        "import numpy as np\n",
        "\n",
        "# Criando o imputador com estratégia de mediana\n",
        "imp_num = SimpleImputer(missing_values=np.nan, strategy='median', add_indicator=True)\n",
        "\n",
        "# Aplicando a imputação nos dados\n",
        "dados_imputados = imp_num.fit_transform(dados)\n"
      ]
    },
    {
      "cell_type": "code",
      "execution_count": 74,
      "metadata": {
        "colab": {
          "base_uri": "https://localhost:8080/",
          "height": 429
        },
        "id": "h-Q5OcD-kn8E",
        "outputId": "f61b8049-cbd5-4719-dc44-a671ef195807"
      },
      "outputs": [
        {
          "data": {
            "text/plain": [
              "Education                0\n",
              "Marital_Status           0\n",
              "Income                  24\n",
              "Recency                  0\n",
              "MntWines                 0\n",
              "MntFruits                0\n",
              "MntMeatProducts          0\n",
              "MntFishProducts          0\n",
              "MntSweetProducts         0\n",
              "MntGoldProds             0\n",
              "NumDealsPurchases        0\n",
              "NumWebPurchases          0\n",
              "NumCatalogPurchases      0\n",
              "NumStorePurchases        0\n",
              "NumWebVisitsMonth        0\n",
              "AcceptedCmp3             0\n",
              "AcceptedCmp4             0\n",
              "AcceptedCmp5             0\n",
              "AcceptedCmp1             0\n",
              "AcceptedCmp2             0\n",
              "Complain                 0\n",
              "Response                 0\n",
              "Age                      0\n",
              "Years_Since_Customer     0\n",
              "Total_filhos             0\n",
              "dtype: int64"
            ]
          },
          "execution_count": 74,
          "metadata": {},
          "output_type": "execute_result"
        }
      ],
      "source": [
        "df_proc.isnull().sum()"
      ]
    },
    {
      "cell_type": "code",
      "execution_count": 75,
      "metadata": {},
      "outputs": [
        {
          "data": {
            "text/plain": [
              "(2236, 25)"
            ]
          },
          "execution_count": 75,
          "metadata": {},
          "output_type": "execute_result"
        }
      ],
      "source": [
        "df_proc.shape"
      ]
    },
    {
      "cell_type": "code",
      "execution_count": 76,
      "metadata": {},
      "outputs": [
        {
          "data": {
            "text/plain": [
              "Complain\n",
              "0    24\n",
              "Name: count, dtype: int64"
            ]
          },
          "execution_count": 76,
          "metadata": {},
          "output_type": "execute_result"
        }
      ],
      "source": [
        "df['Complain'].loc[df['Income'].isnull()].value_counts()"
      ]
    },
    {
      "cell_type": "code",
      "execution_count": 77,
      "metadata": {},
      "outputs": [
        {
          "data": {
            "text/plain": [
              "(2212, 25)"
            ]
          },
          "execution_count": 77,
          "metadata": {},
          "output_type": "execute_result"
        }
      ],
      "source": [
        "df_proc = df_proc.dropna(subset=['Income'])\n",
        "df_proc.shape"
      ]
    },
    {
      "cell_type": "code",
      "execution_count": 78,
      "metadata": {},
      "outputs": [
        {
          "data": {
            "text/plain": [
              "Education               0\n",
              "Marital_Status          0\n",
              "Income                  0\n",
              "Recency                 0\n",
              "MntWines                0\n",
              "MntFruits               0\n",
              "MntMeatProducts         0\n",
              "MntFishProducts         0\n",
              "MntSweetProducts        0\n",
              "MntGoldProds            0\n",
              "NumDealsPurchases       0\n",
              "NumWebPurchases         0\n",
              "NumCatalogPurchases     0\n",
              "NumStorePurchases       0\n",
              "NumWebVisitsMonth       0\n",
              "AcceptedCmp3            0\n",
              "AcceptedCmp4            0\n",
              "AcceptedCmp5            0\n",
              "AcceptedCmp1            0\n",
              "AcceptedCmp2            0\n",
              "Complain                0\n",
              "Response                0\n",
              "Age                     0\n",
              "Years_Since_Customer    0\n",
              "Total_filhos            0\n",
              "dtype: int64"
            ]
          },
          "execution_count": 78,
          "metadata": {},
          "output_type": "execute_result"
        }
      ],
      "source": [
        "df_proc.isnull().sum()"
      ]
    },
    {
      "cell_type": "markdown",
      "metadata": {
        "id": "Hei6UtaojtC4"
      },
      "source": [
        "#### 4.2.2 Codificação de Variáveis Categóricas (*Dummies*)\n",
        "\n",
        "Algoritmos de **Machine Learning** geralmente requerem que todas as variáveis estejam em **formato numérico**. Por isso, é necessário transformar as variáveis **categóricas** em representações numéricas sem perder a **informação semântica**. Esse processo é conhecido como **codificação de variáveis categóricas**.\n",
        "\n",
        "A escolha da técnica de codificação depende do tipo de variável categórica: **binária** ou **multiclasse**.\n",
        "\n",
        "**Para Variáveis Categóricas Binárias:**  \n",
        "Quando a variável apresenta **duas categorias** (ex.: **`Gender`** com valores *Masculino* e *Feminino*), a codificação **ordinal** é mais apropriada.\n",
        "\n",
        "**método utilizado: `LabelEncoder`**  \n",
        "Atribui **valores inteiros sequenciais** para representar as categorias.\n"
      ]
    },
    {
      "cell_type": "markdown",
      "metadata": {
        "id": "9hjDjOEp8IIr"
      },
      "source": [
        "Iremos aplicar a forma 1"
      ]
    },
    {
      "cell_type": "code",
      "execution_count": 79,
      "metadata": {
        "id": "38AnG98WnG5G"
      },
      "outputs": [],
      "source": [
        "label_encoder = LabelEncoder()"
      ]
    },
    {
      "cell_type": "code",
      "execution_count": 80,
      "metadata": {
        "colab": {
          "base_uri": "https://localhost:8080/"
        },
        "id": "fvQQ5u1aUtF4",
        "outputId": "37957bf1-5147-4325-854a-7b7394c3d69c"
      },
      "outputs": [
        {
          "name": "stdout",
          "output_type": "stream",
          "text": [
            "   Education  Marital_Status\n",
            "0          2               4\n",
            "1          2               4\n",
            "2          2               5\n",
            "3          2               5\n",
            "4          4               3\n"
          ]
        }
      ],
      "source": [
        "df_proc['Education'] = label_encoder.fit_transform(df_proc['Education'])\n",
        "df_proc['Marital_Status'] = label_encoder.fit_transform(df_proc['Marital_Status'])\n",
        "\n",
        "print(df_proc[['Education', 'Marital_Status']].head())"
      ]
    },
    {
      "cell_type": "code",
      "execution_count": 81,
      "metadata": {},
      "outputs": [
        {
          "data": {
            "text/plain": [
              "(2212, 25)"
            ]
          },
          "execution_count": 81,
          "metadata": {},
          "output_type": "execute_result"
        }
      ],
      "source": [
        "df_proc.shape"
      ]
    },
    {
      "cell_type": "markdown",
      "metadata": {
        "id": "FLTedhzZJWEV"
      },
      "source": [
        "### 4.3 Split dados\n",
        "\n",
        "Para avaliar o desempenho do modelo, é fundamental dividir os dados em conjuntos de treino e teste. Duas abordagens amplamente utilizadas são: \n",
        "* (i) o método estático, implementado pela função train_test_split da biblioteca sklearn.model_selection, que separa os dados em uma única iteração; e\n",
        "* (ii) a validação cruzada (Cross-validation), que realiza divisões aleatórias e avalia o modelo em diferentes subconjuntos para maior robustez.\n",
        "\n",
        "Optamos pelo método estático, configurando 75% dos dados para treino e 25% para teste, garantindo simplicidade e uma divisão consistente para o desenvolvimento inicial do modelo.\n",
        "\n"
      ]
    },
    {
      "cell_type": "markdown",
      "metadata": {},
      "source": [
        "\n",
        "Para a construção do modelo preditivo, é fundamental separar as variáveis do conjunto de dados em dois grupos distintos:\n",
        "\n",
        "- **Variável Alvo (`y`)**: Representa o resultado que desejamos prever. No contexto deste estudo, a variável alvo é a **`Exited`**, que indica se o cliente deixou o banco (**1**) ou permaneceu (**0**). Essa variável será utilizada para treinar o modelo e avaliar sua capacidade de prever a evasão de clientes.\n",
        "\n",
        "- **Variáveis Explicatórias (`X`)**: São as demais variáveis que contêm informações relevantes sobre o comportamento e perfil dos clientes. Elas serão utilizadas como **fatores preditivos** para estimar a probabilidade de churn. Antes do treinamento, variáveis que não contribuem para a previsão, como **`CustomerId`**, **`RowNumber`** e **`Surname`**, serão excluídas por não apresentarem valor preditivo.\n",
        "\n",
        "A separação correta entre **`X`** e **`y`** é essencial para garantir que o modelo aprenda a partir de variáveis relevantes e seja capaz de realizar previsões precisas sobre a saída ou permanência dos clientes."
      ]
    },
    {
      "cell_type": "markdown",
      "metadata": {
        "id": "8rF5zh5gnXxh"
      },
      "source": [
        "#### 4.3.1 Estático"
      ]
    },
    {
      "cell_type": "code",
      "execution_count": 82,
      "metadata": {
        "colab": {
          "base_uri": "https://localhost:8080/",
          "height": 206
        },
        "id": "h4JGJDloWnI7",
        "outputId": "687cfd51-9536-4fa2-a131-4322363f4f52"
      },
      "outputs": [
        {
          "data": {
            "text/html": [
              "<div>\n",
              "<style scoped>\n",
              "    .dataframe tbody tr th:only-of-type {\n",
              "        vertical-align: middle;\n",
              "    }\n",
              "\n",
              "    .dataframe tbody tr th {\n",
              "        vertical-align: top;\n",
              "    }\n",
              "\n",
              "    .dataframe thead th {\n",
              "        text-align: right;\n",
              "    }\n",
              "</style>\n",
              "<table border=\"1\" class=\"dataframe\">\n",
              "  <thead>\n",
              "    <tr style=\"text-align: right;\">\n",
              "      <th></th>\n",
              "      <th>Education</th>\n",
              "      <th>Marital_Status</th>\n",
              "      <th>Income</th>\n",
              "      <th>Recency</th>\n",
              "      <th>MntWines</th>\n",
              "      <th>MntFruits</th>\n",
              "      <th>MntMeatProducts</th>\n",
              "      <th>MntFishProducts</th>\n",
              "      <th>MntSweetProducts</th>\n",
              "      <th>MntGoldProds</th>\n",
              "      <th>...</th>\n",
              "      <th>AcceptedCmp3</th>\n",
              "      <th>AcceptedCmp4</th>\n",
              "      <th>AcceptedCmp5</th>\n",
              "      <th>AcceptedCmp1</th>\n",
              "      <th>AcceptedCmp2</th>\n",
              "      <th>Complain</th>\n",
              "      <th>Response</th>\n",
              "      <th>Age</th>\n",
              "      <th>Years_Since_Customer</th>\n",
              "      <th>Total_filhos</th>\n",
              "    </tr>\n",
              "  </thead>\n",
              "  <tbody>\n",
              "    <tr>\n",
              "      <th>0</th>\n",
              "      <td>2</td>\n",
              "      <td>4</td>\n",
              "      <td>58138.0</td>\n",
              "      <td>58</td>\n",
              "      <td>635</td>\n",
              "      <td>88</td>\n",
              "      <td>546</td>\n",
              "      <td>172</td>\n",
              "      <td>88</td>\n",
              "      <td>88</td>\n",
              "      <td>...</td>\n",
              "      <td>0</td>\n",
              "      <td>0</td>\n",
              "      <td>0</td>\n",
              "      <td>0</td>\n",
              "      <td>0</td>\n",
              "      <td>0</td>\n",
              "      <td>1</td>\n",
              "      <td>68</td>\n",
              "      <td>12.0</td>\n",
              "      <td>0</td>\n",
              "    </tr>\n",
              "    <tr>\n",
              "      <th>1</th>\n",
              "      <td>2</td>\n",
              "      <td>4</td>\n",
              "      <td>46344.0</td>\n",
              "      <td>38</td>\n",
              "      <td>11</td>\n",
              "      <td>1</td>\n",
              "      <td>6</td>\n",
              "      <td>2</td>\n",
              "      <td>1</td>\n",
              "      <td>6</td>\n",
              "      <td>...</td>\n",
              "      <td>0</td>\n",
              "      <td>0</td>\n",
              "      <td>0</td>\n",
              "      <td>0</td>\n",
              "      <td>0</td>\n",
              "      <td>0</td>\n",
              "      <td>0</td>\n",
              "      <td>71</td>\n",
              "      <td>11.0</td>\n",
              "      <td>2</td>\n",
              "    </tr>\n",
              "    <tr>\n",
              "      <th>2</th>\n",
              "      <td>2</td>\n",
              "      <td>5</td>\n",
              "      <td>71613.0</td>\n",
              "      <td>26</td>\n",
              "      <td>426</td>\n",
              "      <td>49</td>\n",
              "      <td>127</td>\n",
              "      <td>111</td>\n",
              "      <td>21</td>\n",
              "      <td>42</td>\n",
              "      <td>...</td>\n",
              "      <td>0</td>\n",
              "      <td>0</td>\n",
              "      <td>0</td>\n",
              "      <td>0</td>\n",
              "      <td>0</td>\n",
              "      <td>0</td>\n",
              "      <td>0</td>\n",
              "      <td>60</td>\n",
              "      <td>11.0</td>\n",
              "      <td>0</td>\n",
              "    </tr>\n",
              "    <tr>\n",
              "      <th>3</th>\n",
              "      <td>2</td>\n",
              "      <td>5</td>\n",
              "      <td>26646.0</td>\n",
              "      <td>26</td>\n",
              "      <td>11</td>\n",
              "      <td>4</td>\n",
              "      <td>20</td>\n",
              "      <td>10</td>\n",
              "      <td>3</td>\n",
              "      <td>5</td>\n",
              "      <td>...</td>\n",
              "      <td>0</td>\n",
              "      <td>0</td>\n",
              "      <td>0</td>\n",
              "      <td>0</td>\n",
              "      <td>0</td>\n",
              "      <td>0</td>\n",
              "      <td>0</td>\n",
              "      <td>41</td>\n",
              "      <td>11.0</td>\n",
              "      <td>1</td>\n",
              "    </tr>\n",
              "    <tr>\n",
              "      <th>4</th>\n",
              "      <td>4</td>\n",
              "      <td>3</td>\n",
              "      <td>58293.0</td>\n",
              "      <td>94</td>\n",
              "      <td>173</td>\n",
              "      <td>43</td>\n",
              "      <td>118</td>\n",
              "      <td>46</td>\n",
              "      <td>27</td>\n",
              "      <td>15</td>\n",
              "      <td>...</td>\n",
              "      <td>0</td>\n",
              "      <td>0</td>\n",
              "      <td>0</td>\n",
              "      <td>0</td>\n",
              "      <td>0</td>\n",
              "      <td>0</td>\n",
              "      <td>0</td>\n",
              "      <td>44</td>\n",
              "      <td>11.0</td>\n",
              "      <td>1</td>\n",
              "    </tr>\n",
              "  </tbody>\n",
              "</table>\n",
              "<p>5 rows × 25 columns</p>\n",
              "</div>"
            ],
            "text/plain": [
              "   Education  Marital_Status   Income  Recency  MntWines  MntFruits  \\\n",
              "0          2               4  58138.0       58       635         88   \n",
              "1          2               4  46344.0       38        11          1   \n",
              "2          2               5  71613.0       26       426         49   \n",
              "3          2               5  26646.0       26        11          4   \n",
              "4          4               3  58293.0       94       173         43   \n",
              "\n",
              "   MntMeatProducts  MntFishProducts  MntSweetProducts  MntGoldProds  ...  \\\n",
              "0              546              172                88            88  ...   \n",
              "1                6                2                 1             6  ...   \n",
              "2              127              111                21            42  ...   \n",
              "3               20               10                 3             5  ...   \n",
              "4              118               46                27            15  ...   \n",
              "\n",
              "   AcceptedCmp3  AcceptedCmp4  AcceptedCmp5  AcceptedCmp1  AcceptedCmp2  \\\n",
              "0             0             0             0             0             0   \n",
              "1             0             0             0             0             0   \n",
              "2             0             0             0             0             0   \n",
              "3             0             0             0             0             0   \n",
              "4             0             0             0             0             0   \n",
              "\n",
              "   Complain  Response  Age  Years_Since_Customer  Total_filhos  \n",
              "0         0         1   68                  12.0             0  \n",
              "1         0         0   71                  11.0             2  \n",
              "2         0         0   60                  11.0             0  \n",
              "3         0         0   41                  11.0             1  \n",
              "4         0         0   44                  11.0             1  \n",
              "\n",
              "[5 rows x 25 columns]"
            ]
          },
          "execution_count": 82,
          "metadata": {},
          "output_type": "execute_result"
        }
      ],
      "source": [
        "df_proc.head()"
      ]
    },
    {
      "cell_type": "code",
      "execution_count": 83,
      "metadata": {},
      "outputs": [
        {
          "data": {
            "text/plain": [
              "Index(['Education', 'Marital_Status', 'Income', 'Recency', 'MntWines',\n",
              "       'MntFruits', 'MntMeatProducts', 'MntFishProducts', 'MntSweetProducts',\n",
              "       'MntGoldProds', 'NumDealsPurchases', 'NumWebPurchases',\n",
              "       'NumCatalogPurchases', 'NumStorePurchases', 'NumWebVisitsMonth',\n",
              "       'AcceptedCmp3', 'AcceptedCmp4', 'AcceptedCmp5', 'AcceptedCmp1',\n",
              "       'AcceptedCmp2', 'Complain', 'Response', 'Age', 'Years_Since_Customer',\n",
              "       'Total_filhos'],\n",
              "      dtype='object')"
            ]
          },
          "execution_count": 83,
          "metadata": {},
          "output_type": "execute_result"
        }
      ],
      "source": [
        "df_proc.columns"
      ]
    },
    {
      "cell_type": "code",
      "execution_count": 84,
      "metadata": {},
      "outputs": [],
      "source": [
        "X = df_proc.drop(columns= 'Complain', axis= 1)\n",
        "y = df_proc.Complain"
      ]
    },
    {
      "cell_type": "code",
      "execution_count": 85,
      "metadata": {},
      "outputs": [
        {
          "data": {
            "text/plain": [
              "(2212,)"
            ]
          },
          "execution_count": 85,
          "metadata": {},
          "output_type": "execute_result"
        }
      ],
      "source": [
        "y.shape"
      ]
    },
    {
      "cell_type": "code",
      "execution_count": 86,
      "metadata": {},
      "outputs": [
        {
          "name": "stdout",
          "output_type": "stream",
          "text": [
            "DataSet original com 32 atributos e 2240 observações\n",
            "As Variáveis Explicatórias possuem 24 atributos e 2212 observações\n",
            "A Variável Alvo possuem (2212,) observações\n"
          ]
        }
      ],
      "source": [
        "print('DataSet original com {} atributos e {} observações'.format(df.shape[1], df.shape[0]))\n",
        "print('As Variáveis Explicatórias possuem {} atributos e {} observações'.format(X.shape[1], X.shape[0]))\n",
        "print('A Variável Alvo possuem {} observações'.format(y.shape))"
      ]
    },
    {
      "cell_type": "markdown",
      "metadata": {},
      "source": [
        "O parâmetro **`stratify=True`** assegura que a divisão dos dados em **conjuntos de treino e teste** mantenha a **proporção original das classes** da variável alvo, evitando desequilíbrios entre as categorias.  \n",
        "\n",
        "Já o parâmetro **`shuffle=True`** tem a função de **embaralhar aleatoriamente** os dados antes da divisão, garantindo que a separação entre treino e teste ocorra de forma **aleatória**, reduzindo o risco de viés nos conjuntos."
      ]
    },
    {
      "cell_type": "code",
      "execution_count": 87,
      "metadata": {
        "id": "7Zr8jaXRTevY"
      },
      "outputs": [],
      "source": [
        "X_treino, X_teste, y_treino, y_teste = train_test_split(X, y, stratify=y, shuffle=True)"
      ]
    },
    {
      "cell_type": "code",
      "execution_count": 88,
      "metadata": {
        "colab": {
          "base_uri": "https://localhost:8080/"
        },
        "id": "mIfkcySMTg9g",
        "outputId": "8dedcc25-a22d-468c-f949-a09b7061a5d4"
      },
      "outputs": [
        {
          "name": "stdout",
          "output_type": "stream",
          "text": [
            "tamanho total dos dados são 2212, para treino temos 1659 e teste são 553\n"
          ]
        }
      ],
      "source": [
        "print('tamanho total dos dados são {}, para treino temos {} e teste são {}'.format(df_proc.shape[0], len(X_treino), len(X_teste)))"
      ]
    },
    {
      "cell_type": "markdown",
      "metadata": {
        "id": "bS8WPmnMoS8F"
      },
      "source": [
        "### 4.4 Feature Engineer"
      ]
    },
    {
      "cell_type": "markdown",
      "metadata": {
        "id": "iEIpsnuGovPA"
      },
      "source": [
        "#### 4.4.1.Balanceamento de classes\n",
        "\n",
        "São técnicas para manter um \"certo balancemanto\" entre as classes, pois se temos classe majoritária o modelo de *ML*, possivelmente aprenderá mais sobre ela, logo temos um problema -> **modelo sem generalização**, devemos evitar!!.\n",
        "\n",
        "Podemos utilizar:\n",
        "\n",
        "- **Oversampling (Superamostragem)**: Aumentar a quantidade de registros da classe minoritária por meio da duplicação de dados ou geração de novas amostras sintéticas, como a técnica **SMOTE** (*Synthetic Minority Over-sampling Technique*).  \n",
        "- **Undersampling (Subamostragem)**: Reduzir a quantidade de registros da classe majoritária, eliminando amostras redundantes para equilibrar a proporção entre as classes.  \n",
        "\n",
        "**ATENÇÃO 1**: o ideal é sempre aplicar as técnicas depois de realizar o split dos dados (treino e teste). Se aplicar o balancemento antes, o padrão usado para aplicar o oversampling/undersampling será o mesmo nos dados de treino e de teste, com isso a avaliação do modelo fica comprometida.\n",
        "\n",
        "**ATENÇÃO 2**: você ao tomar decisão de balancear os dados, diretamente está alterando seu conjunto de dados. Ou seja, saiba **o que** está fazendo e **para que** está fazendo!!!!"
      ]
    },
    {
      "cell_type": "markdown",
      "metadata": {},
      "source": [
        "##### 4.4.1.1 Usando *Oversampling*"
      ]
    },
    {
      "cell_type": "code",
      "execution_count": 89,
      "metadata": {
        "colab": {
          "base_uri": "https://localhost:8080/"
        },
        "id": "enfZDDXIcr4C",
        "outputId": "93baee4a-23ab-4a27-c4d7-1517ce2905d3"
      },
      "outputs": [
        {
          "name": "stdout",
          "output_type": "stream",
          "text": [
            "Distribuição antes SMOTE: Counter({0: 1644, 1: 15})\n",
            "Distribuição após SMOTE: Counter({0: 1644, 1: 1644})\n"
          ]
        }
      ],
      "source": [
        "# a. instanciar as classes dos métodos pretendidos\n",
        "smote = SMOTE(random_state=42)\n",
        "\n",
        "# b. usam método fit_sample() para usar a técnica\n",
        "X_resampled, y_resampled = smote.fit_resample(X_treino, y_treino)\n",
        "\n",
        "# Verificar a nova distribuição das classes\n",
        "print(\"Distribuição antes SMOTE:\", Counter(y_treino))\n",
        "print(\"Distribuição após SMOTE:\", Counter(y_resampled))"
      ]
    },
    {
      "cell_type": "markdown",
      "metadata": {},
      "source": [
        "Checando valores ausentes."
      ]
    },
    {
      "cell_type": "code",
      "execution_count": 90,
      "metadata": {
        "colab": {
          "base_uri": "https://localhost:8080/",
          "height": 398
        },
        "id": "O0Ffd3iceIdX",
        "outputId": "58b04918-0287-48e5-f355-893a30096f5c"
      },
      "outputs": [
        {
          "data": {
            "text/plain": [
              "Education               0\n",
              "Marital_Status          0\n",
              "Income                  0\n",
              "Recency                 0\n",
              "MntWines                0\n",
              "MntFruits               0\n",
              "MntMeatProducts         0\n",
              "MntFishProducts         0\n",
              "MntSweetProducts        0\n",
              "MntGoldProds            0\n",
              "NumDealsPurchases       0\n",
              "NumWebPurchases         0\n",
              "NumCatalogPurchases     0\n",
              "NumStorePurchases       0\n",
              "NumWebVisitsMonth       0\n",
              "AcceptedCmp3            0\n",
              "AcceptedCmp4            0\n",
              "AcceptedCmp5            0\n",
              "AcceptedCmp1            0\n",
              "AcceptedCmp2            0\n",
              "Response                0\n",
              "Age                     0\n",
              "Years_Since_Customer    0\n",
              "Total_filhos            0\n",
              "dtype: int64"
            ]
          },
          "execution_count": 90,
          "metadata": {},
          "output_type": "execute_result"
        }
      ],
      "source": [
        "X_resampled.isnull().sum()"
      ]
    },
    {
      "cell_type": "markdown",
      "metadata": {
        "id": "ptmuem1u6Y_J"
      },
      "source": [
        "= output: dados pré-processados e splitados para iniciar a construção do modelo de ML"
      ]
    },
    {
      "cell_type": "markdown",
      "metadata": {},
      "source": [
        "### **4.5 Avaliação de Multicolinearidade**\n",
        "\n",
        "A **multicolinearidade** ocorre quando variáveis independentes estão altamente correlacionadas, o que pode distorcer os **coeficientes** do modelo, dificultar a **interpretação** e reduzir a **precisão preditiva**.  \n",
        "\n",
        "Para detectar esse problema, utiliza-se o **Fator de Inflação da Variância (VIF)**, que indica o quanto a variância de um coeficiente é ampliada pela correlação entre variáveis.  \n",
        "\n",
        "**Interpretação do VIF:**  \n",
        "- **VIF ≈ 1:** Baixa correlação (**sem multicolinearidade**).  \n",
        "- **VIF > 10:** Indica **multicolinearidade severa**.\n",
        "\n",
        "**Tratamento da Multicolinearidade:**  \n",
        "- **Ajustar ou remover** variáveis com **VIF elevado** para melhorar a **robustez** e a **interpretabilidade** do modelo.  \n",
        "- Quando a remoção não for viável, aplicar **técnicas de regularização** como:  \n",
        "  - **Ridge Regression (L2):** Penaliza coeficientes grandes, suavizando o impacto de variáveis correlacionadas.  \n",
        "  - **Lasso Regression (L1):** Realiza **seleção de variáveis** ao reduzir coeficientes menos relevantes a zero.  \n",
        "\n",
        "Essas técnicas ajudam a mitigar a multicolinearidade sem a necessidade de excluir variáveis importantes."
      ]
    },
    {
      "cell_type": "code",
      "execution_count": 91,
      "metadata": {
        "colab": {
          "base_uri": "https://localhost:8080/"
        },
        "id": "8K97pHTvgJl1",
        "outputId": "93dee86d-d02f-4fed-da5d-97428c0497d7"
      },
      "outputs": [
        {
          "name": "stdout",
          "output_type": "stream",
          "text": [
            "Valores de VIF para cada variável:\n",
            "                 Feature         VIF\n",
            "0              Education    8.068871\n",
            "1         Marital_Status   16.821575\n",
            "2                 Income   40.592027\n",
            "3                Recency    5.972475\n",
            "4               MntWines    7.080768\n",
            "5              MntFruits    4.332739\n",
            "6        MntMeatProducts    5.726406\n",
            "7        MntFishProducts    4.348500\n",
            "8       MntSweetProducts    2.740258\n",
            "9           MntGoldProds    2.438703\n",
            "10     NumDealsPurchases    4.340176\n",
            "11       NumWebPurchases    8.099010\n",
            "12   NumCatalogPurchases    7.083520\n",
            "13     NumStorePurchases   12.706127\n",
            "14     NumWebVisitsMonth   20.584871\n",
            "15          AcceptedCmp3    1.230701\n",
            "16          AcceptedCmp4    1.464427\n",
            "17          AcceptedCmp5    1.762467\n",
            "18          AcceptedCmp1    1.483911\n",
            "19          AcceptedCmp2    1.196208\n",
            "20              Response    1.580624\n",
            "21                   Age   37.142746\n",
            "22  Years_Since_Customer  102.437615\n",
            "23          Total_filhos    5.287758\n"
          ]
        }
      ],
      "source": [
        "# X_resampled = X_resampled.replace([np.inf, -np.inf], np.nan)\n",
        "# X_resampled = X_resampled.dropna()\n",
        "\n",
        "vif_data = pd.DataFrame()\n",
        "vif_data['Feature'] = X_resampled.columns\n",
        "vif_data['VIF'] = [variance_inflation_factor(X_resampled.values, i) for i in range(X_resampled.shape[1])]\n",
        "\n",
        "print(\"Valores de VIF para cada variável:\")\n",
        "print(vif_data)"
      ]
    },
    {
      "cell_type": "markdown",
      "metadata": {
        "id": "ZbsDM2eQs6JZ"
      },
      "source": [
        "Pelas features que ficaram com valores acima de 10, sugere-no usar no precesso de regressão logística algurma técnica de regularização."
      ]
    },
    {
      "cell_type": "markdown",
      "metadata": {
        "id": "n4DsHFRQJWEV"
      },
      "source": [
        "## **5. Seleção de Algoritmos**"
      ]
    },
    {
      "cell_type": "markdown",
      "metadata": {},
      "source": [
        "### **5.1 Algoritmos de Classificação**\n",
        "\n",
        "A escolha do algoritmo de **classificação** mais adequado não é previsível, pois diferentes modelos podem apresentar desempenhos distintos dependendo das características dos dados. Por esse motivo, é essencial **ajustar** (*fit*) e **avaliar** diversos algoritmos de classificação no conjunto de dados. O objetivo é identificar o modelo que oferece o melhor **desempenho preditivo** e **generalização**.\n",
        "\n",
        "**Estratégia:**  \n",
        "- Treinaremos com os dados balanceados em com vários  **algoritmos de classificação**, considerando a natureza do problema que quermos resolver.\n",
        "- Utilizaremos **métricas de avaliação** apropriadas (ex.: **Acurácia**, **Precisão**, **Recall**, **F1-Score**, **AUC-ROC**) para determinar o melhor tratamento dos dados e seguir com ele para o modelo.\n",
        "- Faremos uso da Validação Cruzada.\n",
        "\n",
        "\n",
        "**Validação Cruzada (Cross-Validation)**\n",
        "\n",
        "Para evitar o **overfitting** (ajuste excessivo ao conjunto de treinamento) e garantir que o modelo tenha uma boa capacidade de **generalização**, aplicaremos a técnica de **Validação Cruzada (Cross-Validation)**.\n",
        "\n",
        "**Como Funciona:**  \n",
        "- O conjunto de dados é dividido em **k partes iguais** (*k-folds*), geralmente com **k = 5** (default da biblioteca usada) ou **k = 10**.  \n",
        "- O modelo é treinado em **k-1 folds** e testado no fold restante.  \n",
        "- Esse processo é repetido **k vezes**, alternando o fold de validação.  \n",
        "- Ao final, a **média** e o **desvio padrão** das métricas de desempenho são calculados, proporcionando uma avaliação mais **estável** e **confiável**.\n",
        "\n",
        "**Vantagens da Validação Cruzada:**  \n",
        "- **Reduz a variância** dos resultados em comparação com uma simples divisão treino/teste.  \n",
        "- **Maximiza o uso dos dados**, já que cada amostra participa do treinamento e da validação.  \n",
        "- Proporciona uma **avaliação mais robusta** do modelo.\n",
        "\n",
        "**Importante:**  \n",
        "- A escolha adequada de **k** é fundamental. Valores muito baixos podem gerar avaliações instáveis, enquanto valores muito altos aumentam o **custo computacional**.  \n",
        "- O valor de **k** deve ser definido considerando o tamanho do dataset e o tempo de processamento disponível.\n"
      ]
    },
    {
      "cell_type": "code",
      "execution_count": 92,
      "metadata": {
        "id": "GluiFkBsLYX_"
      },
      "outputs": [],
      "source": [
        "# (a) instancia as classes dos algoritmos\n",
        "\n",
        "algoritmos = [\n",
        "              RandomForestClassifier(),\n",
        "              DecisionTreeClassifier(),\n",
        "              SGDClassifier(),\n",
        "              SVC(),\n",
        "              LogisticRegression(),\n",
        "              #XGBClassifier(),\n",
        "              LGBMClassifier()\n",
        "              ]"
      ]
    },
    {
      "cell_type": "code",
      "execution_count": 93,
      "metadata": {
        "colab": {
          "base_uri": "https://localhost:8080/",
          "height": 81
        },
        "id": "NgdncgXHda_1",
        "outputId": "bb312f2a-63c4-42d9-87cf-72f797a4ecd3"
      },
      "outputs": [
        {
          "name": "stdout",
          "output_type": "stream",
          "text": [
            "Usando dados bancalanceados com a técnica de OverSampling\n",
            "Usando dados bancalanceados com a técnica de OverSampling\n",
            "Usando dados bancalanceados com a técnica de OverSampling\n",
            "Usando dados bancalanceados com a técnica de OverSampling\n",
            "Usando dados bancalanceados com a técnica de OverSampling\n",
            "[LightGBM] [Info] Number of positive: 1315, number of negative: 1315\n",
            "[LightGBM] [Info] Auto-choosing col-wise multi-threading, the overhead of testing was 0.000503 seconds.\n",
            "You can set `force_col_wise=true` to remove the overhead.\n",
            "[LightGBM] [Info] Total Bins 1826\n",
            "[LightGBM] [Info] Number of data points in the train set: 2630, number of used features: 24\n",
            "[LightGBM] [Info] [binary:BoostFromScore]: pavg=0.500000 -> initscore=0.000000\n",
            "[LightGBM] [Info] Number of positive: 1315, number of negative: 1315\n",
            "[LightGBM] [Info] Auto-choosing col-wise multi-threading, the overhead of testing was 0.000400 seconds.\n",
            "You can set `force_col_wise=true` to remove the overhead.\n",
            "[LightGBM] [Info] Total Bins 1838\n",
            "[LightGBM] [Info] Number of data points in the train set: 2630, number of used features: 23\n",
            "[LightGBM] [Info] [binary:BoostFromScore]: pavg=0.500000 -> initscore=0.000000\n",
            "[LightGBM] [Info] Number of positive: 1315, number of negative: 1315\n",
            "[LightGBM] [Info] Auto-choosing col-wise multi-threading, the overhead of testing was 0.000400 seconds.\n",
            "You can set `force_col_wise=true` to remove the overhead.\n",
            "[LightGBM] [Info] Total Bins 1835\n",
            "[LightGBM] [Info] Number of data points in the train set: 2630, number of used features: 23\n",
            "[LightGBM] [Info] [binary:BoostFromScore]: pavg=0.500000 -> initscore=0.000000\n",
            "[LightGBM] [Info] Number of positive: 1316, number of negative: 1315\n",
            "[LightGBM] [Info] Auto-choosing col-wise multi-threading, the overhead of testing was 0.000489 seconds.\n",
            "You can set `force_col_wise=true` to remove the overhead.\n",
            "[LightGBM] [Info] Total Bins 1833\n",
            "[LightGBM] [Info] Number of data points in the train set: 2631, number of used features: 23\n",
            "[LightGBM] [Info] [binary:BoostFromScore]: pavg=0.500190 -> initscore=0.000760\n",
            "[LightGBM] [Info] Start training from score 0.000760\n",
            "[LightGBM] [Info] Number of positive: 1315, number of negative: 1316\n",
            "[LightGBM] [Info] Auto-choosing col-wise multi-threading, the overhead of testing was 0.000421 seconds.\n",
            "You can set `force_col_wise=true` to remove the overhead.\n",
            "[LightGBM] [Info] Total Bins 1824\n",
            "[LightGBM] [Info] Number of data points in the train set: 2631, number of used features: 23\n",
            "[LightGBM] [Info] [binary:BoostFromScore]: pavg=0.499810 -> initscore=-0.000760\n",
            "[LightGBM] [Info] Start training from score -0.000760\n",
            "Usando dados bancalanceados com a técnica de OverSampling\n"
          ]
        },
        {
          "data": {
            "text/html": [
              "<div>\n",
              "<style scoped>\n",
              "    .dataframe tbody tr th:only-of-type {\n",
              "        vertical-align: middle;\n",
              "    }\n",
              "\n",
              "    .dataframe tbody tr th {\n",
              "        vertical-align: top;\n",
              "    }\n",
              "\n",
              "    .dataframe thead th {\n",
              "        text-align: right;\n",
              "    }\n",
              "</style>\n",
              "<table border=\"1\" class=\"dataframe\">\n",
              "  <thead>\n",
              "    <tr style=\"text-align: right;\">\n",
              "      <th></th>\n",
              "      <th>Estimator</th>\n",
              "      <th>Score médio</th>\n",
              "    </tr>\n",
              "  </thead>\n",
              "  <tbody>\n",
              "    <tr>\n",
              "      <th>0</th>\n",
              "      <td>RandomForestClassifier</td>\n",
              "      <td>0.995135</td>\n",
              "    </tr>\n",
              "    <tr>\n",
              "      <th>1</th>\n",
              "      <td>DecisionTreeClassifier</td>\n",
              "      <td>0.992097</td>\n",
              "    </tr>\n",
              "    <tr>\n",
              "      <th>2</th>\n",
              "      <td>SGDClassifier</td>\n",
              "      <td>0.400000</td>\n",
              "    </tr>\n",
              "    <tr>\n",
              "      <th>3</th>\n",
              "      <td>SVC</td>\n",
              "      <td>0.630163</td>\n",
              "    </tr>\n",
              "    <tr>\n",
              "      <th>4</th>\n",
              "      <td>LogisticRegression</td>\n",
              "      <td>0.794414</td>\n",
              "    </tr>\n",
              "    <tr>\n",
              "      <th>5</th>\n",
              "      <td>LGBMClassifier</td>\n",
              "      <td>0.995137</td>\n",
              "    </tr>\n",
              "  </tbody>\n",
              "</table>\n",
              "</div>"
            ],
            "text/plain": [
              "                Estimator  Score médio\n",
              "0  RandomForestClassifier     0.995135\n",
              "1  DecisionTreeClassifier     0.992097\n",
              "2           SGDClassifier     0.400000\n",
              "3                     SVC     0.630163\n",
              "4      LogisticRegression     0.794414\n",
              "5          LGBMClassifier     0.995137"
            ]
          },
          "execution_count": 93,
          "metadata": {},
          "output_type": "execute_result"
        }
      ],
      "source": [
        "# (b) com dados balanceado com a técinca de OverSampling\n",
        "score_modelo = []\n",
        "for classificador in algoritmos:\n",
        "    score = cross_val_score(classificador,\n",
        "                            X_resampled,\n",
        "                            y_resampled,\n",
        "                            scoring='recall')\n",
        "    score_modelo.append(\n",
        "        {'Estimator':classificador.__class__.__name__, 'Score médio':score.mean()}\n",
        "        )\n",
        "    print('Usando dados bancalanceados com a técnica de OverSampling')\n",
        "pd.DataFrame(score_modelo)"
      ]
    },
    {
      "cell_type": "markdown",
      "metadata": {},
      "source": [
        "----"
      ]
    },
    {
      "cell_type": "markdown",
      "metadata": {
        "id": "YA-eOOvjsXbO"
      },
      "source": [
        "Ao utilizar os dados balanceados por meio da técnica de **undersampling**, obtivemos o melhor desempenho em termos de **_Recall_** para o estimador **RandomForestClassifier**. Essa métrica é fundamental em problemas de **classificação desbalanceada**, pois avalia a capacidade do modelo em identificar corretamente as instâncias da **classe positiva**.\n",
        "\n",
        "**Recall** = Verdadeiros Positivos / (Verdadeiros Positivos + Falsos Negativos)\n",
        "\n",
        "\n",
        "**Interpretação:**  \n",
        "- O **denominador** da fórmula considera tanto as previsões **corretas** (**Verdadeiros Positivos**) quanto as **falhas** na identificação da classe positiva (**Falsos Negativos**).  \n",
        "- Um valor elevado de **Recall** indica que o modelo é eficaz em capturar a **maioria das instâncias positivas**, reduzindo o risco de deixar de identificar casos relevantes. No entanto, pela quantidade de dados que temos e o próprio desbalanceamento das classes, podemos estar diante de um problema de  *underfitting*, quando o modelo \"simplesmente decora\" os pontos do conjunto de dados sem aprender generalizações úteis.\n",
        "\n",
        "Usaremos agora apenas o Random Forest utilizando os dados balanceados no intuido de investicar problemas de underfitting."
      ]
    },
    {
      "cell_type": "code",
      "execution_count": 94,
      "metadata": {
        "colab": {
          "base_uri": "https://localhost:8080/"
        },
        "id": "L3Q3p4Kvhlpa",
        "outputId": "95b41bbd-3119-4807-fd92-a1758c70679a"
      },
      "outputs": [
        {
          "data": {
            "text/html": [
              "<style>#sk-container-id-1 {\n",
              "  /* Definition of color scheme common for light and dark mode */\n",
              "  --sklearn-color-text: black;\n",
              "  --sklearn-color-line: gray;\n",
              "  /* Definition of color scheme for unfitted estimators */\n",
              "  --sklearn-color-unfitted-level-0: #fff5e6;\n",
              "  --sklearn-color-unfitted-level-1: #f6e4d2;\n",
              "  --sklearn-color-unfitted-level-2: #ffe0b3;\n",
              "  --sklearn-color-unfitted-level-3: chocolate;\n",
              "  /* Definition of color scheme for fitted estimators */\n",
              "  --sklearn-color-fitted-level-0: #f0f8ff;\n",
              "  --sklearn-color-fitted-level-1: #d4ebff;\n",
              "  --sklearn-color-fitted-level-2: #b3dbfd;\n",
              "  --sklearn-color-fitted-level-3: cornflowerblue;\n",
              "\n",
              "  /* Specific color for light theme */\n",
              "  --sklearn-color-text-on-default-background: var(--sg-text-color, var(--theme-code-foreground, var(--jp-content-font-color1, black)));\n",
              "  --sklearn-color-background: var(--sg-background-color, var(--theme-background, var(--jp-layout-color0, white)));\n",
              "  --sklearn-color-border-box: var(--sg-text-color, var(--theme-code-foreground, var(--jp-content-font-color1, black)));\n",
              "  --sklearn-color-icon: #696969;\n",
              "\n",
              "  @media (prefers-color-scheme: dark) {\n",
              "    /* Redefinition of color scheme for dark theme */\n",
              "    --sklearn-color-text-on-default-background: var(--sg-text-color, var(--theme-code-foreground, var(--jp-content-font-color1, white)));\n",
              "    --sklearn-color-background: var(--sg-background-color, var(--theme-background, var(--jp-layout-color0, #111)));\n",
              "    --sklearn-color-border-box: var(--sg-text-color, var(--theme-code-foreground, var(--jp-content-font-color1, white)));\n",
              "    --sklearn-color-icon: #878787;\n",
              "  }\n",
              "}\n",
              "\n",
              "#sk-container-id-1 {\n",
              "  color: var(--sklearn-color-text);\n",
              "}\n",
              "\n",
              "#sk-container-id-1 pre {\n",
              "  padding: 0;\n",
              "}\n",
              "\n",
              "#sk-container-id-1 input.sk-hidden--visually {\n",
              "  border: 0;\n",
              "  clip: rect(1px 1px 1px 1px);\n",
              "  clip: rect(1px, 1px, 1px, 1px);\n",
              "  height: 1px;\n",
              "  margin: -1px;\n",
              "  overflow: hidden;\n",
              "  padding: 0;\n",
              "  position: absolute;\n",
              "  width: 1px;\n",
              "}\n",
              "\n",
              "#sk-container-id-1 div.sk-dashed-wrapped {\n",
              "  border: 1px dashed var(--sklearn-color-line);\n",
              "  margin: 0 0.4em 0.5em 0.4em;\n",
              "  box-sizing: border-box;\n",
              "  padding-bottom: 0.4em;\n",
              "  background-color: var(--sklearn-color-background);\n",
              "}\n",
              "\n",
              "#sk-container-id-1 div.sk-container {\n",
              "  /* jupyter's `normalize.less` sets `[hidden] { display: none; }`\n",
              "     but bootstrap.min.css set `[hidden] { display: none !important; }`\n",
              "     so we also need the `!important` here to be able to override the\n",
              "     default hidden behavior on the sphinx rendered scikit-learn.org.\n",
              "     See: https://github.com/scikit-learn/scikit-learn/issues/21755 */\n",
              "  display: inline-block !important;\n",
              "  position: relative;\n",
              "}\n",
              "\n",
              "#sk-container-id-1 div.sk-text-repr-fallback {\n",
              "  display: none;\n",
              "}\n",
              "\n",
              "div.sk-parallel-item,\n",
              "div.sk-serial,\n",
              "div.sk-item {\n",
              "  /* draw centered vertical line to link estimators */\n",
              "  background-image: linear-gradient(var(--sklearn-color-text-on-default-background), var(--sklearn-color-text-on-default-background));\n",
              "  background-size: 2px 100%;\n",
              "  background-repeat: no-repeat;\n",
              "  background-position: center center;\n",
              "}\n",
              "\n",
              "/* Parallel-specific style estimator block */\n",
              "\n",
              "#sk-container-id-1 div.sk-parallel-item::after {\n",
              "  content: \"\";\n",
              "  width: 100%;\n",
              "  border-bottom: 2px solid var(--sklearn-color-text-on-default-background);\n",
              "  flex-grow: 1;\n",
              "}\n",
              "\n",
              "#sk-container-id-1 div.sk-parallel {\n",
              "  display: flex;\n",
              "  align-items: stretch;\n",
              "  justify-content: center;\n",
              "  background-color: var(--sklearn-color-background);\n",
              "  position: relative;\n",
              "}\n",
              "\n",
              "#sk-container-id-1 div.sk-parallel-item {\n",
              "  display: flex;\n",
              "  flex-direction: column;\n",
              "}\n",
              "\n",
              "#sk-container-id-1 div.sk-parallel-item:first-child::after {\n",
              "  align-self: flex-end;\n",
              "  width: 50%;\n",
              "}\n",
              "\n",
              "#sk-container-id-1 div.sk-parallel-item:last-child::after {\n",
              "  align-self: flex-start;\n",
              "  width: 50%;\n",
              "}\n",
              "\n",
              "#sk-container-id-1 div.sk-parallel-item:only-child::after {\n",
              "  width: 0;\n",
              "}\n",
              "\n",
              "/* Serial-specific style estimator block */\n",
              "\n",
              "#sk-container-id-1 div.sk-serial {\n",
              "  display: flex;\n",
              "  flex-direction: column;\n",
              "  align-items: center;\n",
              "  background-color: var(--sklearn-color-background);\n",
              "  padding-right: 1em;\n",
              "  padding-left: 1em;\n",
              "}\n",
              "\n",
              "\n",
              "/* Toggleable style: style used for estimator/Pipeline/ColumnTransformer box that is\n",
              "clickable and can be expanded/collapsed.\n",
              "- Pipeline and ColumnTransformer use this feature and define the default style\n",
              "- Estimators will overwrite some part of the style using the `sk-estimator` class\n",
              "*/\n",
              "\n",
              "/* Pipeline and ColumnTransformer style (default) */\n",
              "\n",
              "#sk-container-id-1 div.sk-toggleable {\n",
              "  /* Default theme specific background. It is overwritten whether we have a\n",
              "  specific estimator or a Pipeline/ColumnTransformer */\n",
              "  background-color: var(--sklearn-color-background);\n",
              "}\n",
              "\n",
              "/* Toggleable label */\n",
              "#sk-container-id-1 label.sk-toggleable__label {\n",
              "  cursor: pointer;\n",
              "  display: block;\n",
              "  width: 100%;\n",
              "  margin-bottom: 0;\n",
              "  padding: 0.5em;\n",
              "  box-sizing: border-box;\n",
              "  text-align: center;\n",
              "}\n",
              "\n",
              "#sk-container-id-1 label.sk-toggleable__label-arrow:before {\n",
              "  /* Arrow on the left of the label */\n",
              "  content: \"▸\";\n",
              "  float: left;\n",
              "  margin-right: 0.25em;\n",
              "  color: var(--sklearn-color-icon);\n",
              "}\n",
              "\n",
              "#sk-container-id-1 label.sk-toggleable__label-arrow:hover:before {\n",
              "  color: var(--sklearn-color-text);\n",
              "}\n",
              "\n",
              "/* Toggleable content - dropdown */\n",
              "\n",
              "#sk-container-id-1 div.sk-toggleable__content {\n",
              "  max-height: 0;\n",
              "  max-width: 0;\n",
              "  overflow: hidden;\n",
              "  text-align: left;\n",
              "  /* unfitted */\n",
              "  background-color: var(--sklearn-color-unfitted-level-0);\n",
              "}\n",
              "\n",
              "#sk-container-id-1 div.sk-toggleable__content.fitted {\n",
              "  /* fitted */\n",
              "  background-color: var(--sklearn-color-fitted-level-0);\n",
              "}\n",
              "\n",
              "#sk-container-id-1 div.sk-toggleable__content pre {\n",
              "  margin: 0.2em;\n",
              "  border-radius: 0.25em;\n",
              "  color: var(--sklearn-color-text);\n",
              "  /* unfitted */\n",
              "  background-color: var(--sklearn-color-unfitted-level-0);\n",
              "}\n",
              "\n",
              "#sk-container-id-1 div.sk-toggleable__content.fitted pre {\n",
              "  /* unfitted */\n",
              "  background-color: var(--sklearn-color-fitted-level-0);\n",
              "}\n",
              "\n",
              "#sk-container-id-1 input.sk-toggleable__control:checked~div.sk-toggleable__content {\n",
              "  /* Expand drop-down */\n",
              "  max-height: 200px;\n",
              "  max-width: 100%;\n",
              "  overflow: auto;\n",
              "}\n",
              "\n",
              "#sk-container-id-1 input.sk-toggleable__control:checked~label.sk-toggleable__label-arrow:before {\n",
              "  content: \"▾\";\n",
              "}\n",
              "\n",
              "/* Pipeline/ColumnTransformer-specific style */\n",
              "\n",
              "#sk-container-id-1 div.sk-label input.sk-toggleable__control:checked~label.sk-toggleable__label {\n",
              "  color: var(--sklearn-color-text);\n",
              "  background-color: var(--sklearn-color-unfitted-level-2);\n",
              "}\n",
              "\n",
              "#sk-container-id-1 div.sk-label.fitted input.sk-toggleable__control:checked~label.sk-toggleable__label {\n",
              "  background-color: var(--sklearn-color-fitted-level-2);\n",
              "}\n",
              "\n",
              "/* Estimator-specific style */\n",
              "\n",
              "/* Colorize estimator box */\n",
              "#sk-container-id-1 div.sk-estimator input.sk-toggleable__control:checked~label.sk-toggleable__label {\n",
              "  /* unfitted */\n",
              "  background-color: var(--sklearn-color-unfitted-level-2);\n",
              "}\n",
              "\n",
              "#sk-container-id-1 div.sk-estimator.fitted input.sk-toggleable__control:checked~label.sk-toggleable__label {\n",
              "  /* fitted */\n",
              "  background-color: var(--sklearn-color-fitted-level-2);\n",
              "}\n",
              "\n",
              "#sk-container-id-1 div.sk-label label.sk-toggleable__label,\n",
              "#sk-container-id-1 div.sk-label label {\n",
              "  /* The background is the default theme color */\n",
              "  color: var(--sklearn-color-text-on-default-background);\n",
              "}\n",
              "\n",
              "/* On hover, darken the color of the background */\n",
              "#sk-container-id-1 div.sk-label:hover label.sk-toggleable__label {\n",
              "  color: var(--sklearn-color-text);\n",
              "  background-color: var(--sklearn-color-unfitted-level-2);\n",
              "}\n",
              "\n",
              "/* Label box, darken color on hover, fitted */\n",
              "#sk-container-id-1 div.sk-label.fitted:hover label.sk-toggleable__label.fitted {\n",
              "  color: var(--sklearn-color-text);\n",
              "  background-color: var(--sklearn-color-fitted-level-2);\n",
              "}\n",
              "\n",
              "/* Estimator label */\n",
              "\n",
              "#sk-container-id-1 div.sk-label label {\n",
              "  font-family: monospace;\n",
              "  font-weight: bold;\n",
              "  display: inline-block;\n",
              "  line-height: 1.2em;\n",
              "}\n",
              "\n",
              "#sk-container-id-1 div.sk-label-container {\n",
              "  text-align: center;\n",
              "}\n",
              "\n",
              "/* Estimator-specific */\n",
              "#sk-container-id-1 div.sk-estimator {\n",
              "  font-family: monospace;\n",
              "  border: 1px dotted var(--sklearn-color-border-box);\n",
              "  border-radius: 0.25em;\n",
              "  box-sizing: border-box;\n",
              "  margin-bottom: 0.5em;\n",
              "  /* unfitted */\n",
              "  background-color: var(--sklearn-color-unfitted-level-0);\n",
              "}\n",
              "\n",
              "#sk-container-id-1 div.sk-estimator.fitted {\n",
              "  /* fitted */\n",
              "  background-color: var(--sklearn-color-fitted-level-0);\n",
              "}\n",
              "\n",
              "/* on hover */\n",
              "#sk-container-id-1 div.sk-estimator:hover {\n",
              "  /* unfitted */\n",
              "  background-color: var(--sklearn-color-unfitted-level-2);\n",
              "}\n",
              "\n",
              "#sk-container-id-1 div.sk-estimator.fitted:hover {\n",
              "  /* fitted */\n",
              "  background-color: var(--sklearn-color-fitted-level-2);\n",
              "}\n",
              "\n",
              "/* Specification for estimator info (e.g. \"i\" and \"?\") */\n",
              "\n",
              "/* Common style for \"i\" and \"?\" */\n",
              "\n",
              ".sk-estimator-doc-link,\n",
              "a:link.sk-estimator-doc-link,\n",
              "a:visited.sk-estimator-doc-link {\n",
              "  float: right;\n",
              "  font-size: smaller;\n",
              "  line-height: 1em;\n",
              "  font-family: monospace;\n",
              "  background-color: var(--sklearn-color-background);\n",
              "  border-radius: 1em;\n",
              "  height: 1em;\n",
              "  width: 1em;\n",
              "  text-decoration: none !important;\n",
              "  margin-left: 1ex;\n",
              "  /* unfitted */\n",
              "  border: var(--sklearn-color-unfitted-level-1) 1pt solid;\n",
              "  color: var(--sklearn-color-unfitted-level-1);\n",
              "}\n",
              "\n",
              ".sk-estimator-doc-link.fitted,\n",
              "a:link.sk-estimator-doc-link.fitted,\n",
              "a:visited.sk-estimator-doc-link.fitted {\n",
              "  /* fitted */\n",
              "  border: var(--sklearn-color-fitted-level-1) 1pt solid;\n",
              "  color: var(--sklearn-color-fitted-level-1);\n",
              "}\n",
              "\n",
              "/* On hover */\n",
              "div.sk-estimator:hover .sk-estimator-doc-link:hover,\n",
              ".sk-estimator-doc-link:hover,\n",
              "div.sk-label-container:hover .sk-estimator-doc-link:hover,\n",
              ".sk-estimator-doc-link:hover {\n",
              "  /* unfitted */\n",
              "  background-color: var(--sklearn-color-unfitted-level-3);\n",
              "  color: var(--sklearn-color-background);\n",
              "  text-decoration: none;\n",
              "}\n",
              "\n",
              "div.sk-estimator.fitted:hover .sk-estimator-doc-link.fitted:hover,\n",
              ".sk-estimator-doc-link.fitted:hover,\n",
              "div.sk-label-container:hover .sk-estimator-doc-link.fitted:hover,\n",
              ".sk-estimator-doc-link.fitted:hover {\n",
              "  /* fitted */\n",
              "  background-color: var(--sklearn-color-fitted-level-3);\n",
              "  color: var(--sklearn-color-background);\n",
              "  text-decoration: none;\n",
              "}\n",
              "\n",
              "/* Span, style for the box shown on hovering the info icon */\n",
              ".sk-estimator-doc-link span {\n",
              "  display: none;\n",
              "  z-index: 9999;\n",
              "  position: relative;\n",
              "  font-weight: normal;\n",
              "  right: .2ex;\n",
              "  padding: .5ex;\n",
              "  margin: .5ex;\n",
              "  width: min-content;\n",
              "  min-width: 20ex;\n",
              "  max-width: 50ex;\n",
              "  color: var(--sklearn-color-text);\n",
              "  box-shadow: 2pt 2pt 4pt #999;\n",
              "  /* unfitted */\n",
              "  background: var(--sklearn-color-unfitted-level-0);\n",
              "  border: .5pt solid var(--sklearn-color-unfitted-level-3);\n",
              "}\n",
              "\n",
              ".sk-estimator-doc-link.fitted span {\n",
              "  /* fitted */\n",
              "  background: var(--sklearn-color-fitted-level-0);\n",
              "  border: var(--sklearn-color-fitted-level-3);\n",
              "}\n",
              "\n",
              ".sk-estimator-doc-link:hover span {\n",
              "  display: block;\n",
              "}\n",
              "\n",
              "/* \"?\"-specific style due to the `<a>` HTML tag */\n",
              "\n",
              "#sk-container-id-1 a.estimator_doc_link {\n",
              "  float: right;\n",
              "  font-size: 1rem;\n",
              "  line-height: 1em;\n",
              "  font-family: monospace;\n",
              "  background-color: var(--sklearn-color-background);\n",
              "  border-radius: 1rem;\n",
              "  height: 1rem;\n",
              "  width: 1rem;\n",
              "  text-decoration: none;\n",
              "  /* unfitted */\n",
              "  color: var(--sklearn-color-unfitted-level-1);\n",
              "  border: var(--sklearn-color-unfitted-level-1) 1pt solid;\n",
              "}\n",
              "\n",
              "#sk-container-id-1 a.estimator_doc_link.fitted {\n",
              "  /* fitted */\n",
              "  border: var(--sklearn-color-fitted-level-1) 1pt solid;\n",
              "  color: var(--sklearn-color-fitted-level-1);\n",
              "}\n",
              "\n",
              "/* On hover */\n",
              "#sk-container-id-1 a.estimator_doc_link:hover {\n",
              "  /* unfitted */\n",
              "  background-color: var(--sklearn-color-unfitted-level-3);\n",
              "  color: var(--sklearn-color-background);\n",
              "  text-decoration: none;\n",
              "}\n",
              "\n",
              "#sk-container-id-1 a.estimator_doc_link.fitted:hover {\n",
              "  /* fitted */\n",
              "  background-color: var(--sklearn-color-fitted-level-3);\n",
              "}\n",
              "</style><div id=\"sk-container-id-1\" class=\"sk-top-container\"><div class=\"sk-text-repr-fallback\"><pre>RandomForestClassifier(class_weight=&#x27;balanced&#x27;, max_depth=1, random_state=42)</pre><b>In a Jupyter environment, please rerun this cell to show the HTML representation or trust the notebook. <br />On GitHub, the HTML representation is unable to render, please try loading this page with nbviewer.org.</b></div><div class=\"sk-container\" hidden><div class=\"sk-item\"><div class=\"sk-estimator fitted sk-toggleable\"><input class=\"sk-toggleable__control sk-hidden--visually\" id=\"sk-estimator-id-1\" type=\"checkbox\" checked><label for=\"sk-estimator-id-1\" class=\"sk-toggleable__label fitted sk-toggleable__label-arrow fitted\">&nbsp;&nbsp;RandomForestClassifier<a class=\"sk-estimator-doc-link fitted\" rel=\"noreferrer\" target=\"_blank\" href=\"https://scikit-learn.org/1.5/modules/generated/sklearn.ensemble.RandomForestClassifier.html\">?<span>Documentation for RandomForestClassifier</span></a><span class=\"sk-estimator-doc-link fitted\">i<span>Fitted</span></span></label><div class=\"sk-toggleable__content fitted\"><pre>RandomForestClassifier(class_weight=&#x27;balanced&#x27;, max_depth=1, random_state=42)</pre></div> </div></div></div></div>"
            ],
            "text/plain": [
              "RandomForestClassifier(class_weight='balanced', max_depth=1, random_state=42)"
            ]
          },
          "execution_count": 94,
          "metadata": {},
          "output_type": "execute_result"
        }
      ],
      "source": [
        "# Instanciar o modelo\n",
        "rf = RandomForestClassifier(\n",
        "    n_estimators=100,\n",
        "    max_depth=1,               \n",
        "    min_samples_split=2,       \n",
        "    min_samples_leaf=1,        \n",
        "    max_features='sqrt',       \n",
        "    random_state=42,\n",
        "    class_weight='balanced'\n",
        ")\n",
        "\n",
        "# Treinar o modelo\n",
        "rf.fit(X_resampled, y_resampled)"
      ]
    },
    {
      "cell_type": "code",
      "execution_count": 95,
      "metadata": {
        "colab": {
          "base_uri": "https://localhost:8080/",
          "height": 781
        },
        "id": "avWdvXDjxBKQ",
        "outputId": "e92a2e93-7e02-43df-f1fe-fc6f68910105"
      },
      "outputs": [
        {
          "name": "stdout",
          "output_type": "stream",
          "text": [
            "                 Feature  Importance\n",
            "0              Education        0.17\n",
            "4               MntWines        0.12\n",
            "1         Marital_Status        0.11\n",
            "12   NumCatalogPurchases        0.11\n",
            "13     NumStorePurchases        0.10\n",
            "20              Response        0.09\n",
            "6        MntMeatProducts        0.08\n",
            "2                 Income        0.05\n",
            "22  Years_Since_Customer        0.04\n",
            "3                Recency        0.03\n",
            "7        MntFishProducts        0.03\n",
            "17          AcceptedCmp5        0.02\n",
            "8       MntSweetProducts        0.02\n",
            "21                   Age        0.02\n",
            "16          AcceptedCmp4        0.01\n",
            "19          AcceptedCmp2        0.00\n",
            "18          AcceptedCmp1        0.00\n",
            "14     NumWebVisitsMonth        0.00\n",
            "15          AcceptedCmp3        0.00\n",
            "5              MntFruits        0.00\n",
            "11       NumWebPurchases        0.00\n",
            "10     NumDealsPurchases        0.00\n",
            "9           MntGoldProds        0.00\n",
            "23          Total_filhos        0.00\n"
          ]
        }
      ],
      "source": [
        "# Extrair as importâncias das variáveis\n",
        "feature_importances = rf.feature_importances_\n",
        "\n",
        "# Criar um DataFrame com os nomes das variáveis e suas importâncias\n",
        "coef_df = pd.DataFrame({'Feature': X_resampled.columns, 'Importance': feature_importances})\n",
        "\n",
        "# Ordenar pelas importâncias\n",
        "print(coef_df.sort_values(by='Importance', ascending=False))"
      ]
    },
    {
      "cell_type": "markdown",
      "metadata": {},
      "source": [
        "**Variáveis Mais Relevantes**\n",
        "\n",
        "`Education` (17%): O nível de educação dos clientes é a variável mais importante, indicando que ela desempenha um papel significativo na previsão das reclamações.\n",
        "`MntWines` (12%): O gasto com vinhos também contribui, mostrando que hábitos de consumo em categorias específicas afetam o comportamento.\n",
        "`Marital_Status` (11%): O estado civil dos clientes também desempenha um papel relevante, possivelmente refletindo diferenças nas expectativas ou comportamentos de consumo entre grupos.\n",
        "`NumCatalogPurchases` (11%): O número de compras em catálogos de vendas possuem relevância, o que sugere que o comportamento de compra nesse canal está fortemente associado ao problema.\n",
        "`NumStorePurchases` (10%): O número de compras em lojas físicas tem alta relevância, o que sugere que o comportamento de compra nesse canal está fortemente associado ao problema.\n",
        "\n",
        "**Variáveis Moderadamente Relevantes**\n",
        "\n",
        "`Response` (9%) e NumCatalogPurchases (7%): A aceitação de campanhas recentes e compras por catálogo têm impacto semelhante no modelo.\n",
        "`MntMeatProducts` (8%): O gasto com carnes também contribui, mostrando que hábitos de consumo em categorias específicas afetam o comportamento."
      ]
    },
    {
      "cell_type": "code",
      "execution_count": 96,
      "metadata": {},
      "outputs": [
        {
          "data": {
            "image/png": "[encoded data removed]",
            "text/plain": [
              "<Figure size 800x600 with 1 Axes>"
            ]
          },
          "metadata": {},
          "output_type": "display_data"
        }
      ],
      "source": [
        "# Probabilidades previstas para a classe positiva (1)\n",
        "y_prob = rf.predict_proba(X_teste)[:, 1] \n",
        "\n",
        "# Curva ROC\n",
        "fpr, tpr, thresholds = roc_curve(y_teste, y_prob)\n",
        "auc = roc_auc_score(y_teste, y_prob)\n",
        "\n",
        "# Plot da Curva ROC\n",
        "plt.figure(figsize=(8, 6))\n",
        "plt.plot(fpr, tpr, label=f'AUC = {auc:.2f}', color='blue')\n",
        "plt.plot([0, 1], [0, 1], 'k--', label='Modelo Aleatório')\n",
        "plt.title('Curva ROC - Random Forest')\n",
        "plt.xlabel('Taxa de Falsos Positivos (FPR)')\n",
        "plt.ylabel('Taxa de Verdadeiros Positivos (TPR)')\n",
        "plt.legend(loc='lower right')\n",
        "plt.grid()\n",
        "plt.show()"
      ]
    },
    {
      "cell_type": "markdown",
      "metadata": {},
      "source": [
        "A Curva ROC (Receiver Operating Characteristic) é uma métrica de avaliação muito utilizada para modelos de classificação binária. Ela mede a capacidade do modelo em diferenciar entre as classes positiva e negativa.\n",
        "\n",
        "\n",
        "O valor de AUC = 0.56 é muito próximo de 0.5, que representa o desempenho de um modelo aleatório. Isso significa que o modelo não está aprendendo padrões significativos para diferenciar entre as classes e, na prática, está quase equivalente a realizar previsões ao acaso. Nos mostra que o modelo sofre de **underffiting**.\n"
      ]
    },
    {
      "cell_type": "code",
      "execution_count": 97,
      "metadata": {},
      "outputs": [
        {
          "name": "stdout",
          "output_type": "stream",
          "text": [
            "\n",
            "Relatório de Classificação:\n",
            "               precision    recall  f1-score   support\n",
            "\n",
            "           0       0.99      0.71      0.83       548\n",
            "           1       0.01      0.40      0.02         5\n",
            "\n",
            "    accuracy                           0.70       553\n",
            "   macro avg       0.50      0.55      0.42       553\n",
            "weighted avg       0.98      0.70      0.82       553\n",
            "\n"
          ]
        }
      ],
      "source": [
        "# Previsões de classe\n",
        "y_pred = rf.predict(X_teste)\n",
        "\n",
        "# Relatório de classificação\n",
        "print(\"\\nRelatório de Classificação:\\n\", classification_report(y_teste, y_pred))\n"
      ]
    },
    {
      "cell_type": "markdown",
      "metadata": {},
      "source": [
        "Classe 0 (Não reclamou) \n",
        "\n",
        "-> Precision: 0.99 -> Quase todas as previsões de não reclamou estão corretas.\n",
        "\n",
        "-> Recall:    0.71 -> O modelo identificou 71% dos clientes que realmente não reclamaram, mas deixou 29% de clientes sem serem corretamente previstos.\n",
        "\n",
        "-> F1-Score: 0.83 -> que combina precisão e recall para esta classe.\n",
        "\n",
        "\n",
        "Classe 1 (Reclamou)\n",
        "\n",
        "-> Precision: 0.01 -> Apenas 1% das previsões da classe reclamou (1) estão corretas. Isso é extremamente baixo, indicando que o modelo quase nunca identifica corretamente essa classe.\n",
        "\n",
        "-> Recall: 0.40 -> O modelo identificou apenas 40% dos clientes que realmente reclamaram. Ou seja, a maioria dos reclamantes foi classificada como não reclamou.\n",
        "\n",
        "-> F1-Score: 0.02 => Combina o desempenho ruim em precisão e recall, resultando em um valor extremamente baixo.\n",
        "\n",
        "\n",
        "Embora o modelo pareça performar bem na classe 0 (não reclamou), ele falha significativamente em identificar a classe 1 (reclamou), que é o foco principal do problema."
      ]
    },
    {
      "cell_type": "code",
      "execution_count": 98,
      "metadata": {
        "colab": {
          "base_uri": "https://localhost:8080/",
          "height": 807
        },
        "id": "xN11W9hIxBEg",
        "outputId": "79b1f6fc-3ca9-4a64-9579-af316239fd5f"
      },
      "outputs": [
        {
          "name": "stdout",
          "output_type": "stream",
          "text": [
            "Especificidade: 0.71\n"
          ]
        },
        {
          "data": {
            "image/png": "[encoded data removed]",
            "text/plain": [
              "<Figure size 640x480 with 2 Axes>"
            ]
          },
          "metadata": {},
          "output_type": "display_data"
        }
      ],
      "source": [
        "# Matriz de confusão\n",
        "cm = confusion_matrix(y_teste, y_pred)\n",
        "tn, fp, fn, tp = cm.ravel()\n",
        "\n",
        "# Especificidade\n",
        "specificity = tn / (tn + fp)\n",
        "print(f\"Especificidade: {specificity:.2f}\")\n",
        "\n",
        "# Exibição da Matriz de Confusão\n",
        "disp = ConfusionMatrixDisplay(confusion_matrix=cm, display_labels=rf.classes_)\n",
        "disp.plot(cmap='Blues', values_format='d')\n",
        "plt.title('Matriz de Confusão - Random Forest')\n",
        "plt.grid(False)\n",
        "plt.show()"
      ]
    },
    {
      "cell_type": "markdown",
      "metadata": {},
      "source": [
        "Verdadeiros Negativos (TN): 387 -> O modelo classificou corretamente 387 casos como não reclamou (classe 0).\n",
        "\n",
        "Falsos Positivos      (FP): 161  -> 161 casos foram classificados incorretamente como reclamou (classe 1), mas na verdade pertencem à classe 0.\n",
        "\n",
        "Falsos Negativos      (FN): 3  -> O modelo falhou ao identificar 3 clientes que saíram, classificando-os como permanecendo.\n",
        "\n",
        "Verdadeiros Positivos (TP): 2 -> O modelo corretamente identificou 2 clientes que saíram."
      ]
    },
    {
      "cell_type": "markdown",
      "metadata": {
        "id": "bvKmwNwyKcJw"
      },
      "source": [
        "A matriz de confusão é uma ferramenta essencial para identificar os erros cometidos pelo modelo e avaliar o impacto dessas falhas no negócio. No contexto de previsão de reclamações de clientes, é crucial compreender as consequências de cada tipo de erro para implementar estratégias de atendimento mais eficazes.\n",
        "\n",
        "Erro Tipo I (Falso Positivo - FP)\n",
        "Ocorre quando o modelo prediz que o cliente irá reclamar, mas, na realidade, ele não faz nenhuma reclamação, incorrendo na desnecesidade da alocação de recursos para esses clientes que de fato não estão insatisfeito. Acarreta tambem Ações de fidelização desnecessárias. Gerando desperdício de tempo e custos operacionais.\n",
        "\n",
        "Erro Tipo II (Falso Negativo - FN)\n",
        "Ocorre quando o modelo prediz que o cliente não irá reclamar, mas ele registra uma reclamação. Esse erro é mais crítico, pois a empresa falha em antecipar a insatisfação do cliente.\n",
        "\n",
        "\n",
        "A especificidade (também conhecida como taxa de verdadeiros negativos) mede a proporção de instâncias negativas que foram corretamente identificadas pelo modelo.\n",
        "\n",
        "Especificidade = Verdadeiros Negativos / (Verdadeiros Negativos + Falsos Positivos)\n",
        "\n",
        "Com esse valor de 71% significa que modelo errou ao classificar como positivo 29% das instâncias que eram negativas (29% de Falsos Positivos). Incoreu no erro do tipo ii.\n",
        " \n",
        "Embora o impacto de falsos positivos seja relevante, o recall da classe 1 (reclamações) é mais crítico neste problema. Isso porque identificar corretamente clientes que reclamarão permite agir de forma proativa, reduzindo insatisfações e potencialmente evitando impactos negativos maiores."
      ]
    },
    {
      "cell_type": "markdown",
      "metadata": {
        "id": "yY6LnXgVLvqY"
      },
      "source": [
        "  ## **Conclusões**\n",
        "\n",
        "O modelo de Random Forest desenvolvido para prever reclamações de clientes apresentou desempenho limitado em sua primeira versão. Apesar de uma acurácia geral de 73%, a análise detalhada revelou que o modelo sofre de underfitting, especialmente na identificação da classe 1 (clientes que reclamaram), com um recall de apenas 20% e uma precisão de 1% para essa classe. A Curva ROC, com AUC de 0.52, reforça que o modelo atual tem baixa capacidade de discriminação, sendo quase equivalente a um modelo aleatório.\n",
        "\n",
        "Destaca-se que o desempenho insatisfatório está diretamente relacionado ao desequilíbrio de classes, onde a maioria dos dados pertence à classe 0 (não reclamou), e à necessidade de ajustes nos hiperparâmetros e na engenharia de atributos. Além disso, variáveis com baixa importância no modelo podem estar contribuindo para a dificuldade em capturar padrões relevantes.\n",
        "\n",
        "**Ações Propostas para Melhorar o Modelo**:\n",
        "\n",
        "1. **Ajuste de Hiperparâmetros**:\n",
        "\n",
        "a) Explorar combinações de parâmetros como `max_depth`, `n_estimators` e `min_samples_split` por meio de técnicas que otimizam, exemplo **GridSearchCV** ou **RandomizedSearchCV**.\n",
        "\n",
        "2. **Engenharia de Atributos**:\n",
        "\n",
        "a) Revisar e criar novas variáveis que melhor representem os padrões de comportamento dos clientes.\n",
        "\n",
        "b) Remover variáveis irrelevantes com importância zero para simplificar o modelo.\n",
        "\n",
        "3. **Testar Novos Algoritmos**:\n",
        "\n",
        "a) Comparar o desempenho do Random Forest com outros modelos, como LightGBM, XGBoost, ou Logistic Regression com regularização, que podem ser mais adequados para o problema.\n",
        "\n",
        "4. **Refinar o Pré-Processamento**:\n",
        "\n",
        "a) Realizar uma análise mais aprofundada dos outliers e possíveis inconsistências nos dados que podem estar prejudicando o aprendizado do modelo.\n",
        "\n",
        "Este modelo representa apenas a primeira iteração dentro da metodologia CRISP-DM, que permite retornos às etapas anteriores para refinamentos. Com as ações propostas, espera-se desenvolver um modelo mais robusto e eficaz, capaz de identificar com maior precisão os clientes propensos a reclamar, proporcionando à empresa ferramentas para agir de forma proativa na melhoria da experiência do cliente."
      ]
    },
    {
      "cell_type": "markdown",
      "metadata": {},
      "source": [
        "___"
      ]
    }
  ],
  "metadata": {
    "anaconda-cloud": {},
    "colab": {
      "provenance": []
    },
    "kernelspec": {
      "display_name": "venv",
      "language": "python",
      "name": "python3"
    },
    "language_info": {
      "codemirror_mode": {
        "name": "ipython",
        "version": 3
      },
      "file_extension": ".py",
      "mimetype": "text/x-python",
      "name": "python",
      "nbconvert_exporter": "python",
      "pygments_lexer": "ipython3",
      "version": "3.12.3"
    }
  },
  "nbformat": 4,
  "nbformat_minor": 0
}
